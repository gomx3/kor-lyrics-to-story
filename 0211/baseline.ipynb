{
 "cells": [
  {
   "cell_type": "code",
   "execution_count": 1,
   "metadata": {},
   "outputs": [],
   "source": [
    "import os\n",
    "import pandas as pd\n",
    "import json"
   ]
  },
  {
   "cell_type": "code",
   "execution_count": 2,
   "metadata": {},
   "outputs": [
    {
     "name": "stderr",
     "output_type": "stream",
     "text": [
      "c:\\Users\\kimso\\anaconda3\\envs\\test\\lib\\site-packages\\tqdm\\auto.py:21: TqdmWarning: IProgress not found. Please update jupyter and ipywidgets. See https://ipywidgets.readthedocs.io/en/stable/user_install.html\n",
      "  from .autonotebook import tqdm as notebook_tqdm\n"
     ]
    }
   ],
   "source": [
    "import torch\n",
    "from transformers import GPT2LMHeadModel, PreTrainedTokenizerFast, Trainer, TrainingArguments\n",
    "from torch.utils.data import Dataset, DataLoader \n",
    "from sklearn.model_selection import train_test_split\n",
    "from sklearn.preprocessing import LabelEncoder"
   ]
  },
  {
   "cell_type": "markdown",
   "metadata": {},
   "source": [
    "### 데이터 불러오기"
   ]
  },
  {
   "cell_type": "markdown",
   "metadata": {},
   "source": [
    "#### 1. 가사"
   ]
  },
  {
   "cell_type": "code",
   "execution_count": 3,
   "metadata": {},
   "outputs": [],
   "source": [
    "lyrics1 = pd.read_csv(\"./dataset/label_result_song_short.csv\")\n",
    "lyrics2 = pd.read_csv(\"./dataset/translated_lyrics.csv\")\n",
    "\n",
    "lyrics = lyrics2.merge(lyrics1, on=[\"index\", \"id\", \"title\", \"singer\", \"genres\", \"lyrics\"])"
   ]
  },
  {
   "cell_type": "code",
   "execution_count": 4,
   "metadata": {},
   "outputs": [
    {
     "data": {
      "text/html": [
       "<div>\n",
       "<style scoped>\n",
       "    .dataframe tbody tr th:only-of-type {\n",
       "        vertical-align: middle;\n",
       "    }\n",
       "\n",
       "    .dataframe tbody tr th {\n",
       "        vertical-align: top;\n",
       "    }\n",
       "\n",
       "    .dataframe thead th {\n",
       "        text-align: right;\n",
       "    }\n",
       "</style>\n",
       "<table border=\"1\" class=\"dataframe\">\n",
       "  <thead>\n",
       "    <tr style=\"text-align: right;\">\n",
       "      <th></th>\n",
       "      <th>index</th>\n",
       "      <th>id</th>\n",
       "      <th>title</th>\n",
       "      <th>singer</th>\n",
       "      <th>genres</th>\n",
       "      <th>lyrics</th>\n",
       "      <th>translated_lyrics</th>\n",
       "      <th>sentiment</th>\n",
       "      <th>sentiment_label</th>\n",
       "    </tr>\n",
       "  </thead>\n",
       "  <tbody>\n",
       "    <tr>\n",
       "      <th>0</th>\n",
       "      <td>1</td>\n",
       "      <td>37140709</td>\n",
       "      <td>첫 만남은 계획대로 되지 않아</td>\n",
       "      <td>TWS (투어스)</td>\n",
       "      <td>댄스</td>\n",
       "      <td>Ay ay ay ay ay</td>\n",
       "      <td>Ay ay ay ay ay</td>\n",
       "      <td>2</td>\n",
       "      <td>분노</td>\n",
       "    </tr>\n",
       "    <tr>\n",
       "      <th>1</th>\n",
       "      <td>2</td>\n",
       "      <td>37140709</td>\n",
       "      <td>첫 만남은 계획대로 되지 않아</td>\n",
       "      <td>TWS (투어스)</td>\n",
       "      <td>댄스</td>\n",
       "      <td>거울 속에 내 표정 봐 봐</td>\n",
       "      <td>거울 속에 내 표정 봐 봐</td>\n",
       "      <td>5</td>\n",
       "      <td>당황</td>\n",
       "    </tr>\n",
       "    <tr>\n",
       "      <th>2</th>\n",
       "      <td>3</td>\n",
       "      <td>37140709</td>\n",
       "      <td>첫 만남은 계획대로 되지 않아</td>\n",
       "      <td>TWS (투어스)</td>\n",
       "      <td>댄스</td>\n",
       "      <td>느낌 So good 기다려온 D-day</td>\n",
       "      <td>느낌 그래서 좋아요. 기다려온 D-하루</td>\n",
       "      <td>0</td>\n",
       "      <td>기쁨</td>\n",
       "    </tr>\n",
       "    <tr>\n",
       "      <th>3</th>\n",
       "      <td>4</td>\n",
       "      <td>37140709</td>\n",
       "      <td>첫 만남은 계획대로 되지 않아</td>\n",
       "      <td>TWS (투어스)</td>\n",
       "      <td>댄스</td>\n",
       "      <td>연습했던 손든 인사도 그대로 하면 돼</td>\n",
       "      <td>연습했던 손든 인사도 그대로 하면 돼</td>\n",
       "      <td>0</td>\n",
       "      <td>기쁨</td>\n",
       "    </tr>\n",
       "    <tr>\n",
       "      <th>4</th>\n",
       "      <td>5</td>\n",
       "      <td>37140709</td>\n",
       "      <td>첫 만남은 계획대로 되지 않아</td>\n",
       "      <td>TWS (투어스)</td>\n",
       "      <td>댄스</td>\n",
       "      <td>Hairstyle check하고 한 번 Turn around</td>\n",
       "      <td>머리스타일 확인하고 한 번 회전 주변</td>\n",
       "      <td>2</td>\n",
       "      <td>분노</td>\n",
       "    </tr>\n",
       "  </tbody>\n",
       "</table>\n",
       "</div>"
      ],
      "text/plain": [
       "   index        id             title     singer genres  \\\n",
       "0      1  37140709  첫 만남은 계획대로 되지 않아  TWS (투어스)     댄스   \n",
       "1      2  37140709  첫 만남은 계획대로 되지 않아  TWS (투어스)     댄스   \n",
       "2      3  37140709  첫 만남은 계획대로 되지 않아  TWS (투어스)     댄스   \n",
       "3      4  37140709  첫 만남은 계획대로 되지 않아  TWS (투어스)     댄스   \n",
       "4      5  37140709  첫 만남은 계획대로 되지 않아  TWS (투어스)     댄스   \n",
       "\n",
       "                              lyrics      translated_lyrics  sentiment  \\\n",
       "0                     Ay ay ay ay ay         Ay ay ay ay ay          2   \n",
       "1                     거울 속에 내 표정 봐 봐         거울 속에 내 표정 봐 봐          5   \n",
       "2              느낌 So good 기다려온 D-day  느낌 그래서 좋아요. 기다려온 D-하루          0   \n",
       "3               연습했던 손든 인사도 그대로 하면 돼   연습했던 손든 인사도 그대로 하면 돼          0   \n",
       "4  Hairstyle check하고 한 번 Turn around   머리스타일 확인하고 한 번 회전 주변          2   \n",
       "\n",
       "  sentiment_label  \n",
       "0              분노  \n",
       "1              당황  \n",
       "2              기쁨  \n",
       "3              기쁨  \n",
       "4              분노  "
      ]
     },
     "execution_count": 4,
     "metadata": {},
     "output_type": "execute_result"
    }
   ],
   "source": [
    "lyrics.head()"
   ]
  },
  {
   "cell_type": "markdown",
   "metadata": {},
   "source": [
    "#### 2. 소설"
   ]
  },
  {
   "cell_type": "code",
   "execution_count": 5,
   "metadata": {},
   "outputs": [],
   "source": [
    "novel_final = pd.read_csv('./dataset/classified_novel1.csv')\n",
    "data = novel_final.copy()"
   ]
  },
  {
   "cell_type": "code",
   "execution_count": null,
   "metadata": {},
   "outputs": [
    {
     "data": {
      "text/plain": [
       "50000"
      ]
     },
     "execution_count": 6,
     "metadata": {},
     "output_type": "execute_result"
    }
   ],
   "source": [
    "# data = data.sample(n=50000, random_state=42).reset_index(drop=True)\n",
    "\n",
    "len(data)"
   ]
  },
  {
   "cell_type": "code",
   "execution_count": 7,
   "metadata": {},
   "outputs": [
    {
     "data": {
      "text/html": [
       "<div>\n",
       "<style scoped>\n",
       "    .dataframe tbody tr th:only-of-type {\n",
       "        vertical-align: middle;\n",
       "    }\n",
       "\n",
       "    .dataframe tbody tr th {\n",
       "        vertical-align: top;\n",
       "    }\n",
       "\n",
       "    .dataframe thead th {\n",
       "        text-align: right;\n",
       "    }\n",
       "</style>\n",
       "<table border=\"1\" class=\"dataframe\">\n",
       "  <thead>\n",
       "    <tr style=\"text-align: right;\">\n",
       "      <th></th>\n",
       "      <th>Column1</th>\n",
       "      <th>file_id</th>\n",
       "      <th>title</th>\n",
       "      <th>paragraph_id</th>\n",
       "      <th>text</th>\n",
       "      <th>labels</th>\n",
       "      <th>sentiment</th>\n",
       "    </tr>\n",
       "  </thead>\n",
       "  <tbody>\n",
       "    <tr>\n",
       "      <th>0</th>\n",
       "      <td>347937</td>\n",
       "      <td>WARW1900000524</td>\n",
       "      <td>남도빨치산 6</td>\n",
       "      <td>WARW1900000524.1.2310</td>\n",
       "      <td>\"손들고 나왓!\"</td>\n",
       "      <td>0.0</td>\n",
       "      <td>기쁨</td>\n",
       "    </tr>\n",
       "    <tr>\n",
       "      <th>1</th>\n",
       "      <td>570921</td>\n",
       "      <td>WARW1900000808</td>\n",
       "      <td>제갈공명 2-하늘로 치솟아 뜻을 펼치다</td>\n",
       "      <td>WARW1900000808.1.1898</td>\n",
       "      <td>\"그 점은 이 양이 생각해둔 바 있으니 과히 염려하지 마십시오. 틀림없이 연환계를 ...</td>\n",
       "      <td>0.0</td>\n",
       "      <td>기쁨</td>\n",
       "    </tr>\n",
       "    <tr>\n",
       "      <th>2</th>\n",
       "      <td>257278</td>\n",
       "      <td>WARW1900000461</td>\n",
       "      <td>890만번 주사위 던지기</td>\n",
       "      <td>WARW1900000461.1.504</td>\n",
       "      <td>\"102…103…104…….\"</td>\n",
       "      <td>4.0</td>\n",
       "      <td>불안</td>\n",
       "    </tr>\n",
       "    <tr>\n",
       "      <th>3</th>\n",
       "      <td>702456</td>\n",
       "      <td>WARW1900001046</td>\n",
       "      <td>경찰청장 박전전 3</td>\n",
       "      <td>WARW1900001046.1.841</td>\n",
       "      <td>그 두 가지 사실이 무엇을 의미하는가?</td>\n",
       "      <td>1.0</td>\n",
       "      <td>슬픔</td>\n",
       "    </tr>\n",
       "    <tr>\n",
       "      <th>4</th>\n",
       "      <td>228104</td>\n",
       "      <td>WARW1900000425</td>\n",
       "      <td>퇴원</td>\n",
       "      <td>WARW1900000425.1.1765</td>\n",
       "      <td>\"어서 그냥 쇠새끼나 쫓아가보거라. 꼴짐은 내가 거둬 지고 가마.\"</td>\n",
       "      <td>2.0</td>\n",
       "      <td>분노</td>\n",
       "    </tr>\n",
       "  </tbody>\n",
       "</table>\n",
       "</div>"
      ],
      "text/plain": [
       "   Column1         file_id                  title           paragraph_id  \\\n",
       "0   347937  WARW1900000524                남도빨치산 6  WARW1900000524.1.2310   \n",
       "1   570921  WARW1900000808  제갈공명 2-하늘로 치솟아 뜻을 펼치다  WARW1900000808.1.1898   \n",
       "2   257278  WARW1900000461          890만번 주사위 던지기   WARW1900000461.1.504   \n",
       "3   702456  WARW1900001046             경찰청장 박전전 3   WARW1900001046.1.841   \n",
       "4   228104  WARW1900000425                     퇴원  WARW1900000425.1.1765   \n",
       "\n",
       "                                                text  labels sentiment  \n",
       "0                                          \"손들고 나왓!\"     0.0        기쁨  \n",
       "1  \"그 점은 이 양이 생각해둔 바 있으니 과히 염려하지 마십시오. 틀림없이 연환계를 ...     0.0        기쁨  \n",
       "2                                   \"102…103…104…….\"     4.0        불안  \n",
       "3                              그 두 가지 사실이 무엇을 의미하는가?     1.0        슬픔  \n",
       "4              \"어서 그냥 쇠새끼나 쫓아가보거라. 꼴짐은 내가 거둬 지고 가마.\"     2.0        분노  "
      ]
     },
     "execution_count": 7,
     "metadata": {},
     "output_type": "execute_result"
    }
   ],
   "source": [
    "data.head()"
   ]
  },
  {
   "cell_type": "markdown",
   "metadata": {},
   "source": [
    "### Preprocessing"
   ]
  },
  {
   "cell_type": "code",
   "execution_count": 8,
   "metadata": {},
   "outputs": [
    {
     "name": "stdout",
     "output_type": "stream",
     "text": [
      "NaN 개수: 6\n",
      "None 포함 여부: 6\n"
     ]
    }
   ],
   "source": [
    "print(\"NaN 개수:\", data['text'].isna().sum())  # NaN 개수 확인\n",
    "print(\"None 포함 여부:\", data['text'].isnull().sum())  # None 개수 확인"
   ]
  },
  {
   "cell_type": "code",
   "execution_count": 9,
   "metadata": {},
   "outputs": [],
   "source": [
    "data['text'] = data['text'].fillna(\"\")"
   ]
  },
  {
   "cell_type": "code",
   "execution_count": 10,
   "metadata": {},
   "outputs": [
    {
     "name": "stdout",
     "output_type": "stream",
     "text": [
      "NaN 개수: 0\n",
      "None 포함 여부: 0\n"
     ]
    }
   ],
   "source": [
    "print(\"NaN 개수:\", data['text'].isna().sum())  # NaN 개수 확인\n",
    "print(\"None 포함 여부:\", data['text'].isnull().sum())  # None 개수 확인"
   ]
  },
  {
   "cell_type": "code",
   "execution_count": 11,
   "metadata": {},
   "outputs": [],
   "source": [
    "# 같은 title을 가진 데이터에서 100개씩 묶어 그룹화\n",
    "data[\"group\"] = data.groupby(\"title\").cumcount() // 100  # 100개 단위 그룹 생성"
   ]
  },
  {
   "cell_type": "code",
   "execution_count": 12,
   "metadata": {},
   "outputs": [
    {
     "data": {
      "text/html": [
       "<div>\n",
       "<style scoped>\n",
       "    .dataframe tbody tr th:only-of-type {\n",
       "        vertical-align: middle;\n",
       "    }\n",
       "\n",
       "    .dataframe tbody tr th {\n",
       "        vertical-align: top;\n",
       "    }\n",
       "\n",
       "    .dataframe thead th {\n",
       "        text-align: right;\n",
       "    }\n",
       "</style>\n",
       "<table border=\"1\" class=\"dataframe\">\n",
       "  <thead>\n",
       "    <tr style=\"text-align: right;\">\n",
       "      <th></th>\n",
       "      <th>title</th>\n",
       "      <th>text</th>\n",
       "    </tr>\n",
       "  </thead>\n",
       "  <tbody>\n",
       "    <tr>\n",
       "      <th>0</th>\n",
       "      <td>이야기꾼 구연설화</td>\n",
       "      <td>[“당신 싻은 많이 줄 테니까, 좀 멀리 어따 숭겨 노라구 말여. 배밑이 어디 다른...</td>\n",
       "    </tr>\n",
       "    <tr>\n",
       "      <th>1</th>\n",
       "      <td>이야기꾼 구연설화</td>\n",
       "      <td>[그랬어., 자기는 모르는 일이지. 아 이거 꿈같은 얘기 아녀?, “왜 울어?”, ...</td>\n",
       "    </tr>\n",
       "    <tr>\n",
       "      <th>2</th>\n",
       "      <td>이야기꾼 구연설화</td>\n",
       "      <td>[‘…? 있이까 모르지이.’, 밥얼 싸다 놓구 나무를 비구 앉었, 벼서 끊어. 지금...</td>\n",
       "    </tr>\n",
       "    <tr>\n",
       "      <th>3</th>\n",
       "      <td>이야기꾼 구연설화</td>\n",
       "      <td>[아 그라더니 뜻밖에 또 뭐라구능 게 아니라,, 아이고오! 흐흐. 그런 으뭉한 눔이...</td>\n",
       "    </tr>\n",
       "    <tr>\n",
       "      <th>4</th>\n",
       "      <td>이야기꾼 구연설화</td>\n",
       "      <td>[“제자먼 이 마룽이 와 울래라.”, 쌀 닷 말 박기루 하구 경을 읽어. 허허… 저...</td>\n",
       "    </tr>\n",
       "  </tbody>\n",
       "</table>\n",
       "</div>"
      ],
      "text/plain": [
       "       title                                               text\n",
       "0  이야기꾼 구연설화  [“당신 싻은 많이 줄 테니까, 좀 멀리 어따 숭겨 노라구 말여. 배밑이 어디 다른...\n",
       "1  이야기꾼 구연설화  [그랬어., 자기는 모르는 일이지. 아 이거 꿈같은 얘기 아녀?, “왜 울어?”, ...\n",
       "2  이야기꾼 구연설화  [‘…? 있이까 모르지이.’, 밥얼 싸다 놓구 나무를 비구 앉었, 벼서 끊어. 지금...\n",
       "3  이야기꾼 구연설화  [아 그라더니 뜻밖에 또 뭐라구능 게 아니라,, 아이고오! 흐흐. 그런 으뭉한 눔이...\n",
       "4  이야기꾼 구연설화  [“제자먼 이 마룽이 와 울래라.”, 쌀 닷 말 박기루 하구 경을 읽어. 허허… 저..."
      ]
     },
     "execution_count": 12,
     "metadata": {},
     "output_type": "execute_result"
    }
   ],
   "source": [
    "data = data.groupby([\"file_id\", \"group\"]).agg({\n",
    "    \"title\": \"first\",  # 대표 file_id\n",
    "    \"text\": list,  # 100개씩 묶음\n",
    "}).reset_index()\n",
    "\n",
    "# 불필요한 sentiment 칼럼 삭제\n",
    "data = data.drop(columns=[\"group\", \"file_id\"])\n",
    "\n",
    "data.head()"
   ]
  },
  {
   "cell_type": "code",
   "execution_count": 13,
   "metadata": {},
   "outputs": [],
   "source": [
    "data['text'] = data['text'].apply(lambda x: ' '.join(map(str, x)) if isinstance(x, list) else str(x))\n",
    "\n",
    "# 불필요한 문자 제거\n",
    "data['text'] = data['text'].str.replace(r\"[\\[\\],']\", \"\", regex=True)"
   ]
  },
  {
   "cell_type": "code",
   "execution_count": 14,
   "metadata": {},
   "outputs": [
    {
     "data": {
      "text/html": [
       "<div>\n",
       "<style scoped>\n",
       "    .dataframe tbody tr th:only-of-type {\n",
       "        vertical-align: middle;\n",
       "    }\n",
       "\n",
       "    .dataframe tbody tr th {\n",
       "        vertical-align: top;\n",
       "    }\n",
       "\n",
       "    .dataframe thead th {\n",
       "        text-align: right;\n",
       "    }\n",
       "</style>\n",
       "<table border=\"1\" class=\"dataframe\">\n",
       "  <thead>\n",
       "    <tr style=\"text-align: right;\">\n",
       "      <th></th>\n",
       "      <th>title</th>\n",
       "      <th>text</th>\n",
       "    </tr>\n",
       "  </thead>\n",
       "  <tbody>\n",
       "    <tr>\n",
       "      <th>0</th>\n",
       "      <td>이야기꾼 구연설화</td>\n",
       "      <td>“당신 싻은 많이 줄 테니까 좀 멀리 어따 숭겨 노라구 말여. 배밑이 어디 다른 디...</td>\n",
       "    </tr>\n",
       "    <tr>\n",
       "      <th>1</th>\n",
       "      <td>이야기꾼 구연설화</td>\n",
       "      <td>그랬어. 자기는 모르는 일이지. 아 이거 꿈같은 얘기 아녀? “왜 울어?” 아리랑 ...</td>\n",
       "    </tr>\n",
       "    <tr>\n",
       "      <th>2</th>\n",
       "      <td>이야기꾼 구연설화</td>\n",
       "      <td>‘…? 있이까 모르지이.’ 밥얼 싸다 놓구 나무를 비구 앉었 벼서 끊어. 지금. “...</td>\n",
       "    </tr>\n",
       "    <tr>\n",
       "      <th>3</th>\n",
       "      <td>이야기꾼 구연설화</td>\n",
       "      <td>아 그라더니 뜻밖에 또 뭐라구능 게 아니라 아이고오! 흐흐. 그런 으뭉한 눔이 있어...</td>\n",
       "    </tr>\n",
       "    <tr>\n",
       "      <th>4</th>\n",
       "      <td>이야기꾼 구연설화</td>\n",
       "      <td>“제자먼 이 마룽이 와 울래라.” 쌀 닷 말 박기루 하구 경을 읽어. 허허… 저녁이...</td>\n",
       "    </tr>\n",
       "  </tbody>\n",
       "</table>\n",
       "</div>"
      ],
      "text/plain": [
       "       title                                               text\n",
       "0  이야기꾼 구연설화  “당신 싻은 많이 줄 테니까 좀 멀리 어따 숭겨 노라구 말여. 배밑이 어디 다른 디...\n",
       "1  이야기꾼 구연설화  그랬어. 자기는 모르는 일이지. 아 이거 꿈같은 얘기 아녀? “왜 울어?” 아리랑 ...\n",
       "2  이야기꾼 구연설화  ‘…? 있이까 모르지이.’ 밥얼 싸다 놓구 나무를 비구 앉었 벼서 끊어. 지금. “...\n",
       "3  이야기꾼 구연설화  아 그라더니 뜻밖에 또 뭐라구능 게 아니라 아이고오! 흐흐. 그런 으뭉한 눔이 있어...\n",
       "4  이야기꾼 구연설화  “제자먼 이 마룽이 와 울래라.” 쌀 닷 말 박기루 하구 경을 읽어. 허허… 저녁이..."
      ]
     },
     "execution_count": 14,
     "metadata": {},
     "output_type": "execute_result"
    }
   ],
   "source": [
    "data.head()"
   ]
  },
  {
   "cell_type": "code",
   "execution_count": 15,
   "metadata": {},
   "outputs": [
    {
     "data": {
      "text/plain": [
       "'“당신 싻은 많이 줄 테니까 좀 멀리 어따 숭겨 노라구 말여. 배밑이 어디 다른 디루 가게 모래밭이다 숭겨 노라.”구. 살구 있을 때에 인제 문왕 살어서. 문왕을 살러 가는 챔인디. 그 자기 본마느래. 그 밥 읃어다 주던 마느래가 시집갔으야 가난해서 못 살어. 그래 그 뭐 태공이가 문왕으루 간다아 응 항깨 왕으루 강깨 따러갈라구 나왔어. 와서 절을 함성(하면서) “돌아오는 글자가 있냐.”구. 갔는디. “그래 월매나 남었능가?” “개구리두 모가지가 질어 소리가 크냐?” 그래 삼척을 가능 거여 지금. 그래 삼척 그 워느 한 저어 삼척 거가 어디냐 뭐 삼수갑산 하는 딘디 상골짝이랴. 그래 생전 그런 디 앙 가본 큰애기가 그런 디를 가는디 월매나 다리가 아푸구 다리 아풀 거여. 산을 넘구 넘어서 거 가닝깨 아 어머니가 “하이구 워트게 성님 죽여?” 그래 워디서 손님이 왔어. 참 그렁깨 말여? 그래서 하늘에서 옥황상제가 그랬능가 누가 그랬능가 동아줄을 넬콰 줘서 지집아 머슴아 올라갔어 인제. 하늘로. “아 아 여보쇼. 담배 좀 한 대 주쇼. 아 담배는 있지만 추져서(축축해서) 몹 먹겄소.” 짓넌디. 그때 마침 저어 대왱이 거기를 지내는디. 그라구 집을 지커덩. 그래 물었어. 저기 저기 저기 봐요. 덱우산(덕유산) 중이 익고. “아이고 여보! 워트갸? 깨졌네.” 그러니. 집이두 못 와 인제. 돈이 있이야 오지. 가서 봉깨 참 뭐이 이케 봉깨 붉우수름한 물이 가뜩 괬더랴. 그래 이케 눌룽깨 쭉 깔릴 거 아녀? “왜 웂어? 많지.” “아이구 우리 집은 이릏게 흠해요. 흠햐. 앉으라.”구. 웃으며 그래 인제 그 노인덜이 노인덜이 인제 갔어. 거기를. 가서 봉깨 사람언 욱구 워서 아 우는 소리가 나. 가만히 봉깨 그 두루매기 속이서 울어. 어린애가 깟난 어른애가 돼 가지구 한 말하자먼 돐 돐 돐 돐두 안 돌아갈 만치 컸더랴. 그래 한 적이는 가마안히 바러봉깨 가매다가 말여 큰애기를 하나 실쿠 간다 이거여. 큰애긴디. 각신디. 그래 그 ‘별일이다’ 하구 참 각시… 그렁깨 어떤 사람이 와서 그라더랴. 이 지넷들이 ‘지넷들’ 곡속(곡식)이 안 돼서 지네가 장난을 쳐서 안 돼서 일년에 사람을 큰애기를 하나씩 잡어다 느. 응? 잡어다 저 집이다 느머넌 그 지네가 빨어 먹고 그 들 농사를 잘 짓는댜. 그래서…-현재여-그래서 인제 해마둥 그래 큰애기 하나씩 느 느… 들 가운데 집을 져놓고 큰애기를 잡어다 잡어다 늫는댜. 사다 늫는댜. 그냥 늫능 게 아니라 사다 느. 그래 한동하가 장개두 목 가구 그라구 있는디. 하루는 큰애기를 하나를 사 각구 가더랴. 가매다 태워서. 그래 도치(도끼)를 하나 자루를 함 발찌임 맞춰서 말여. 새파랗게 날리를(날을) 싹 그냥 갈어서 날리를 세워 각구 인제 따악 가지구 있어. 그래 가매가 가더니 큰애기를 그 집 속이다 늫고 문을 장구구 가더랴. 모두. “이게 뭔 소리여? 이 이 빨리 가서 애기 억구 오니라.” “아 노시갸.” “아이구 그라시라.”구. “아 밥 먹고 싶구 말구요.” 부인의 교화로 교회에 나가는 지가 14년이라는 화자는 이 이야기를 자청하여 들려주었다. 그는 처음에는 이것이 교회 신도들 앞에서 들려주려고 스스로 꾸며낸 이야기라고 하면서 이 이야기를 구연하여 신도들로부터 갈채를 받았다고 했으나 나중에는 어려서 교회에서 들은 것이라고 했다. 그 자신 종교적인 주제를 담은 좋은 이야기로 여겨 평소 이 이야기를 인상깊게 기억하고 여러 차례 남에게 들려준 적이 있는 듯하며 그러기에 자신이 꾸민 이야기라는 말까지 쉽게 한 것 같다. 이것은 일반적으로 종교 비유담으로서 잘 알려진 이야기이다. 산으로 나무를 하러 간 사람이 범에게 쫓겨 벼랑에 떨어지다가 다행히 덤불에 걸렸다. 밑을 바라보니 구렁이가 입을 벌리고 있는데 옆을 보니 바위 사이에 꿀이 있었다. 달콤한 맛에 취하여 정신없이 꿀을 먹고 있는데 덤불을 지탱하고 있는 칡덩굴을 두 마리의 쥐가 갉고 있었다. 위기를 느꼈으나 이미 때가 늦어 그 사람은 결국 덤불에서 떨어져 뱀에게 먹히고 말았다. 사람의 나고 죽는 이치가 바로 이와 같다. 인제 호랭이하구 싸워. 둘이. 그래서 호랭이가 쏘머넌 타란(탄환)을 탁 받어서 탁 박구 탁 박구. 타란을 받어. 아 이거 참말루 큰일 났어. 그래 호랭이는 배깥이서 익고. 사람은 굴 안이서 있어 지금. 호랭이 굴을 들어가서? 이케 바러봉깨-총 착구 그랬으닝깨?-가만히 바러봉깨 말여. 호랭이가 배깥이서 이케 총을 “탕” 쏘머넌 실탄을 딱 받어내구. 받어내구. 아 실탄두 웂네 인제? 다 쏴서. 가만히 앉아서? 점얼 햐. 질마재를 넘어서. 질마속이 들었잉깨. 질마재를 넘어서 밭들을 비껴서 항강수라. 샴이서 빠져 죽었어. 233도랑 건너다 ‘정절편‧꿀종지’란 말을 잊은 신랑 “가맜이라.”구. “예?” 240장난하다 똥을 먹은 한음 그래서 그 주문을 배웠어. 주문을 배웠어. 주문. 호랭이 되는 주문이 있다네? 그래 주문을 배워 각구 인제 써다가 놓구 배웠는디. 참말루 인제 그 눔을 읽구서 꿀떡 재주를 넘으먼 호랭이가 . 에? 용담에. 용담에 있었어. 용담에. 용담 범바우라는 디가 있는디. 호암이라구? 거기서 있는디 인제 인제 그래서 인제 나가 각구 저녁이 사냥해서 인제 퇴끼가 돽거나 노루가 돽거나 인제 뭐이던지 잡어와. 잡어다가 인제 간 내서 자기 어머니 해주구 인제 괴기는 자기가 해먹구 그라는디. 222‘칠십생남비아자’ 해석 그래 인제 어머니는 눔밥(누른밥) 긁어 먹을라구 집이 익고. 그 메느리가 인제 잉? 메느리가 밥광우리를 이구 가. 가는 챔인디. 그렁깨 즈 아부지가 실심을 하닝깨 그 어링 것이. 어링 것이 “이 눔언 우리 어머니 주고. 마느래 주고.” “예가 좋다 좋다.” 그래 그냥 엉금 엉금 겨서 원촌을 지내서 거기를 절을 올라가. 응? 아하! 이거 봐요. ‘나도쇠 아들이라’구 항깨 너도 ‘쇠아들’이지. 웃음 “꼬꾜~ 고르르~” 그랴. “박나물~” 그 말여 그게. “그람 삼천 냥 천 오백 냥 주께 팔라.”구 떡얼 쪄농깨 몽개 짐(김)이 몽개 몽개 올라가잖야? “예에. 하나님 우리 시아지버니 박문수 어사 좀 해주시갸아.” “아 그 생전 안 낫네.” “오늘 저기 사령 사령 사령덜이 사람을 잡어다 지금 죽이는디 응? 귀경 가보자.”구 “그저 뿌엉~ 그저 뿌엉” 그랬더랴. 그래서 그 별호가 삭갓배미여. 그전이 삭갓배미가 아녔었는디 삭갓이 도룅이 삭갓이 가려서 암 벼서 그래서 삭갓 나중이 이름이 삭갓배미라구. 그래 그 귀가 당나귀 겉여. “하하 누님 참 유명하네. 저 목단나무 꽃이 펴서 지금 환하네.” 그라더랴. “투박스럽고 힘있게 뭘 많이 파. 인제 시작인디.” 그래 가서. 가서 그 남 남씨라는 여자가. 그 본마너래 아덜 죽여뻐려야 자기 아덜 형제를 잘 가꾸겄다 그거지? 그래먼 그 임진사가 하능 것이 말여. 언지던지 자기 아덜 형제보단 그 본 아덜얼 더 더 사랑하구 말여. 더 뭐이던지 다독거린다 이거여. 그러닝깨 그 인제 마느래 생각이 말여어. “저것얼 웂이 해야 내 아덜이 잘 응 구완받는다” 싶어서 인제 장개가는 날 그 몸종을 불러서 내우간에 몸종을 종을 사는디 아덜이 웂어. “원 그럴 테지.” 뱅이 뜨거두 ‘춰 죽것다. 춰 죽것다. 못 살것다.’ 자기 냄편 보구 짊어지랬어. 츰이. “아 이 아무거시 어디 갔능가? 금방.” “아이구 아가 더 떠먹어라. 먹구 가라구 먹구. 먹구 가라.”구. 그래 세장(시장)에 가서 말여. 참 노인 즘잖하구 깨깟한 노인 하나를 만냈어. 그래 인제 ‘아 우리 아버님 하자’구 절얼 항깨 깜짝 놀랴. (기차가) 연산서 올라올 때 글쎄. 올라올 때는 저 너머서는 그래 그 남편은 또 그 눔 먹응깨 눈을 캉캄하니 눈이 어둬버렸어. 그래 눈이 어둥깨 보구 싶응 거 웂잖야? 그래서는 그 인저 황정승이 재생인디. 그리두 뭣얼 잘 아는 양반잉깨 가서 물어보먼 알겄다 싶어서 아덜더러 “아 나 혼자 사는 집인데 자구 가겄느냐.”구 “나 뭐 배워.” “워짠 일이구 뭐이구 당신 나 살라머는(살리려면) 붴이 가서 바가지를 하나 갖다가-인제 곽백이 죽으먼 파묻을라구 널을 하나 짜놨덩개벼-이 널을 엎으라구. 내 거기 들어갈 텡개.” 그래 재판을 햐. 그래 워디 사방 사방 차차 차차 밟어 들어 오닝깨 산골짜기서 숫(숯)얼 꿨다 이거여. 숫얼 꿔먹구 살어. 그래 가는 도중에 한 집이 있어 집이. 그래 거기를 강깨 그래 물어보니까 “아 이게 당신네 집인디 워디를 가냐구 당신 아덜두 익구.” “아 내가 하지요. 저어기 짐맹경(김제 만경) 널룬 들이다요.? “아니 밥여요. 밥여. 그 참 맛있는 밥을 실쿠 가먼서 어째 그랍니까.” “아 글쎄… 즈 아덜 찾는다는디 어트가겄능가. 나는 머… 인제 <끈 떨어진 두렝(두렁박)>이지.” 그래 할 수 웂이 이? 그 집이루 시집갔대요. 말이 안 나? 쟁인이 감 장대를 각고 나와서 361만석중 이름의 유래 한 소작인이 백 살 된 주인에게 ‘백수만 하소서’ 하고 문안 인사를 하니 노인이 노여워하며 그의 소작 전답을 떼라고 명했다. 이에 다시 가서 ‘백수하시고 또 백수만 하시라’는 말을 주인 어른께서 잘못 알아들으신 거라고 거짓으로 해명하자 노인의 마음이 풀려 내린 명을 거뒀다. 말여. 응? “아덜두 웂능거라우?” 324궤짝 속의 벌거숭이 정승 스스로 기억해낸 것으로 아주 희귀한 유형담이다. 50여년 전에 들은 것이라 하며 그 외에도 많은 이야기들을 들었으나 거의 다 잊었다고 한다. 계룡산 경내의 돌은 작은 것까지도 사람이 생각하는 대로 그 사람의 눈에 어떤 동물 모습을 띤다는 내용이다. 신도안에서 생활하던 신앙인들로부터 나오고 전승된 이야기인 듯하다. 것으로 여기고 있기에 먼저 꺼낸 듯하다. 이성계가 고려조의 역적이라는 관점에서 위화도 회군 이야기를 들려주기도 했다. 그러나 화자는 일관성 있는 역사담으로 여기고 있는 듯했지만 내용이 사실에서 많이 벗어나 있다. 역사 지식이 없는 데다 글을 읽어 안 이야기가 아니기 때문이다. 주목되는 것은 무학대사가 궁궐을 지은 것은 ‘거짓말’이지만 고려를 배반한 이야기는 ‘실제 이야기’라고 화자 스스로 말하고 있는 점이다. 아래 이야기는 그에 이어 이무학이 궁궐을 지었다는 내용이다. “에 내가 짊어지구 간다.”구. “그라자.”구 인제. “그라먼. 나 혼차 자는디 예 와서 잘 테요?” 남이(남의) 모를 싱구루 감섬 자기 어머니가 압(앞)얼 몹 봐. 응? 압얼 몹 보는디. 자기가 인제 벌어다 멕이야 . 메너리가. 그래서 자기 어머니를 홀로 두고 인제 가서 모를 싱구는디. 모를 싱구구 말여 응? 모를 싱굼선 인제 즘신때가 져(넘어). 거기서 먹었는디. 인제 그 쥔네 보구 “예?” “그 약국 어른이 나가걸랑 응? 이 딸 스이 있는디 다 화류계루 내보내라구 하더라.”구. 큰 이는 지악시럭게 질쌈을 해서 옷이 많어. 작은 마느래는 뚝따래기 옷이라구 안 안 안 안 해 입어. 그땟 돈 일환 이환 할 땐디? “아이구 치우먼 되지. 치우먼 ~” “그래 혼자 사닝깨루 아 나두 혼자 사는 과분디 살먼 어떻겄냐.”구. 병이 됐어. 병이 . 스스로. 그래 병이 돼서 앓구 두러눴는디. 이혼하쟈. 동생이 말여 형얼 미트려 뻐렸네. 그 밑으루 떠대밀었어. 돈은 인제 동생이 짊어지구 오는디. 떠대밀어 뻐렸이닝깨 떨어질 거 아녀? 장정이 밀어티렸응깨. “퉁명스럽게 뭘 잘 먹어?” “아이구 그 그래요. 나두 귀찮응깨 그래요.” 그래 중이 상자가 올 줄 알구 말여. 절문을 꼭 장궈뻐리구 인제 열래두 안 따줘. 그랑깨 집이를 들어가야겄는디. 그래 한 쪽이 가서 그 개구녁 수채구녁 물 내비는 디. 그 굴이 글루 들어갈라구 이케 구녁을 뜷구 들어갈라구 하닝깨 방맹이루 대갈빼기를 때렸네. 방이 안이서. 그래 죽어뻐렸지. “제까짓 눔이 나를 이겨?”'"
      ]
     },
     "execution_count": 15,
     "metadata": {},
     "output_type": "execute_result"
    }
   ],
   "source": [
    "data.loc[0][\"text\"]"
   ]
  },
  {
   "cell_type": "code",
   "execution_count": 16,
   "metadata": {},
   "outputs": [],
   "source": [
    "# 데이터셋 클래스 정의\n",
    "class NovelsDataset(Dataset):\n",
    "    def __init__(self, data, tokenizer, text_column=\"input_text\", max_length=128):\n",
    "        self.data = data.reset_index(drop=True)  # 인덱스 리셋 (중복 방지)\n",
    "        self.tokenizer = tokenizer\n",
    "        self.text_column = text_column\n",
    "        self.max_length = max_length\n",
    "\n",
    "    def __len__(self):\n",
    "        return len(self.data)\n",
    "\n",
    "    def __getitem__(self, idx):\n",
    "        text = self.data.loc[idx, self.text_column] # input_text 가져오기\n",
    "\n",
    "        encoding = self.tokenizer.encode_plus(\n",
    "            text,\n",
    "            add_special_tokens=True,\n",
    "            max_length=self.max_length,\n",
    "            padding='max_length',\n",
    "            truncation=True,\n",
    "            return_tensors='pt'\n",
    "        )\n",
    "        input_ids = encoding['input_ids'].squeeze(0)\n",
    "        attention_mask = encoding['attention_mask'].squeeze(0)\n",
    "\n",
    "        # labels 생성 (input_ids 복사 및 패딩 토큰을 -100으로 설정)\n",
    "        labels = input_ids.clone()\n",
    "        labels[labels == self.tokenizer.pad_token_id] = -100\n",
    "\n",
    "        return {\n",
    "            'input_ids': input_ids,\n",
    "            'attention_mask': attention_mask,\n",
    "            'labels': labels,\n",
    "        }"
   ]
  },
  {
   "cell_type": "markdown",
   "metadata": {},
   "source": [
    "### Modeling"
   ]
  },
  {
   "cell_type": "code",
   "execution_count": 17,
   "metadata": {},
   "outputs": [
    {
     "name": "stderr",
     "output_type": "stream",
     "text": [
      "The tokenizer class you load from this checkpoint is not the same type as the class this function is called from. It may result in unexpected tokenization. \n",
      "The tokenizer class you load from this checkpoint is 'GPT2Tokenizer'. \n",
      "The class this function is called from is 'PreTrainedTokenizerFast'.\n"
     ]
    }
   ],
   "source": [
    "# KOGPT2 모델과 토크나이저 로드\n",
    "tokenizer = PreTrainedTokenizerFast.from_pretrained(\"skt/kogpt2-base-v2\",\n",
    "  bos_token='</s>', eos_token='</s>', unk_token='<unk>',\n",
    "  pad_token='<pad>', mask_token='<mask>')\n",
    "\n",
    "# 모델 초기화\n",
    "model = GPT2LMHeadModel.from_pretrained('skt/kogpt2-base-v2')\n",
    "\n",
    "model.config.pad_token_id = tokenizer.pad_token_id\n",
    "model.config.eos_token_id = tokenizer.eos_token_id\n",
    "model.config.bos_token_id = tokenizer.bos_token_id"
   ]
  },
  {
   "cell_type": "code",
   "execution_count": 18,
   "metadata": {},
   "outputs": [],
   "source": [
    "dataset = NovelsDataset(data, tokenizer, text_column=\"text\")\n",
    "dataloader = DataLoader(dataset, batch_size=2)"
   ]
  },
  {
   "cell_type": "code",
   "execution_count": 19,
   "metadata": {},
   "outputs": [],
   "source": [
    "# 학습 인자 설정\n",
    "training_args = TrainingArguments(\n",
    "    output_dir='./results/baseline',\n",
    "    num_train_epochs=5,\n",
    "    per_device_train_batch_size=2,\n",
    "    gradient_accumulation_steps=8,\n",
    "    learning_rate=5e-5,\n",
    "    save_steps=200,\n",
    "    save_total_limit=2,\n",
    "    logging_steps=50,\n",
    "    eval_strategy=\"epoch\",\n",
    ")"
   ]
  },
  {
   "cell_type": "code",
   "execution_count": 20,
   "metadata": {},
   "outputs": [],
   "source": [
    "train_novels, eval_novels = train_test_split(data, test_size=0.1, random_state=42)\n",
    "\n",
    "train_dataset = NovelsDataset(train_novels, tokenizer, text_column=\"text\")\n",
    "eval_dataset = NovelsDataset(eval_novels, tokenizer, text_column=\"text\")"
   ]
  },
  {
   "cell_type": "code",
   "execution_count": 21,
   "metadata": {},
   "outputs": [
    {
     "data": {
      "text/plain": [
       "631"
      ]
     },
     "execution_count": 21,
     "metadata": {},
     "output_type": "execute_result"
    }
   ],
   "source": [
    "len(train_novels)"
   ]
  },
  {
   "cell_type": "code",
   "execution_count": 22,
   "metadata": {},
   "outputs": [],
   "source": [
    "# Trainer에 데이터셋 전달\n",
    "trainer = Trainer(\n",
    "    model=model,\n",
    "    args=training_args,\n",
    "    train_dataset=train_dataset,\n",
    "    eval_dataset=eval_dataset,  # 검증 데이터셋\n",
    ")"
   ]
  },
  {
   "cell_type": "code",
   "execution_count": 23,
   "metadata": {},
   "outputs": [
    {
     "name": "stdout",
     "output_type": "stream",
     "text": [
      "Input IDs: tensor([ 9022,  6855, 11928,  6889, 10203,  9673,   389,  9036, 21538,  8022,\n",
      "        11273,  7235, 29081, 11781,  8327,  8146,  7788, 25415,  7489,  9230,\n",
      "         8423,  9856,  8148,  9022, 19841, 24473, 20284, 10341,  9566, 22882,\n",
      "          389, 36334,  9351,  9138,  9099, 18902,   389,  9089,  7282, 15933,\n",
      "         7634,  8146, 10489,  7480,  9016,  9376,  9908,  9277, 10724,  9109,\n",
      "         7162, 10724,  9094, 17302, 15933, 21526, 32664, 11312, 11489,  9414,\n",
      "        21852, 12354, 20805, 39587,  9432,  7285, 26156, 19912, 40052, 15212,\n",
      "         9749,  8146, 12502, 15234,  6958, 10348,  9036, 12499,  9192,  7285,\n",
      "         8277, 45330,  9016, 11275, 26753,  9036, 25940, 13673,  7182, 11213,\n",
      "         7162, 25265, 21561, 31895,  9368, 21833, 19958, 47198, 30415, 36858,\n",
      "        28300, 28786, 11057,  7258,  7801,  8094,  9016, 47528,  9037,  6825,\n",
      "         6825,  8148, 39955,  7501,  9224, 10446, 18412,  9055,  7424, 10480,\n",
      "        27878,  7003,  8137, 13413, 10310,  9031,  9022, 12425])\n",
      "Attention Mask: tensor([1, 1, 1, 1, 1, 1, 1, 1, 1, 1, 1, 1, 1, 1, 1, 1, 1, 1, 1, 1, 1, 1, 1, 1,\n",
      "        1, 1, 1, 1, 1, 1, 1, 1, 1, 1, 1, 1, 1, 1, 1, 1, 1, 1, 1, 1, 1, 1, 1, 1,\n",
      "        1, 1, 1, 1, 1, 1, 1, 1, 1, 1, 1, 1, 1, 1, 1, 1, 1, 1, 1, 1, 1, 1, 1, 1,\n",
      "        1, 1, 1, 1, 1, 1, 1, 1, 1, 1, 1, 1, 1, 1, 1, 1, 1, 1, 1, 1, 1, 1, 1, 1,\n",
      "        1, 1, 1, 1, 1, 1, 1, 1, 1, 1, 1, 1, 1, 1, 1, 1, 1, 1, 1, 1, 1, 1, 1, 1,\n",
      "        1, 1, 1, 1, 1, 1, 1, 1])\n",
      "Labels: tensor([ 9022,  6855, 11928,  6889, 10203,  9673,   389,  9036, 21538,  8022,\n",
      "        11273,  7235, 29081, 11781,  8327,  8146,  7788, 25415,  7489,  9230,\n",
      "         8423,  9856,  8148,  9022, 19841, 24473, 20284, 10341,  9566, 22882,\n",
      "          389, 36334,  9351,  9138,  9099, 18902,   389,  9089,  7282, 15933,\n",
      "         7634,  8146, 10489,  7480,  9016,  9376,  9908,  9277, 10724,  9109,\n",
      "         7162, 10724,  9094, 17302, 15933, 21526, 32664, 11312, 11489,  9414,\n",
      "        21852, 12354, 20805, 39587,  9432,  7285, 26156, 19912, 40052, 15212,\n",
      "         9749,  8146, 12502, 15234,  6958, 10348,  9036, 12499,  9192,  7285,\n",
      "         8277, 45330,  9016, 11275, 26753,  9036, 25940, 13673,  7182, 11213,\n",
      "         7162, 25265, 21561, 31895,  9368, 21833, 19958, 47198, 30415, 36858,\n",
      "        28300, 28786, 11057,  7258,  7801,  8094,  9016, 47528,  9037,  6825,\n",
      "         6825,  8148, 39955,  7501,  9224, 10446, 18412,  9055,  7424, 10480,\n",
      "        27878,  7003,  8137, 13413, 10310,  9031,  9022, 12425])\n"
     ]
    }
   ],
   "source": [
    "sample = train_dataset[1]\n",
    "print(\"Input IDs:\", sample['input_ids'])\n",
    "print(\"Attention Mask:\", sample['attention_mask'])\n",
    "print(\"Labels:\", sample['labels'])"
   ]
  },
  {
   "cell_type": "code",
   "execution_count": 24,
   "metadata": {},
   "outputs": [
    {
     "name": "stderr",
     "output_type": "stream",
     "text": [
      "c:\\Users\\kimso\\anaconda3\\envs\\test\\lib\\site-packages\\transformers\\integrations\\sdpa_attention.py:53: UserWarning: 1Torch was not compiled with flash attention. (Triggered internally at C:\\cb\\pytorch_1000000000000\\work\\aten\\src\\ATen\\native\\transformers\\cuda\\sdp_utils.cpp:555.)\n",
      "  attn_output = torch.nn.functional.scaled_dot_product_attention(\n",
      "`loss_type=None` was set in the config but it is unrecognised.Using the default loss: `ForCausalLMLoss`.\n"
     ]
    },
    {
     "data": {
      "text/html": [
       "\n",
       "    <div>\n",
       "      \n",
       "      <progress value='43' max='195' style='width:300px; height:20px; vertical-align: middle;'></progress>\n",
       "      [ 43/195 00:16 < 01:01, 2.49 it/s, Epoch 1.05/5]\n",
       "    </div>\n",
       "    <table border=\"1\" class=\"dataframe\">\n",
       "  <thead>\n",
       " <tr style=\"text-align: left;\">\n",
       "      <th>Epoch</th>\n",
       "      <th>Training Loss</th>\n",
       "      <th>Validation Loss</th>\n",
       "    </tr>\n",
       "  </thead>\n",
       "  <tbody>\n",
       "    <tr>\n",
       "      <td>1</td>\n",
       "      <td>No log</td>\n",
       "      <td>4.540387</td>\n",
       "    </tr>\n",
       "  </tbody>\n",
       "</table><p>"
      ],
      "text/plain": [
       "<IPython.core.display.HTML object>"
      ]
     },
     "metadata": {},
     "output_type": "display_data"
    },
    {
     "ename": "KeyboardInterrupt",
     "evalue": "",
     "output_type": "error",
     "traceback": [
      "\u001b[1;31m---------------------------------------------------------------------------\u001b[0m",
      "\u001b[1;31mKeyboardInterrupt\u001b[0m                         Traceback (most recent call last)",
      "Cell \u001b[1;32mIn[24], line 2\u001b[0m\n\u001b[0;32m      1\u001b[0m \u001b[38;5;66;03m# 모델 학습\u001b[39;00m\n\u001b[1;32m----> 2\u001b[0m \u001b[43mtrainer\u001b[49m\u001b[38;5;241;43m.\u001b[39;49m\u001b[43mtrain\u001b[49m\u001b[43m(\u001b[49m\u001b[43m)\u001b[49m\n",
      "File \u001b[1;32mc:\\Users\\kimso\\anaconda3\\envs\\test\\lib\\site-packages\\transformers\\trainer.py:2171\u001b[0m, in \u001b[0;36mTrainer.train\u001b[1;34m(self, resume_from_checkpoint, trial, ignore_keys_for_eval, **kwargs)\u001b[0m\n\u001b[0;32m   2169\u001b[0m         hf_hub_utils\u001b[38;5;241m.\u001b[39menable_progress_bars()\n\u001b[0;32m   2170\u001b[0m \u001b[38;5;28;01melse\u001b[39;00m:\n\u001b[1;32m-> 2171\u001b[0m     \u001b[38;5;28;01mreturn\u001b[39;00m \u001b[43minner_training_loop\u001b[49m\u001b[43m(\u001b[49m\n\u001b[0;32m   2172\u001b[0m \u001b[43m        \u001b[49m\u001b[43margs\u001b[49m\u001b[38;5;241;43m=\u001b[39;49m\u001b[43margs\u001b[49m\u001b[43m,\u001b[49m\n\u001b[0;32m   2173\u001b[0m \u001b[43m        \u001b[49m\u001b[43mresume_from_checkpoint\u001b[49m\u001b[38;5;241;43m=\u001b[39;49m\u001b[43mresume_from_checkpoint\u001b[49m\u001b[43m,\u001b[49m\n\u001b[0;32m   2174\u001b[0m \u001b[43m        \u001b[49m\u001b[43mtrial\u001b[49m\u001b[38;5;241;43m=\u001b[39;49m\u001b[43mtrial\u001b[49m\u001b[43m,\u001b[49m\n\u001b[0;32m   2175\u001b[0m \u001b[43m        \u001b[49m\u001b[43mignore_keys_for_eval\u001b[49m\u001b[38;5;241;43m=\u001b[39;49m\u001b[43mignore_keys_for_eval\u001b[49m\u001b[43m,\u001b[49m\n\u001b[0;32m   2176\u001b[0m \u001b[43m    \u001b[49m\u001b[43m)\u001b[49m\n",
      "File \u001b[1;32mc:\\Users\\kimso\\anaconda3\\envs\\test\\lib\\site-packages\\transformers\\trainer.py:2533\u001b[0m, in \u001b[0;36mTrainer._inner_training_loop\u001b[1;34m(self, batch_size, args, resume_from_checkpoint, trial, ignore_keys_for_eval)\u001b[0m\n\u001b[0;32m   2530\u001b[0m \u001b[38;5;28;01mwith\u001b[39;00m context():\n\u001b[0;32m   2531\u001b[0m     tr_loss_step \u001b[38;5;241m=\u001b[39m \u001b[38;5;28mself\u001b[39m\u001b[38;5;241m.\u001b[39mtraining_step(model, inputs, num_items_in_batch)\n\u001b[1;32m-> 2533\u001b[0m \u001b[38;5;28;01mif\u001b[39;00m (\n\u001b[0;32m   2534\u001b[0m     args\u001b[38;5;241m.\u001b[39mlogging_nan_inf_filter\n\u001b[0;32m   2535\u001b[0m     \u001b[38;5;129;01mand\u001b[39;00m \u001b[38;5;129;01mnot\u001b[39;00m is_torch_xla_available()\n\u001b[0;32m   2536\u001b[0m     \u001b[38;5;129;01mand\u001b[39;00m (torch\u001b[38;5;241m.\u001b[39misnan(tr_loss_step) \u001b[38;5;129;01mor\u001b[39;00m torch\u001b[38;5;241m.\u001b[39misinf(tr_loss_step))\n\u001b[0;32m   2537\u001b[0m ):\n\u001b[0;32m   2538\u001b[0m     \u001b[38;5;66;03m# if loss is nan or inf simply add the average of previous logged losses\u001b[39;00m\n\u001b[0;32m   2539\u001b[0m     tr_loss \u001b[38;5;241m=\u001b[39m tr_loss \u001b[38;5;241m+\u001b[39m tr_loss \u001b[38;5;241m/\u001b[39m (\u001b[38;5;241m1\u001b[39m \u001b[38;5;241m+\u001b[39m \u001b[38;5;28mself\u001b[39m\u001b[38;5;241m.\u001b[39mstate\u001b[38;5;241m.\u001b[39mglobal_step \u001b[38;5;241m-\u001b[39m \u001b[38;5;28mself\u001b[39m\u001b[38;5;241m.\u001b[39m_globalstep_last_logged)\n\u001b[0;32m   2540\u001b[0m \u001b[38;5;28;01melse\u001b[39;00m:\n",
      "\u001b[1;31mKeyboardInterrupt\u001b[0m: "
     ]
    }
   ],
   "source": [
    "# 모델 학습\n",
    "trainer.train()"
   ]
  },
  {
   "cell_type": "code",
   "execution_count": 31,
   "metadata": {},
   "outputs": [],
   "source": [
    "device = torch.device(\"cuda\")"
   ]
  },
  {
   "cell_type": "code",
   "execution_count": 33,
   "metadata": {},
   "outputs": [],
   "source": [
    "\n",
    "# 이야기 생성 함수\n",
    "def generate_story(lyrics_input):\n",
    "    # 입력 토큰화\n",
    "    input_ids = tokenizer.encode(lyrics_input, return_tensors='pt').to(device)\n",
    "\n",
    "    # 출력 생성\n",
    "    output = model.generate(\n",
    "        input_ids, \n",
    "        max_new_tokens=150, # 새로 생성할 토큰의 개수를 제한\n",
    "        num_return_sequences=1, \n",
    "        temperature=0.8, \n",
    "        top_k=50, \n",
    "        top_p=0.9, \n",
    "        repetition_penalty=1.2, \n",
    "        do_sample=True  # 샘플링 활성화\n",
    "    )\n",
    "\n",
    "    # 입력 길이 추적\n",
    "    input_length = input_ids.shape[1]\n",
    "\n",
    "    # 생성된 토큰 중 입력 토큰 이후의 부분만 디코딩\n",
    "    generated_tokens = output[0][input_length:]\n",
    "    generated_story = tokenizer.decode(generated_tokens, skip_special_tokens=True)\n",
    "\n",
    "    return generated_story"
   ]
  },
  {
   "cell_type": "code",
   "execution_count": 24,
   "metadata": {},
   "outputs": [],
   "source": [
    "lyrics1 = pd.read_csv(\"./dataset/label_result_song_short.csv\")\n",
    "lyrics2 = pd.read_csv(\"./dataset/translated_lyrics.csv\")\n",
    "\n",
    "lyrics = lyrics2.merge(lyrics1, on=[\"index\", \"id\", \"title\", \"singer\", \"genres\", \"lyrics\"])"
   ]
  },
  {
   "cell_type": "code",
   "execution_count": 25,
   "metadata": {},
   "outputs": [],
   "source": [
    "# groupby와 agg를 활용해 변환\n",
    "lyrics_input = lyrics.groupby(\"id\").agg({\n",
    "    \"title\": \"first\",   # 첫 번째 값 유지\n",
    "    \"singer\": \"first\",  # 첫 번째 값 유지\n",
    "    \"genres\": \"first\",  # 첫 번째 값 유지\n",
    "    \"lyrics\": list,  # 첫 번째 값 유지\n",
    "    \"translated_lyrics\": list,  # 리스트로 묶음\n",
    "}).reset_index()"
   ]
  },
  {
   "cell_type": "code",
   "execution_count": 26,
   "metadata": {},
   "outputs": [
    {
     "data": {
      "text/html": [
       "<div>\n",
       "<style scoped>\n",
       "    .dataframe tbody tr th:only-of-type {\n",
       "        vertical-align: middle;\n",
       "    }\n",
       "\n",
       "    .dataframe tbody tr th {\n",
       "        vertical-align: top;\n",
       "    }\n",
       "\n",
       "    .dataframe thead th {\n",
       "        text-align: right;\n",
       "    }\n",
       "</style>\n",
       "<table border=\"1\" class=\"dataframe\">\n",
       "  <thead>\n",
       "    <tr style=\"text-align: right;\">\n",
       "      <th></th>\n",
       "      <th>id</th>\n",
       "      <th>title</th>\n",
       "      <th>singer</th>\n",
       "      <th>genres</th>\n",
       "      <th>lyrics</th>\n",
       "      <th>translated_lyrics</th>\n",
       "    </tr>\n",
       "  </thead>\n",
       "  <tbody>\n",
       "    <tr>\n",
       "      <th>0</th>\n",
       "      <td>418168</td>\n",
       "      <td>희재</td>\n",
       "      <td>성시경</td>\n",
       "      <td>발라드, 국내영화</td>\n",
       "      <td>[햇살은 우릴 위해 내리고 , 바람도 서롤 감싸게 했죠 , 우리 웃음속에, 계절은 ...</td>\n",
       "      <td>[햇살은 우릴 위해 내리고 , 바람도 서롤 감싸게 했죠 , 우리 웃음속에, 계절은 ...</td>\n",
       "    </tr>\n",
       "    <tr>\n",
       "      <th>1</th>\n",
       "      <td>418598</td>\n",
       "      <td>친구라도 될 걸 그랬어</td>\n",
       "      <td>거미 (GUMMY)</td>\n",
       "      <td>R&amp;B/Soul</td>\n",
       "      <td>[벌써 넌 내가 편하니, 웃으며 인사 할 만큼, 까맣게 나를 잊었니, 네 곁에 있는...</td>\n",
       "      <td>[벌써 넌 내가 편하니, 웃으며 인사 할 만큼, 까맣게 나를 잊었니, 네 곁에 있는...</td>\n",
       "    </tr>\n",
       "    <tr>\n",
       "      <th>2</th>\n",
       "      <td>711626</td>\n",
       "      <td>살다가</td>\n",
       "      <td>SG 워너비</td>\n",
       "      <td>발라드</td>\n",
       "      <td>[살아도 사는 게 아니래, 너 없는 하늘에, 창 없는 감옥 같아서, 웃어도 웃는 게...</td>\n",
       "      <td>[살아도 사는 게 아니래, 너 없는 하늘에, 창 없는 감옥 같아서, 웃어도 웃는 게...</td>\n",
       "    </tr>\n",
       "    <tr>\n",
       "      <th>3</th>\n",
       "      <td>1500196</td>\n",
       "      <td>내사람</td>\n",
       "      <td>SG 워너비</td>\n",
       "      <td>R&amp;B/Soul</td>\n",
       "      <td>[내 가슴속에 사는 사람 내가 그토록 아끼는 사람 , 너무 소중해 마음껏 안아보지도...</td>\n",
       "      <td>[내 가슴속에 사는 사람 내가 그토록 아끼는 사람 , 너무 소중해 마음껏 안아보지도...</td>\n",
       "    </tr>\n",
       "    <tr>\n",
       "      <th>4</th>\n",
       "      <td>1854856</td>\n",
       "      <td>라라라</td>\n",
       "      <td>SG 워너비</td>\n",
       "      <td>발라드</td>\n",
       "      <td>[그대는 참 아름다워요, 밤 하늘의 별빛보다 빛나요, 지친 나의 마음을 따뜻하게 감...</td>\n",
       "      <td>[그대는 참 아름다워요, 밤 하늘의 별빛보다 빛나요, 지친 나의 마음을 따뜻하게 감...</td>\n",
       "    </tr>\n",
       "  </tbody>\n",
       "</table>\n",
       "</div>"
      ],
      "text/plain": [
       "        id         title      singer     genres  \\\n",
       "0   418168            희재         성시경  발라드, 국내영화   \n",
       "1   418598  친구라도 될 걸 그랬어  거미 (GUMMY)   R&B/Soul   \n",
       "2   711626           살다가      SG 워너비        발라드   \n",
       "3  1500196           내사람      SG 워너비   R&B/Soul   \n",
       "4  1854856           라라라      SG 워너비        발라드   \n",
       "\n",
       "                                              lyrics  \\\n",
       "0  [햇살은 우릴 위해 내리고 , 바람도 서롤 감싸게 했죠 , 우리 웃음속에, 계절은 ...   \n",
       "1  [벌써 넌 내가 편하니, 웃으며 인사 할 만큼, 까맣게 나를 잊었니, 네 곁에 있는...   \n",
       "2  [살아도 사는 게 아니래, 너 없는 하늘에, 창 없는 감옥 같아서, 웃어도 웃는 게...   \n",
       "3  [내 가슴속에 사는 사람 내가 그토록 아끼는 사람 , 너무 소중해 마음껏 안아보지도...   \n",
       "4  [그대는 참 아름다워요, 밤 하늘의 별빛보다 빛나요, 지친 나의 마음을 따뜻하게 감...   \n",
       "\n",
       "                                   translated_lyrics  \n",
       "0  [햇살은 우릴 위해 내리고 , 바람도 서롤 감싸게 했죠 , 우리 웃음속에, 계절은 ...  \n",
       "1  [벌써 넌 내가 편하니, 웃으며 인사 할 만큼, 까맣게 나를 잊었니, 네 곁에 있는...  \n",
       "2  [살아도 사는 게 아니래, 너 없는 하늘에, 창 없는 감옥 같아서, 웃어도 웃는 게...  \n",
       "3  [내 가슴속에 사는 사람 내가 그토록 아끼는 사람 , 너무 소중해 마음껏 안아보지도...  \n",
       "4  [그대는 참 아름다워요, 밤 하늘의 별빛보다 빛나요, 지친 나의 마음을 따뜻하게 감...  "
      ]
     },
     "execution_count": 26,
     "metadata": {},
     "output_type": "execute_result"
    }
   ],
   "source": [
    "lyrics_input.head()"
   ]
  },
  {
   "cell_type": "code",
   "execution_count": 105,
   "metadata": {},
   "outputs": [
    {
     "name": "stdout",
     "output_type": "stream",
     "text": [
      "밤양갱\n"
     ]
    }
   ],
   "source": [
    "i = 725\n",
    "print(lyrics_input[\"title\"][i])"
   ]
  },
  {
   "cell_type": "code",
   "execution_count": 104,
   "metadata": {},
   "outputs": [
    {
     "name": "stdout",
     "output_type": "stream",
     "text": [
      "내가 누울 자린 아마도 한참 더 위로 아니 적당히 미끈한 곳에 뿌리내리긴 싫어 내 뒤로 착착 따라붙어 다 예쁘게 줄지어 난 기어코 하늘에 필래 음, 뭐죠? 아 아주 작습니다. le아der 아슬아슬히 나는 홀씨 하나 또 다른 길을 향해서 비행 높은 옆으로 꽃 피우기 혹시 나의 안부를 묻는 누군가 있거든 전해줘 걔는 홀씨가 됐다구 날 따라, 언젠가 밖으로 나가 옆으로 승리 날 따라, 날아가 꼭대기루 여러분 말하자면 '후‘ 저는 어쩌면 파리 여러분 말하자면 '후‘ 그러면 저는 파리 날 따라, 심지어 무언가를 하지 않고 날개 날 따라, 떠올라 공중으루 여러분 말하자면 '후‘ 저는 어쩌면 파리 여러분 말하자면 '후' 그러면 저는 파리 다 날 볼 수 있게 날아 줄게 한가운데 시력을 위해 꼭 지참해 니 햇빛 올려보면 눈부셔 고소공포 하나도 안 무셔 따가운 태양과 무지 가까운 거리 까지 올라가 난 무심히 내려보리 구름을 골라타 간만에 한바탕 싹 어질러볼까 빙글빙그르 나는 홀씨 하나 가파른 바람을 타고 비행 높은 옆으로 꽃 피우기 혹시 나의 안부를 묻는 누군가 있거든 전해줘 걔는 홀씨가 됐다구 날 따라, 언젠가 밖으로 나가 옆으로 승리 날 따라, 날아가 꼭대기루 여러분 말하자면 '후‘ 저는 어쩌면 파리 여러분 말하자면 '후‘ 그러면 저는 파리 날 따라, 심지어 무언가를 하지 않고 날개 날 따라, 떠올라 공중으루 여러분 말하자면 '후‘ 저는 어쩌면 파리 여러분 말하자면 '후' 그러면 저는 파리 앞길이 만만치 않아도 엄살은 뒤로 내 선택이야 늘 그랬듯이 쉬울 확률은 0 남은 거 탈탈 털어줄게 모두 행운을 빌어 구태여 인사하고 갈래 5월 신 무언가를 해야 합니다. 바이러스 야 보세요. 야\n"
     ]
    }
   ],
   "source": [
    "prompt = \" \".join(lyrics_input[\"translated_lyrics\"][i])\n",
    "\n",
    "print(prompt)"
   ]
  },
  {
   "cell_type": "code",
   "execution_count": 81,
   "metadata": {},
   "outputs": [
    {
     "ename": "RuntimeError",
     "evalue": "CUDA error: device-side assert triggered\nCUDA kernel errors might be asynchronously reported at some other API call, so the stacktrace below might be incorrect.\nFor debugging consider passing CUDA_LAUNCH_BLOCKING=1\nCompile with `TORCH_USE_CUDA_DSA` to enable device-side assertions.\n",
     "output_type": "error",
     "traceback": [
      "\u001b[1;31m---------------------------------------------------------------------------\u001b[0m",
      "\u001b[1;31mRuntimeError\u001b[0m                              Traceback (most recent call last)",
      "Cell \u001b[1;32mIn[81], line 2\u001b[0m\n\u001b[0;32m      1\u001b[0m \u001b[38;5;66;03m# 가사로 이야기 생성\u001b[39;00m\n\u001b[1;32m----> 2\u001b[0m generated_story \u001b[38;5;241m=\u001b[39m \u001b[43mgenerate_story\u001b[49m\u001b[43m(\u001b[49m\u001b[43mprompt\u001b[49m\u001b[43m)\u001b[49m\n\u001b[0;32m      3\u001b[0m \u001b[38;5;28mprint\u001b[39m(\u001b[38;5;124m\"\u001b[39m\u001b[38;5;124m생성된 이야기:\u001b[39m\u001b[38;5;124m\"\u001b[39m, generated_story)\n",
      "Cell \u001b[1;32mIn[33], line 4\u001b[0m, in \u001b[0;36mgenerate_story\u001b[1;34m(lyrics_input)\u001b[0m\n\u001b[0;32m      2\u001b[0m \u001b[38;5;28;01mdef\u001b[39;00m\u001b[38;5;250m \u001b[39m\u001b[38;5;21mgenerate_story\u001b[39m(lyrics_input):\n\u001b[0;32m      3\u001b[0m     \u001b[38;5;66;03m# 입력 토큰화\u001b[39;00m\n\u001b[1;32m----> 4\u001b[0m     input_ids \u001b[38;5;241m=\u001b[39m \u001b[43mtokenizer\u001b[49m\u001b[38;5;241;43m.\u001b[39;49m\u001b[43mencode\u001b[49m\u001b[43m(\u001b[49m\u001b[43mlyrics_input\u001b[49m\u001b[43m,\u001b[49m\u001b[43m \u001b[49m\u001b[43mreturn_tensors\u001b[49m\u001b[38;5;241;43m=\u001b[39;49m\u001b[38;5;124;43m'\u001b[39;49m\u001b[38;5;124;43mpt\u001b[39;49m\u001b[38;5;124;43m'\u001b[39;49m\u001b[43m)\u001b[49m\u001b[38;5;241;43m.\u001b[39;49m\u001b[43mto\u001b[49m\u001b[43m(\u001b[49m\u001b[43mdevice\u001b[49m\u001b[43m)\u001b[49m\n\u001b[0;32m      6\u001b[0m     \u001b[38;5;66;03m# 출력 생성\u001b[39;00m\n\u001b[0;32m      7\u001b[0m     output \u001b[38;5;241m=\u001b[39m model\u001b[38;5;241m.\u001b[39mgenerate(\n\u001b[0;32m      8\u001b[0m         input_ids, \n\u001b[0;32m      9\u001b[0m         max_new_tokens\u001b[38;5;241m=\u001b[39m\u001b[38;5;241m150\u001b[39m, \u001b[38;5;66;03m# 새로 생성할 토큰의 개수를 제한\u001b[39;00m\n\u001b[1;32m   (...)\u001b[0m\n\u001b[0;32m     15\u001b[0m         do_sample\u001b[38;5;241m=\u001b[39m\u001b[38;5;28;01mTrue\u001b[39;00m  \u001b[38;5;66;03m# 샘플링 활성화\u001b[39;00m\n\u001b[0;32m     16\u001b[0m     )\n",
      "\u001b[1;31mRuntimeError\u001b[0m: CUDA error: device-side assert triggered\nCUDA kernel errors might be asynchronously reported at some other API call, so the stacktrace below might be incorrect.\nFor debugging consider passing CUDA_LAUNCH_BLOCKING=1\nCompile with `TORCH_USE_CUDA_DSA` to enable device-side assertions.\n"
     ]
    }
   ],
   "source": [
    "# 가사로 이야기 생성\n",
    "generated_story = generate_story(prompt)\n",
    "print(\"생성된 이야기:\", generated_story)"
   ]
  },
  {
   "cell_type": "code",
   "execution_count": null,
   "metadata": {},
   "outputs": [],
   "source": [
    "# 가사로 이야기 생성\n",
    "# lyrics_input = \"\"\n",
    "# generated_story = generate_story(lyrics_input, tag1=\"2\", tag2=\"2\")\n",
    "# print(\"생성된 이야기:\", generated_story)"
   ]
  }
 ],
 "metadata": {
  "kernelspec": {
   "display_name": "test",
   "language": "python",
   "name": "python3"
  },
  "language_info": {
   "codemirror_mode": {
    "name": "ipython",
    "version": 3
   },
   "file_extension": ".py",
   "mimetype": "text/x-python",
   "name": "python",
   "nbconvert_exporter": "python",
   "pygments_lexer": "ipython3",
   "version": "3.9.21"
  }
 },
 "nbformat": 4,
 "nbformat_minor": 2
}
