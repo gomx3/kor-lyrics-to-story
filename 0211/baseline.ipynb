{
 "cells": [
  {
   "cell_type": "code",
   "execution_count": 1,
   "metadata": {},
   "outputs": [],
   "source": [
    "import os\n",
    "import pandas as pd\n",
    "import json"
   ]
  },
  {
   "cell_type": "code",
   "execution_count": 2,
   "metadata": {},
   "outputs": [
    {
     "name": "stderr",
     "output_type": "stream",
     "text": [
      "c:\\Users\\kimso\\anaconda3\\envs\\test\\lib\\site-packages\\tqdm\\auto.py:21: TqdmWarning: IProgress not found. Please update jupyter and ipywidgets. See https://ipywidgets.readthedocs.io/en/stable/user_install.html\n",
      "  from .autonotebook import tqdm as notebook_tqdm\n"
     ]
    }
   ],
   "source": [
    "import torch\n",
    "from transformers import GPT2LMHeadModel, PreTrainedTokenizerFast, Trainer, TrainingArguments\n",
    "from torch.utils.data import Dataset, DataLoader \n",
    "from sklearn.model_selection import train_test_split\n",
    "from sklearn.preprocessing import LabelEncoder"
   ]
  },
  {
   "cell_type": "markdown",
   "metadata": {},
   "source": [
    "### 데이터 불러오기"
   ]
  },
  {
   "cell_type": "markdown",
   "metadata": {},
   "source": [
    "#### 1. 가사"
   ]
  },
  {
   "cell_type": "code",
   "execution_count": 3,
   "metadata": {},
   "outputs": [],
   "source": [
    "lyrics1 = pd.read_csv(\"./dataset/label_result_song_short.csv\")\n",
    "lyrics2 = pd.read_csv(\"./dataset/translated_lyrics.csv\")\n",
    "\n",
    "lyrics = lyrics2.merge(lyrics1, on=[\"index\", \"id\", \"title\", \"singer\", \"genres\", \"lyrics\"])"
   ]
  },
  {
   "cell_type": "code",
   "execution_count": 4,
   "metadata": {},
   "outputs": [
    {
     "data": {
      "text/html": [
       "<div>\n",
       "<style scoped>\n",
       "    .dataframe tbody tr th:only-of-type {\n",
       "        vertical-align: middle;\n",
       "    }\n",
       "\n",
       "    .dataframe tbody tr th {\n",
       "        vertical-align: top;\n",
       "    }\n",
       "\n",
       "    .dataframe thead th {\n",
       "        text-align: right;\n",
       "    }\n",
       "</style>\n",
       "<table border=\"1\" class=\"dataframe\">\n",
       "  <thead>\n",
       "    <tr style=\"text-align: right;\">\n",
       "      <th></th>\n",
       "      <th>index</th>\n",
       "      <th>id</th>\n",
       "      <th>title</th>\n",
       "      <th>singer</th>\n",
       "      <th>genres</th>\n",
       "      <th>lyrics</th>\n",
       "      <th>translated_lyrics</th>\n",
       "      <th>sentiment</th>\n",
       "      <th>sentiment_label</th>\n",
       "    </tr>\n",
       "  </thead>\n",
       "  <tbody>\n",
       "    <tr>\n",
       "      <th>0</th>\n",
       "      <td>1</td>\n",
       "      <td>37140709</td>\n",
       "      <td>첫 만남은 계획대로 되지 않아</td>\n",
       "      <td>TWS (투어스)</td>\n",
       "      <td>댄스</td>\n",
       "      <td>Ay ay ay ay ay</td>\n",
       "      <td>Ay ay ay ay ay</td>\n",
       "      <td>2</td>\n",
       "      <td>분노</td>\n",
       "    </tr>\n",
       "    <tr>\n",
       "      <th>1</th>\n",
       "      <td>2</td>\n",
       "      <td>37140709</td>\n",
       "      <td>첫 만남은 계획대로 되지 않아</td>\n",
       "      <td>TWS (투어스)</td>\n",
       "      <td>댄스</td>\n",
       "      <td>거울 속에 내 표정 봐 봐</td>\n",
       "      <td>거울 속에 내 표정 봐 봐</td>\n",
       "      <td>5</td>\n",
       "      <td>당황</td>\n",
       "    </tr>\n",
       "    <tr>\n",
       "      <th>2</th>\n",
       "      <td>3</td>\n",
       "      <td>37140709</td>\n",
       "      <td>첫 만남은 계획대로 되지 않아</td>\n",
       "      <td>TWS (투어스)</td>\n",
       "      <td>댄스</td>\n",
       "      <td>느낌 So good 기다려온 D-day</td>\n",
       "      <td>느낌 그래서 좋아요. 기다려온 D-하루</td>\n",
       "      <td>0</td>\n",
       "      <td>기쁨</td>\n",
       "    </tr>\n",
       "    <tr>\n",
       "      <th>3</th>\n",
       "      <td>4</td>\n",
       "      <td>37140709</td>\n",
       "      <td>첫 만남은 계획대로 되지 않아</td>\n",
       "      <td>TWS (투어스)</td>\n",
       "      <td>댄스</td>\n",
       "      <td>연습했던 손든 인사도 그대로 하면 돼</td>\n",
       "      <td>연습했던 손든 인사도 그대로 하면 돼</td>\n",
       "      <td>0</td>\n",
       "      <td>기쁨</td>\n",
       "    </tr>\n",
       "    <tr>\n",
       "      <th>4</th>\n",
       "      <td>5</td>\n",
       "      <td>37140709</td>\n",
       "      <td>첫 만남은 계획대로 되지 않아</td>\n",
       "      <td>TWS (투어스)</td>\n",
       "      <td>댄스</td>\n",
       "      <td>Hairstyle check하고 한 번 Turn around</td>\n",
       "      <td>머리스타일 확인하고 한 번 회전 주변</td>\n",
       "      <td>2</td>\n",
       "      <td>분노</td>\n",
       "    </tr>\n",
       "  </tbody>\n",
       "</table>\n",
       "</div>"
      ],
      "text/plain": [
       "   index        id             title     singer genres  \\\n",
       "0      1  37140709  첫 만남은 계획대로 되지 않아  TWS (투어스)     댄스   \n",
       "1      2  37140709  첫 만남은 계획대로 되지 않아  TWS (투어스)     댄스   \n",
       "2      3  37140709  첫 만남은 계획대로 되지 않아  TWS (투어스)     댄스   \n",
       "3      4  37140709  첫 만남은 계획대로 되지 않아  TWS (투어스)     댄스   \n",
       "4      5  37140709  첫 만남은 계획대로 되지 않아  TWS (투어스)     댄스   \n",
       "\n",
       "                              lyrics      translated_lyrics  sentiment  \\\n",
       "0                     Ay ay ay ay ay         Ay ay ay ay ay          2   \n",
       "1                     거울 속에 내 표정 봐 봐         거울 속에 내 표정 봐 봐          5   \n",
       "2              느낌 So good 기다려온 D-day  느낌 그래서 좋아요. 기다려온 D-하루          0   \n",
       "3               연습했던 손든 인사도 그대로 하면 돼   연습했던 손든 인사도 그대로 하면 돼          0   \n",
       "4  Hairstyle check하고 한 번 Turn around   머리스타일 확인하고 한 번 회전 주변          2   \n",
       "\n",
       "  sentiment_label  \n",
       "0              분노  \n",
       "1              당황  \n",
       "2              기쁨  \n",
       "3              기쁨  \n",
       "4              분노  "
      ]
     },
     "execution_count": 4,
     "metadata": {},
     "output_type": "execute_result"
    }
   ],
   "source": [
    "lyrics.head()"
   ]
  },
  {
   "cell_type": "markdown",
   "metadata": {},
   "source": [
    "#### 2. 소설"
   ]
  },
  {
   "cell_type": "code",
   "execution_count": 5,
   "metadata": {},
   "outputs": [],
   "source": [
    "novel_final = pd.read_csv('./dataset/classified_novel1.csv')\n",
    "data = novel_final.copy()"
   ]
  },
  {
   "cell_type": "code",
   "execution_count": 6,
   "metadata": {},
   "outputs": [
    {
     "data": {
      "text/plain": [
       "885014"
      ]
     },
     "execution_count": 6,
     "metadata": {},
     "output_type": "execute_result"
    }
   ],
   "source": [
    "# data = data.sample(n=50000, random_state=42).reset_index(drop=True)\n",
    "\n",
    "len(data)"
   ]
  },
  {
   "cell_type": "code",
   "execution_count": 7,
   "metadata": {},
   "outputs": [
    {
     "data": {
      "text/html": [
       "<div>\n",
       "<style scoped>\n",
       "    .dataframe tbody tr th:only-of-type {\n",
       "        vertical-align: middle;\n",
       "    }\n",
       "\n",
       "    .dataframe tbody tr th {\n",
       "        vertical-align: top;\n",
       "    }\n",
       "\n",
       "    .dataframe thead th {\n",
       "        text-align: right;\n",
       "    }\n",
       "</style>\n",
       "<table border=\"1\" class=\"dataframe\">\n",
       "  <thead>\n",
       "    <tr style=\"text-align: right;\">\n",
       "      <th></th>\n",
       "      <th>Column1</th>\n",
       "      <th>file_id</th>\n",
       "      <th>title</th>\n",
       "      <th>paragraph_id</th>\n",
       "      <th>text</th>\n",
       "      <th>labels</th>\n",
       "      <th>sentiment</th>\n",
       "    </tr>\n",
       "  </thead>\n",
       "  <tbody>\n",
       "    <tr>\n",
       "      <th>0</th>\n",
       "      <td>0</td>\n",
       "      <td>WARW1800000007</td>\n",
       "      <td>이야기꾼 구연설화</td>\n",
       "      <td>WARW1800000007.1.1</td>\n",
       "      <td>01범보다 무서운 곶감</td>\n",
       "      <td>4.0</td>\n",
       "      <td>불안</td>\n",
       "    </tr>\n",
       "    <tr>\n",
       "      <th>1</th>\n",
       "      <td>1</td>\n",
       "      <td>WARW1800000007</td>\n",
       "      <td>이야기꾼 구연설화</td>\n",
       "      <td>WARW1800000007.1.2</td>\n",
       "      <td>화자를 처음 만나 이야기를 들으러 왔다고 하자 서슴없이 꺼낸 첫 이야기이다. 화자로...</td>\n",
       "      <td>4.0</td>\n",
       "      <td>불안</td>\n",
       "    </tr>\n",
       "    <tr>\n",
       "      <th>2</th>\n",
       "      <td>2</td>\n",
       "      <td>WARW1800000007</td>\n",
       "      <td>이야기꾼 구연설화</td>\n",
       "      <td>WARW1800000007.1.3</td>\n",
       "      <td>그링깨. 사람이 어거지루는 못 살구. 응? 어거지루 안 되능 거여. 사람이 그링깨 ...</td>\n",
       "      <td>2.0</td>\n",
       "      <td>분노</td>\n",
       "    </tr>\n",
       "    <tr>\n",
       "      <th>3</th>\n",
       "      <td>3</td>\n",
       "      <td>WARW1800000007</td>\n",
       "      <td>이야기꾼 구연설화</td>\n",
       "      <td>WARW1800000007.1.4</td>\n",
       "      <td>그래 옛날, 그 꼭감이라능 게 말여. 사람이 먹잖야 이케? 먹지마는. 그게 참 무성...</td>\n",
       "      <td>4.0</td>\n",
       "      <td>불안</td>\n",
       "    </tr>\n",
       "    <tr>\n",
       "      <th>4</th>\n",
       "      <td>4</td>\n",
       "      <td>WARW1800000007</td>\n",
       "      <td>이야기꾼 구연설화</td>\n",
       "      <td>WARW1800000007.1.5</td>\n",
       "      <td>애기가 울어. 옛날에. 그래 할머니가 달갸(달래). 그때 호랭이가, 응? 그 집 문...</td>\n",
       "      <td>1.0</td>\n",
       "      <td>슬픔</td>\n",
       "    </tr>\n",
       "  </tbody>\n",
       "</table>\n",
       "</div>"
      ],
      "text/plain": [
       "   Column1         file_id      title        paragraph_id  \\\n",
       "0        0  WARW1800000007  이야기꾼 구연설화  WARW1800000007.1.1   \n",
       "1        1  WARW1800000007  이야기꾼 구연설화  WARW1800000007.1.2   \n",
       "2        2  WARW1800000007  이야기꾼 구연설화  WARW1800000007.1.3   \n",
       "3        3  WARW1800000007  이야기꾼 구연설화  WARW1800000007.1.4   \n",
       "4        4  WARW1800000007  이야기꾼 구연설화  WARW1800000007.1.5   \n",
       "\n",
       "                                                text  labels sentiment  \n",
       "0                                       01범보다 무서운 곶감     4.0        불안  \n",
       "1  화자를 처음 만나 이야기를 들으러 왔다고 하자 서슴없이 꺼낸 첫 이야기이다. 화자로...     4.0        불안  \n",
       "2  그링깨. 사람이 어거지루는 못 살구. 응? 어거지루 안 되능 거여. 사람이 그링깨 ...     2.0        분노  \n",
       "3  그래 옛날, 그 꼭감이라능 게 말여. 사람이 먹잖야 이케? 먹지마는. 그게 참 무성...     4.0        불안  \n",
       "4  애기가 울어. 옛날에. 그래 할머니가 달갸(달래). 그때 호랭이가, 응? 그 집 문...     1.0        슬픔  "
      ]
     },
     "execution_count": 7,
     "metadata": {},
     "output_type": "execute_result"
    }
   ],
   "source": [
    "data.head()"
   ]
  },
  {
   "cell_type": "markdown",
   "metadata": {},
   "source": [
    "### Preprocessing"
   ]
  },
  {
   "cell_type": "code",
   "execution_count": 8,
   "metadata": {},
   "outputs": [
    {
     "name": "stdout",
     "output_type": "stream",
     "text": [
      "NaN 개수: 79\n",
      "None 포함 여부: 79\n"
     ]
    }
   ],
   "source": [
    "print(\"NaN 개수:\", data['text'].isna().sum())  # NaN 개수 확인\n",
    "print(\"None 포함 여부:\", data['text'].isnull().sum())  # None 개수 확인"
   ]
  },
  {
   "cell_type": "code",
   "execution_count": 9,
   "metadata": {},
   "outputs": [],
   "source": [
    "data['text'] = data['text'].fillna(\"\")"
   ]
  },
  {
   "cell_type": "code",
   "execution_count": 10,
   "metadata": {},
   "outputs": [
    {
     "name": "stdout",
     "output_type": "stream",
     "text": [
      "NaN 개수: 0\n",
      "None 포함 여부: 0\n"
     ]
    }
   ],
   "source": [
    "print(\"NaN 개수:\", data['text'].isna().sum())  # NaN 개수 확인\n",
    "print(\"None 포함 여부:\", data['text'].isnull().sum())  # None 개수 확인"
   ]
  },
  {
   "cell_type": "code",
   "execution_count": 11,
   "metadata": {},
   "outputs": [],
   "source": [
    "# 같은 title을 가진 데이터에서 100개씩 묶어 그룹화\n",
    "data[\"group\"] = data.groupby(\"title\").cumcount() // 100  # 100개 단위 그룹 생성"
   ]
  },
  {
   "cell_type": "code",
   "execution_count": 12,
   "metadata": {},
   "outputs": [
    {
     "data": {
      "text/html": [
       "<div>\n",
       "<style scoped>\n",
       "    .dataframe tbody tr th:only-of-type {\n",
       "        vertical-align: middle;\n",
       "    }\n",
       "\n",
       "    .dataframe tbody tr th {\n",
       "        vertical-align: top;\n",
       "    }\n",
       "\n",
       "    .dataframe thead th {\n",
       "        text-align: right;\n",
       "    }\n",
       "</style>\n",
       "<table border=\"1\" class=\"dataframe\">\n",
       "  <thead>\n",
       "    <tr style=\"text-align: right;\">\n",
       "      <th></th>\n",
       "      <th>title</th>\n",
       "      <th>text</th>\n",
       "    </tr>\n",
       "  </thead>\n",
       "  <tbody>\n",
       "    <tr>\n",
       "      <th>0</th>\n",
       "      <td>이야기꾼 구연설화</td>\n",
       "      <td>[01범보다 무서운 곶감, 화자를 처음 만나 이야기를 들으러 왔다고 하자 서슴없이 ...</td>\n",
       "    </tr>\n",
       "    <tr>\n",
       "      <th>1</th>\n",
       "      <td>이야기꾼 구연설화</td>\n",
       "      <td>[&lt;봄꿩은 제 울음에 저 죽는다&gt;, 그 말과 같아서 사램이 잘못 되머넌 하는 말여....</td>\n",
       "    </tr>\n",
       "    <tr>\n",
       "      <th>2</th>\n",
       "      <td>이야기꾼 구연설화</td>\n",
       "      <td>[그래 그 여자가 쪄서 쌀얼 쪄서 밥얼 했어., “잡수라.”구., 그래 한 때를 몽...</td>\n",
       "    </tr>\n",
       "    <tr>\n",
       "      <th>3</th>\n",
       "      <td>이야기꾼 구연설화</td>\n",
       "      <td>[그랴. 그래 우리 인제 사춘 찾어간다는 얘기를 족~ 갈쳐중개,, “그러시냐구. 그...</td>\n",
       "    </tr>\n",
       "    <tr>\n",
       "      <th>4</th>\n",
       "      <td>이야기꾼 구연설화</td>\n",
       "      <td>[나와서 인제 그 집 먼지 인저 그, 그, 뭐여 면사무소 있는 디 나와서 인제, 거...</td>\n",
       "    </tr>\n",
       "  </tbody>\n",
       "</table>\n",
       "</div>"
      ],
      "text/plain": [
       "       title                                               text\n",
       "0  이야기꾼 구연설화  [01범보다 무서운 곶감, 화자를 처음 만나 이야기를 들으러 왔다고 하자 서슴없이 ...\n",
       "1  이야기꾼 구연설화  [<봄꿩은 제 울음에 저 죽는다>, 그 말과 같아서 사램이 잘못 되머넌 하는 말여....\n",
       "2  이야기꾼 구연설화  [그래 그 여자가 쪄서 쌀얼 쪄서 밥얼 했어., “잡수라.”구., 그래 한 때를 몽...\n",
       "3  이야기꾼 구연설화  [그랴. 그래 우리 인제 사춘 찾어간다는 얘기를 족~ 갈쳐중개,, “그러시냐구. 그...\n",
       "4  이야기꾼 구연설화  [나와서 인제 그 집 먼지 인저 그, 그, 뭐여 면사무소 있는 디 나와서 인제, 거..."
      ]
     },
     "execution_count": 12,
     "metadata": {},
     "output_type": "execute_result"
    }
   ],
   "source": [
    "data = data.groupby([\"file_id\", \"group\"]).agg({\n",
    "    \"title\": \"first\",  # 대표 file_id\n",
    "    \"text\": list,  # 100개씩 묶음\n",
    "}).reset_index()\n",
    "\n",
    "# 불필요한 sentiment 칼럼 삭제\n",
    "data = data.drop(columns=[\"group\", \"file_id\"])\n",
    "\n",
    "data.head()"
   ]
  },
  {
   "cell_type": "code",
   "execution_count": 13,
   "metadata": {},
   "outputs": [],
   "source": [
    "data['text'] = data['text'].apply(lambda x: ' '.join(map(str, x)) if isinstance(x, list) else str(x))\n",
    "\n",
    "# 불필요한 문자 제거\n",
    "data['text'] = data['text'].str.replace(r\"[\\[\\],']\", \"\", regex=True)"
   ]
  },
  {
   "cell_type": "code",
   "execution_count": 14,
   "metadata": {},
   "outputs": [
    {
     "data": {
      "text/html": [
       "<div>\n",
       "<style scoped>\n",
       "    .dataframe tbody tr th:only-of-type {\n",
       "        vertical-align: middle;\n",
       "    }\n",
       "\n",
       "    .dataframe tbody tr th {\n",
       "        vertical-align: top;\n",
       "    }\n",
       "\n",
       "    .dataframe thead th {\n",
       "        text-align: right;\n",
       "    }\n",
       "</style>\n",
       "<table border=\"1\" class=\"dataframe\">\n",
       "  <thead>\n",
       "    <tr style=\"text-align: right;\">\n",
       "      <th></th>\n",
       "      <th>title</th>\n",
       "      <th>text</th>\n",
       "    </tr>\n",
       "  </thead>\n",
       "  <tbody>\n",
       "    <tr>\n",
       "      <th>0</th>\n",
       "      <td>이야기꾼 구연설화</td>\n",
       "      <td>01범보다 무서운 곶감 화자를 처음 만나 이야기를 들으러 왔다고 하자 서슴없이 꺼낸...</td>\n",
       "    </tr>\n",
       "    <tr>\n",
       "      <th>1</th>\n",
       "      <td>이야기꾼 구연설화</td>\n",
       "      <td>&lt;봄꿩은 제 울음에 저 죽는다&gt; 그 말과 같아서 사램이 잘못 되머넌 하는 말여. 지...</td>\n",
       "    </tr>\n",
       "    <tr>\n",
       "      <th>2</th>\n",
       "      <td>이야기꾼 구연설화</td>\n",
       "      <td>그래 그 여자가 쪄서 쌀얼 쪄서 밥얼 했어. “잡수라.”구. 그래 한 때를 몽땅 먹...</td>\n",
       "    </tr>\n",
       "    <tr>\n",
       "      <th>3</th>\n",
       "      <td>이야기꾼 구연설화</td>\n",
       "      <td>그랴. 그래 우리 인제 사춘 찾어간다는 얘기를 족~ 갈쳐중개 “그러시냐구. 그러먼-...</td>\n",
       "    </tr>\n",
       "    <tr>\n",
       "      <th>4</th>\n",
       "      <td>이야기꾼 구연설화</td>\n",
       "      <td>나와서 인제 그 집 먼지 인저 그 그 뭐여 면사무소 있는 디 나와서 인제 거 와서 ...</td>\n",
       "    </tr>\n",
       "  </tbody>\n",
       "</table>\n",
       "</div>"
      ],
      "text/plain": [
       "       title                                               text\n",
       "0  이야기꾼 구연설화  01범보다 무서운 곶감 화자를 처음 만나 이야기를 들으러 왔다고 하자 서슴없이 꺼낸...\n",
       "1  이야기꾼 구연설화  <봄꿩은 제 울음에 저 죽는다> 그 말과 같아서 사램이 잘못 되머넌 하는 말여. 지...\n",
       "2  이야기꾼 구연설화  그래 그 여자가 쪄서 쌀얼 쪄서 밥얼 했어. “잡수라.”구. 그래 한 때를 몽땅 먹...\n",
       "3  이야기꾼 구연설화  그랴. 그래 우리 인제 사춘 찾어간다는 얘기를 족~ 갈쳐중개 “그러시냐구. 그러먼-...\n",
       "4  이야기꾼 구연설화  나와서 인제 그 집 먼지 인저 그 그 뭐여 면사무소 있는 디 나와서 인제 거 와서 ..."
      ]
     },
     "execution_count": 14,
     "metadata": {},
     "output_type": "execute_result"
    }
   ],
   "source": [
    "data.head()"
   ]
  },
  {
   "cell_type": "code",
   "execution_count": 15,
   "metadata": {},
   "outputs": [
    {
     "data": {
      "text/plain": [
       "'01범보다 무서운 곶감 화자를 처음 만나 이야기를 들으러 왔다고 하자 서슴없이 꺼낸 첫 이야기이다. 화자로서 가장 쉽게 기억해낸 이야기인 셈이다. 설화 앞뒤에 교훈적 해석을 덧붙이고 있음은 화자의 습관화된 태도의 한 모습이기도 하다. 어려서 조모로부터 들었다고 했다. 그링깨. 사람이 어거지루는 못 살구. 응? 어거지루 안 되능 거여. 사람이 그링깨 뭐이냐 하먼 자연~간 제절루 되야지 어거지루는 못 살어 사람이. 그래 옛날 그 꼭감이라능 게 말여. 사람이 먹잖야 이케? 먹지마는. 그게 참 무성(무서운) 거여. 애기가 울어. 옛날에. 그래 할머니가 달갸(달래). 그때 호랭이가 응? 그 집 문앜이 와 섰어 지금. 옛날이는 호랭이가 말두 하구 그랴. 그래 인제 그 할머니가 애기를 달램성 왼갖 소리를 다 햐. ‘호랭이 왔다’구 해두 울구우 ‘괭이 왔다’두 울구 왼갖 소리를 다 해두 울어. 그랑깨 꼭감을 “아나 꼭감.” “아가 꼭감.” 그랑깨 꺄. 안 울어. 호랭이 생각이? ‘야아 이거 내가 젤 무선 짐승인디 말여? 나보다 무서웅 게 익구나. 호랭이 꼭감이 꼭갬이 참 무석구나.’ 싶어서 인제… 근디 인제 그 집이 말여. 왱깐이(외양간에) 가 숨었어. 인제. 무서서. 소도둑놈이 소를 몰러 와서 봉깨 함 마리가 익거덩? 가서 인제 소 손지 알구 말여. 꼬랭이를 집어탔어. 그러닝깨 이 호랭이는 꼭갬인지 알구 말여. 그 사람을. ‘아따! 꼭갬이로구나’ 싶어서 인제 그 눔을 실쿠 사알살 가 지금. 그래 도독놈은 인제 호랭인 줄 몰르구 말여 손주(소인 줄) 알구 말여 이 눔을 인제 갈기를 거머쥐구 집어타구서는 사알살 가는디. 아 이 뉨이 산 속으루 들어간다 인제? 그래 산 속으루 들어강깨 날이 샜어 인제. 그라자 곰이 말여? 곰을 만내서 곰이 하는 말이 “아 호새원(호생원)?” “왜 그라냐?” “아 왜 밥얼 실쿠 와요?” “예끼 놈! 이게 꼭감이다. 큰일 난다. 저리 가거라.” “아니 밥여요. 밥여. 그 참 맛있는 밥을 실쿠 가먼서 어째 그랍니까.” 아 그라다 가다 가닝깨 호랭이가 ‘꼭갬여 꼭갬여’ 하먼서 가는디. 이릏게 바러보닝깨 큰~ 고목나무가 말여 구멕이 뻥 뚧어졌어. 그래 호랭이 등허리서 훌쩍 뗘가지구 인제 그 고목나무 올라가서 구먹으루 폭 들어갔어. 구먹으루. 들어가 앉었응깨 인제 호랭이가 하는 말이 “나는 나무를 못 타닝깨 곰 너는 나무를 잘 타닝깨 곰 너는 올라가서 구먹을 막어라. 저 호랭이 사람 못 나오게. 내 믹구먹(밑구멍)을 파마.” 이 곰이란 짐승이 이게 멍청해서 가서 깔구 앉어. 구먹을. 깔구 앉으닝깨 숩눔이라 봉알이 처억 늘어젹거덩? 그 전이는 상투를 꼽으먼 상투짤개라구 끈내끼 했어. 끈내키가아? 상투를 짬매각구 이케 상투를 찜매서 이케 옭아 빼는 그 끈내키가 있어. 이렇게 상투짤개라구우? 그 눔을 끌러 각구서는 그 곰 봉알을 그냥 이케 꼬옥 늘어진 눔을 굴 속이서 찜먀. 그링깨 아풍깨 찡그릴 거 아녀? 호랭이가 바러봉깨 이케 바러봉깨 얼굴을 찡그리거던. “너 왜 그라냐?” “괴로워하는 목소리로 아이구 나 죽겄다.” “아이구 이 놈으 새끼! 꼭감 꼭감 붙억구나. 너 인제 꼭감 붙어 죽는다.” 그래 호랭이는 내빼뻐리구 말여. 무서닝깨애? 곰은 이 눔이 내뺄라니 내빼두 못 하구 말여. 봉알을 꽉 쩜맸으닝깨 이 눔 내빼두 못 하고 잡어댕긴다 이 눔이. 잡어댕깅깨 괌얼 질러 곰이. 그 호랭이는 더 내뺘 인제. 괌을 질르닝깨 더 내빼는디 이 눔은 인제 할 수 웂이 인제 인제 곰은 죽었네. 죽어서 내려와 각구 곰을 인제 파산(해체)해 각구 웅담이라구 곰 씰개. 웅담 팔어서 부자가 되구 말여. 고기는 인제 사방이 나눠 먹구. 그래 웅담 팔어 부자… 그래 사람이 그렇게 되능 거라 그거여. 그래 꼭감이라능 것이 사람이 먹지마는 진리가 무성 거라 그거여. 그래 그 얘기 함 마디 했어. 웃음 02칡넝쿨을 갉아대는 흰 쥐와 검은 쥐 부인의 교화로 교회에 나가는 지가 14년이라는 화자는 이 이야기를 자청하여 들려주었다. 그는 처음에는 이것이 교회 신도들 앞에서 들려주려고 스스로 꾸며낸 이야기라고 하면서 이 이야기를 구연하여 신도들로부터 갈채를 받았다고 했으나 나중에는 어려서 교회에서 들은 것이라고 했다. 그 자신 종교적인 주제를 담은 좋은 이야기로 여겨 평소 이 이야기를 인상깊게 기억하고 여러 차례 남에게 들려준 적이 있는 듯하며 그러기에 자신이 꾸민 이야기라는 말까지 쉽게 한 것 같다. 이것은 일반적으로 종교 비유담으로서 잘 알려진 이야기이다. 산으로 나무를 하러 간 사람이 범에게 쫓겨 벼랑에 떨어지다가 다행히 덤불에 걸렸다. 밑을 바라보니 구렁이가 입을 벌리고 있는데 옆을 보니 바위 사이에 꿀이 있었다. 달콤한 맛에 취하여 정신없이 꿀을 먹고 있는데 덤불을 지탱하고 있는 칡덩굴을 두 마리의 쥐가 갉고 있었다. 위기를 느꼈으나 이미 때가 늦어 그 사람은 결국 덤불에서 떨어져 뱀에게 먹히고 말았다. 사람의 나고 죽는 이치가 바로 이와 같다. 말하자먼 이게 옛날 얘기는 얘긴데 이게… ‘만담’이라구 해야 하까… ‘얘기’라구 해야 하까… 이게… 내가 하나 이게 인제 교회에서 한 얘긴디. 내가 옛날 교회 인제 또 참 별 오맛(오만) 짓 다 했당깨. 안 해봉 것이 웂어 세상이. 참… 그 교회두 인제 동화 시간이 익거덩? 그람 그 시간에는 얘기를 햐. 얘기하는 시간여. 그래 옛날에 한 사람이 산으루 나무를 갔어. 나무를 갔는디. 나무를 갔는디 해필 범을 만냈어 범. 큰~ 호랭이가 큰 다락같은 눔이 송아치 큰 소만한 눔을 만내각구 달러드닝깨 막 안 죽을라구 내뺄 거 아녀? 지게두 내삘구 테이프 뒤집음… 아 이건 뭐 거기서 떨어지먼 죽걱구 말여. 그래서 저 눔한티 호랭이한티 물려 죽능 거보단두 내가 여기서 떨어지먼 뻬는 남을 테지 하구서는 그냥 뚝 떨어졌어 거기서. 베랑이서 뚝 떨어지구 보닝깨 그 밑이 가 덤부렁이 말여. 응? 덤부렁이 꼭 차각구서는 덤부렁이 가 걸렸네. 땅이루 안 떨어지구. 그래 가마안히 이케 바러봉깨 아 그 땅바닥이는 말여 구렝이가 말여 큰~ 지둥보다두 더 큰 도구통 만~한 눔이 섭바닥을 따악 벌리구 널름거리구 앉었네. 그래 땅이두 못 네러가구우 우두 못 올라가구. 우는 호랭이가 바러보구 앉억구. 아 이거 어트가야 옳여? 가운데서 덤푸럭 위여서 가마안히 앉었는디. 그래 덤푸럭이 위에 튼튼햐. 그냥 지금 말루 다래덤불이 꼭 쪄가지구서는 사람이 둥굴어두 뭐 네러지두 앙쿠 그 뿌링이가 큰 지동만~ 하게 커서 말여 튼튼하다 그거여. 근디 옆이를 바러봉깨 벌이 벌이 왔다아 갔다 햐. 그래 바러봉깨 벌 바우 새에 말여 꿀이 꿀을 박어서 말여 꽉 쪘네. 그래 고 놈을 인제 송꼬락이루 찍어서 먹어 봉깨 달지? 그래 그 눔 먹는 재미루 말여 덤부렁 인제 덤부렁두 튼튼하지 인제 호랭이두 뭐 구렝이구 그 까이꺼 두채 문제구 인제 덤푸렁 위에서 인제 그 벌얼 벌얼 새끼쳐논 디를 송구락 찍어서 먹구 인제 살어. 날마둥. 배는 앙 고파. 그린디 하루는 어찌 덤푸럭이 끈덕끈덕햐? ‘그거 별일이다’ 싶어서 가마안히 바러봉깨 뿌링이를 말여. 뿌링이를. 쥐가 쥐가 긁어 이케. 쥐가. 그래 쥐럴 쫓으야 할 거 아녀? 상기가 멀어. 뿌링이 있는 상기가. 그 바우 새가 났는디. 그런디 가마안히 바러봉깨 쥐가 두 마린디 꺼먹 눔이 오고 신(흰) 눔이 오고 그랴. 꺼먹 눔이 함 번 “닥” 긁구 가먼 꺼먹 눔이 와서 “닥” 긁구 신 눔이 와서 “닥” 긁구 그랴. ‘그 별일이다아.’ 아 결국에는 자꾸 긁어싸닝깨 나중이는 이 뿌링이가 다 긁어져서 그 큰 지둥 겉은 눔이 요만하네? 송구락 만하게 됐어. 아 그러니 말여 어트가야 옳여? 그래 꿀 파먹는 재미루 그것두 몰랐어. 아 이거 꿈적거링깨 말여 뚝 끊어졌네 그 눔이. 끄내키가 뚝 끊어져 버렸어. 뿌링이가. 뿌링이가 끊어지닝깨 주저앉을 거 아닝가? 주저앉으먼 그 밑이 구링이가 입을 벌리구 있으니 어트가야 햐. 입에 먹지. 주워 먹지. 그래서? 결국에는? 그 사람이 땅에 떨어지니까 구링이 입으루 들어갔다 이거여. 그러먼 그게 뭐냐? 이 세상 사람 세상사여. 사람이 어머니 뱃속에서 응? 쬑겨나왔어. 열 달을. 열 달 동안을 자꾸 가다가 가다가 그냥 뚝 떨어져서 자리바닥이 워서 떨어지구 보닝깨 덤푸락 위에 앉었어. 그러먼 세상에서 먹는 재미루 말여. 먹는 재미루 자기 죽능 것얼 몰라. 그러먼 내가 죽으먼 워디루 가냐? 그러먼 지옥으루 가. 지옥. 지옥이 인제 지옥 문이 열려서 툭 널어지먼 지옥으루 가거던? 지옥으루 가 죽어버려. 가뻐려. 그래 사람이 먹는 재미가 그거라 그거여. 세상사가 그러닝깨 이 세상사가 이렇다 이거여. 그래 어매 뱃속에서 쬑겨 나와각구 자립바닥 우서 둥글을 때에 그 덤푸럭 위에 있능 거 항 가지여. 그러먼 이 세상에 밥 먹는 재미루 밥 먹음선 어머니 젖 먹구 커서 밥 먹구. 먹는 재미 빾이지 죽능 걸 생각 안 햐 응? 사람 사람이. 03무서운 이야기 청자가 ‘소금장수가 체험한 무서운 이야기’로 서두를 꺼내 보이자 대뜸 소금장사가 아니라 형을 찾아간 아우가 겪은 이야기라며 시작했다. 전체적으로 볼 때 줄거리 전개가 부드럽지 못한 점이 있고 세부 묘사가 섬세하지 못한 편이어서 무서운 이야기로서의 맛이 충분히 실현되지 못한 구연이라는 느낌을 준다. 집을 나간 지 삼년이 되어도 안 돌아오는 형을 찾아 나선 아우가 어느 산골짝 입구에 가서 숯을 굽는 사람이 골짝 밖으로 안 나온 지가 보름이나 된다는 말을 듣고 골짝으로 들어가 보고서 과연 숯을 굽고 살던 형이 호식을 당했음을 알게 되었다. 깊은 산골이라 날이 저물어 오두막에서 하룻밤을 자게 되었는데 범이 다시 내습할 것에 대비하여 구들장을 뜯고 그 속에 숨어 숯가마 불에 달군 쇠부지깽이를 들고 범이 오기를 기다렸고 과연 밤에 나타난 범을 그것으로 찔러 죽였다. 다음날 다시 길을 나서 오다가 어느 집에서 자게 되었는데 그 집은 마침 죽은 시아버지의 장사를 치르고자 멀리 장을 보러 간 남편을 기다리는 여자 혼자 있었고 남자를 보자 여자는 남편 마중을 함께 가자고 했다. 가보니 남자는 이미 호식을 당한 뒤였고 남자가 다시 지게를 가지러 집으로 오니 죽은 시아버지 시체가 갑자기 벌떡 일어났다가 쓰러지는 것이었다. 이에 남자가 지게를 지고 여자는 횃불로 범을 쫓으며 집에 와서 함께 쌍장례를 치렀다. 그러고 나서 남자가 함께 살자는 여자의 말을 거절하고 돌아오는데 오다가 뒤돌아 보니 여자는 자기 집에 불을 지르고 스스로 타죽고 말았다. 자기 성을 찾이루 자기 성제간이 살다가 자기 형이 나간 지가 한 삼년 돼두 소식을 몰라. 그래 워디 사방 사방 차차 차차 밟어 들어 오닝깨 산골짜기서 숫(숯)얼 꿨다 이거여. 숫얼 꿔먹구 살어. 그래 가는 도중에 한 집이 있어 집이. 그래 거기를 강깨 그래 물어보니까 “예. 요 안 골짝에 그런 사람이 숯장사 했는데 여기 안 나온 지가 한… 보름 찜 안 나온다.”구 그러더랴. 그전이는 꼭 댕겼는디. 그래 재기 형인 줄 알구 찾어가 봤어. 거기를 찾어가니까 좐~ 이서(저 안에서) 그 오두막집이 말여 하나 있더라 이거여. 고 골짝이서. 가서 봉깨 숫얼 꿔서 인제 꿔놓고. 숙구뎅이두 익고. 자기 성이 참 하던 그… 있는디 자기 성이 그 호랭이한티 죽었다 이거여. 그래서 자기두 나올래 밤이라 나올 수두 욱구 해서 이 자리를 걱구 말여 구들장을 띠고 고 속이 들어가서 숨 몸을 숭기구 있어. 밤이. 날 새먼 나올라구. 그런디 밤이 인제 그 숯 굴라먼 이케 끌어내는 쇠꼬쟁이 익거덩? 그 눔을 발가니 달쿼 각구 가지구서 인제 가만히 앉었어. ‘호랭이가 들어오먼 이 눔이루 찔르야 하겄다구. 앉었이닝개 쪼꼼 있잉개 뭘 “으흥 으흥” 괌을 질러. 호랭이가 인제 사람 내가 낭깨. 응? 괌을 질러. 그래 사방이 댕기니 어디 있는 줄을 알어? 붴이루서 들어온다. 붴이루 겨 들어와. 호랭이가. 그라닝깨 들어오는 눔을 그냥 창으루 그냥 창으루 내찔렀어 그냥. 그러닝깨 호랭이가 맞일 거 아녀? 호랭이가 얼뗘. 보매(보기보다). 큰짐승이란대두. 호랭이를 그 눔이루 팍 찔르닝깨 그냥 어디를 찔렀능가 그냥 챙이 백혀각구 나가서 막 풀떡 풀떡 띠닝깨 막 더 들어갈 거 아녀? 더 들어가. 더 들어가서 푹푹 들어가닝깨 냥 호랭이가 냥 쓰러졌네 방에. 밤이 인제. 쓰러지구. 그래 밤을 넹구구서 그 이튿날 인제 배깥이를 나와. 나옹깨 그 집이 나오머넌 더 갈 수가 욱구 응? 앙 갈 수두 욱구 고 집이 가 아주 자게 . 그래 그 집이서 인제 쉬는디. “아 여보쇼? 그람 이 기왕에 여기서 자니까 좀 마중을 가자고. 우리 샤바니가 죽었는데 응? 지금 장깜(장감) 하러 우래 냄편이 장을 갔으니까 좀 갑시다.” 그라뎌랴. 오트갸? 뭐 앙 갈 수두 욱구. 집이 있자니 송장 방이 익구. “에 가자구 그람.” 그래 둘이 인제 지게를 짊어지구 웃으며 앙껏두 앙 각구 빈 몸으루 가. 그래 산골짜기닝깨 산날망이 올라가닝깨 말여 응? 한참 돌아가닝깨 호랭이가 그 남편을 발쌔 잡어먹네. 그러닝깨 여자가 막 횁불을 막 딜여미닝깨 호랭이가 그 남자를 몹 먹어. 몹 먹구 죽이기만 했어. 그래 죽 죽었어 인제 죽기는. 남자는. 그렁깨 이 여자가 하는 말이 “당신이 우리 집이 가서 지게를 각구 올라오 여기서 송장을 지킬라오?” 그라닝깨루 가마안히 생각하닝깨 호랭이한티 무서서 말여 호랭이를 못 지켜. “내 집이 가 지게 각구 온다.”구. 집이를 지게를 지러 옹깨 웃으며 아하 아 이 호랭이 호랭이는 두채 문제네. 아 이 송장이 말여 뿔~꾼 일라섰다가 말여 벌떡 자빠지니 월매나 놀래겄어. 그래 지게를 찾어 짊어지구 막 갔다. 그래 거기 와서는 하는 말이 “당신이 이 송장을 짊어지구 갈라우 이 횁불을 각구 호랭이를 쫓을라우?” “에 내가 짊어지구 간다.”구. 그래 호랭이 인제 호랭이는 그 여자가 인제 횁불루 막 못 오게 이릏게 이릏게 지지구 말여 응? 그래 이케 불을 댕깨 못 오잖야? 불을 질(제일) 무서항깨. 그래 송장을 짊어지구 인제 오지. 집으루 왔어 인제. 집이 와서 인제 한 쪽이다 눼놓고 있으닝깨 호랭이가 막 앞뒤루 댕기머 괌을 질르네. 밥을 몹 먹게 했으닝깨. 그래서 인제 그 여자가 막 집이 뺑 돌아가먼서 장작불을 놓고 호랭이 못 오게 인제 불얼 놓고 지켜. 그나 저나 날이 샜네. 그렁깨 하는 여자가 하는 말이 “아 여보 이릏게 당신이 가먼 안 되닝깨 이 방이 송장두 치워야 하구 냄편두 파묻으야 하닝깨 좀 해달라.”구 말여. 목 가겄더랴. 그래 방이 있는 시아바니 갖다 파묵구. 인제 또 인제 그 남편되는 사람 장사하구. 그 호랭이는 저녁마둥 와. 그래 인제 “당신이 이케 나랑 이케 애를 썼으니 나랑 예서 살라우 당신 갈라우?” 그랑깨 남자가 하는 말이 “나 여기서 못 산다구. 간다.”구. 그래 그 여자하구 인제 상구 동품했지. 상구. 그래 삼선(살면서) “에 가야겄다.”구. 그래 그 남자 남자가 여자를 바리구 나와. 나오는 챔인디. 이 아래 오닝깨 여자가 말여 지봉이루 올라가서 앙꼬(앉고) 집얼 뺑 돌라 불얼 질르고 지봉 날망이 앉었더랴. 여자가. 그래 독햐. 그래 여자두 죽어 뻐리구. 남자는 그래 거기서 피해 나와 각구 자기 집이루 와서 살었댜. 04까치의 보은(1) 까치의 보은담을 묻자 이 이야기부터 꺼냈다. 이야기에 인용된 시가 연주시집에 나온다는 말을 한 것으로 보아 화자가 이 이야기를 중국의 연주시와 관련된 배경담으로 들은 것인 듯한데 그러나 설화와의 관련성을 고려하면 오히려 시가 설화에 이끌려 재해석된 것이라 할 수 있다. 화자는 본문 가운데 중요한 시구와 그 해석을 부정확하게 알고 있었지만 그 자신은 이를 의식하지 못하고 별 막힘이 없이 구연했다. 포수가 까치둥지로 올라가는 뱀을 쏘아 까치를 구해주고 가다가 어느 집에서 묵고 있는데 바느질을 하고 있는 주인 여자를 가만히 보니 혀가 두 갈래였다. 변신한 뱀이라고 여기고 물을 좀 떠다 달라고 한 뒤에 급히 도망쳐 나와 물가에 다다랐으나 배가 없었다. 이에 까치떼가 돌을 물어다가 건너편에 있는 한산사의 종을 쳤고 절의 중이 배를 건네주어 목숨을 구할 수가 있었다. 그러닝깨 그 글이 있어. 야밤종세에 도객선이라. 응? 밤중에 종소리 나기에 배를 건녔다. 한산사외 고소성외 한산사에 야밤종세에 도객선이라. 그러닝깨 총을 들고 표수가. 어디를 가다 보닝깨 구링이가 까치가 집을 졌는디 말여. 응? 까치 새끼를 먹을라구 집으루 올라가. 그래서 그 눔을 그냥 쏴 죽였어. 응? 쏴 죽이구 인제 그렁깨 까치는 살었지. 구링이는 죽었잉깨. 까치 새끼두 살구. 그라구서 인제 가는디. 산골짝이를 질을 잘못 들어서 골짝이를 가다 봉깨 어떤 집이 있는디 여자 혼자 살더랴. 그래 ‘들어오라’구 방~가(반가워) 하더랴. “들어오라.”구. 그래 들어가서 인제 저녁을 해줘서 먹는디. 저녁을 먹구. 그래 그 여자가 저녁이 앉어서 이런 얘기 저런 얘기 하는디. 반질(바느질)을 햐. 반질을 하는디 가마안히… 실끝을 맺어각구 그 끊는디 봉깨 뱜은 섭(혓)바닥이 둘여. 이케 섭바닥이루 끊는디 봉깨 섭바닥이 둘이네? 여자가. ‘하하아! 저게 무슨 곡절이 있는 일이로구나.’ 그래 이 여자가 남자가 하는 말이 “아 여보 내가 물이 먹구 싶으니 물을 좀 떠오라.”구 그랑깨루 마댜. 내뺀다구. “나갈라구 그라냐.”구. “아 그람 여보 당신 내 내 홀목하구 당신 홀목하구 찜매구 좀 떠 오라.”구. 그래 여자가 샴이 멀덩 게지? 그래 여자가 물 뜨러 가는 새에 이 끄내키를 끌러 각구 문고리다 꼭 찜매구 말여. 막 도망갔어. 도망가닝깨 이 여자가 쫓아올 거 아녀? ‘어디 가냐’구 괌을 질르먼서. 그래두 그냥 뒤두 돌아볼 것두 웂이 막 그냥 그 산골짝을 네러가닝깨 말여. 네러가는디 큰 강이 만났네. 강이. 강을 만냈는디 강을 건녀가야 되겄는디 말여. 배가 있으야 가지 밤이? 저 건네 있으니. 이 건네 가 있이먼 배를 타구 가겄는디 저 건네 있으닝깨. 구링이는 쫓아 인제 그 둥갑을 해각구 구링이가 돼 각구 쫓아오네. 하 이거 큰일 났어. 그래 그 구링이가 누구냐 하먼 아까 그 죽인 남편. 그 남편이구 이건 여자라. 그래서 자기 냄편 보를 갚을라고 구링이가 여자가 돼 가지구서 그렇게 숨어 앉었능 것을 몰랐다능 거여. 그래 배를 건니야 되겄는디 워트게 배를 건니야 그 강을 건니냐 이거여. 그래 까치덜이 새끼덜 델꾸. 그 눔이 커각구 그 절이 절. 그 한산사라는 절이 있어. 그 그 건네. 그 절이서 종얼 치먼 배를 건녀 줘. 뱀(밤)이래두. 그래 까치가 독(돌)얼 물구 가서 종얼 쳐 이케. 까치 입으루. “땡~ 땡.” 그래 종이 시 번 나. 소리가. 그래 그 절 쥥이 응? ‘아 이 밤이 종이 종소리가 나니 워쩐 일이냐’ 젚어서 나가서 보닝깨 참 저 건네 사람이 기달리거덩? 배를 건녀줘서 살었어. 그 남자가. 그래 그 글이 있어. ‘야밤종세에 도객선’이라. 야밤 밤중에 응? 종소리 시 번에 도객선이라. 손님이 강을 건녔다. 배를 건녔다. 도객선이라. 05까치의 보은(2) 비슷한 내용의 다른 이야기이다. 까치 같은 미물도 보은을 한다는 점을 강조하고자 했다. 포수가 뱀을 죽인 뒤에 어디를 갔다 오노라니 뱀딸이 있어 이것을 따먹고 알을 뱄다. 거의 죽을 지경이 된 어느 날 자신을 감나무 아래에 뉘어 노라고 하여 그렇게 하니 까치떼가 날아와 배를 쪼았고 이에 배에서 뱀 새끼가 나오는 대로 까치가 이를 모두 쪼아 죽여 포수가 무사히 소생했다. 그 사람은… 그게… 깐치를 새끼를 못 죽이구… (뱀을) 죽였는디 말여. 워디 갔다 오다 봉깨 그 딸 딸나무가 나각구 말여. 딸이. 주먹 같은 딸이 그냥 벙글 벙글~ 열력거던. 익었어. 그래 그 눔을 따 먹었다 이거여. 그 눔을 따 먹었는디. 그 눔이 점부 그 딸 그 씨가 말여. 구링이가 뱜 뱜이 돼각구. 이 뱜이 이 농알이 배각구 배가 이만치 붓어. 그래 죽게 생겼어. 그런디 그냥 죽 죽을 만 만센디. 하루는 여름인디 말여 응? 그 인저 가마안히 둔눴응깨 그 문얼 까치가 와서 쫏아 싸. 까치덜이 그래 즈 인제 식구덜 보구 “나좀 떼며다가 저어 감나무 밑이다 좀 노라.”구. 그래 인제 방석을 펴놓구 말여. 그 사람을 인제 안어다가 인제 그 감나무 밑이다 ᄂힵ 놨는디 말여. 까치덜이 와서 말여. 배를 쫏아. 쫏으닝깨 구먹이 뚧어질 거 아녀? 아리아리 터져. 그 뉨이 농알 뱄응깨 그냥 속이서 긁어먹어서 그냥 껍디기만 남어서 아리아리햐. 그래 구먹을 뚧으닝깨 거기서 뱸이 나와. 그래 나오먼 인제 그 새끼덜이 와서 콕 쫏으먼 인제 눙깔을 쫏으먼 죽구 죽구. 인제 그래 자꾸 그러네. 그래 나오는 대루 인제 뱜덜이 이케 뱜을 쫏아 죽여. 그래 각구 나중이는 배가 툭~ 꺼졌어. 그 뉨이 다 빠징깨. 그래 그 사람 살었다 이거여. 그래 사램이 그래 말 못하는 짐성두 은혜를 갚는디? 하물며 사램이 은혜 목 갚능 건 사람두 아니라 이거여. 그게 딸(딸기) 얘기여 그게. 06‘봄 꿩이 제 울음에 죽는다’ 속담을 풀이한 것으로 스스로 꺼냈다. 봄 장끼는 제 자리에서 운 뒤 날아가지를 않아 제 위치를 알려주는 꼴이 되어 사람들에게 잡히기 쉽다는 뜻이다. 옛날 하는 말이'"
      ]
     },
     "execution_count": 15,
     "metadata": {},
     "output_type": "execute_result"
    }
   ],
   "source": [
    "data.loc[0][\"text\"]"
   ]
  },
  {
   "cell_type": "code",
   "execution_count": 16,
   "metadata": {},
   "outputs": [],
   "source": [
    "# 데이터셋 클래스 정의\n",
    "class NovelsDataset(Dataset):\n",
    "    def __init__(self, data, tokenizer, text_column=\"input_text\", max_length=128):\n",
    "        self.data = data.reset_index(drop=True)  # 인덱스 리셋 (중복 방지)\n",
    "        self.tokenizer = tokenizer\n",
    "        self.text_column = text_column\n",
    "        self.max_length = max_length\n",
    "\n",
    "    def __len__(self):\n",
    "        return len(self.data)\n",
    "\n",
    "    def __getitem__(self, idx):\n",
    "        text = self.data.loc[idx, self.text_column] # input_text 가져오기\n",
    "\n",
    "        encoding = self.tokenizer.encode_plus(\n",
    "            text,\n",
    "            add_special_tokens=True,\n",
    "            max_length=self.max_length,\n",
    "            padding='max_length',\n",
    "            truncation=True,\n",
    "            return_tensors='pt'\n",
    "        )\n",
    "        input_ids = encoding['input_ids'].squeeze(0)\n",
    "        attention_mask = encoding['attention_mask'].squeeze(0)\n",
    "\n",
    "        # labels 생성 (input_ids 복사 및 패딩 토큰을 -100으로 설정)\n",
    "        labels = input_ids.clone()\n",
    "        labels[labels == self.tokenizer.pad_token_id] = -100\n",
    "\n",
    "        return {\n",
    "            'input_ids': input_ids,\n",
    "            'attention_mask': attention_mask,\n",
    "            'labels': labels,\n",
    "        }"
   ]
  },
  {
   "cell_type": "markdown",
   "metadata": {},
   "source": [
    "### Modeling"
   ]
  },
  {
   "cell_type": "code",
   "execution_count": 17,
   "metadata": {},
   "outputs": [
    {
     "name": "stderr",
     "output_type": "stream",
     "text": [
      "The tokenizer class you load from this checkpoint is not the same type as the class this function is called from. It may result in unexpected tokenization. \n",
      "The tokenizer class you load from this checkpoint is 'GPT2Tokenizer'. \n",
      "The class this function is called from is 'PreTrainedTokenizerFast'.\n"
     ]
    }
   ],
   "source": [
    "# KOGPT2 모델과 토크나이저 로드\n",
    "tokenizer = PreTrainedTokenizerFast.from_pretrained(\"skt/kogpt2-base-v2\",\n",
    "  bos_token='</s>', eos_token='</s>', unk_token='<unk>',\n",
    "  pad_token='<pad>', mask_token='<mask>')\n",
    "\n",
    "# 모델 초기화\n",
    "model = GPT2LMHeadModel.from_pretrained('skt/kogpt2-base-v2')\n",
    "\n",
    "model.config.pad_token_id = tokenizer.pad_token_id\n",
    "model.config.eos_token_id = tokenizer.eos_token_id\n",
    "model.config.bos_token_id = tokenizer.bos_token_id"
   ]
  },
  {
   "cell_type": "code",
   "execution_count": 18,
   "metadata": {},
   "outputs": [],
   "source": [
    "dataset = NovelsDataset(data, tokenizer, text_column=\"text\")\n",
    "dataloader = DataLoader(dataset, batch_size=2)"
   ]
  },
  {
   "cell_type": "code",
   "execution_count": 19,
   "metadata": {},
   "outputs": [],
   "source": [
    "# 학습 인자 설정\n",
    "training_args = TrainingArguments(\n",
    "    output_dir='./results/baseline',\n",
    "    num_train_epochs=5,\n",
    "    per_device_train_batch_size=2,\n",
    "    gradient_accumulation_steps=8,\n",
    "    learning_rate=5e-5,\n",
    "    save_steps=200,\n",
    "    save_total_limit=2,\n",
    "    logging_steps=50,\n",
    "    eval_strategy=\"epoch\",\n",
    ")"
   ]
  },
  {
   "cell_type": "code",
   "execution_count": 20,
   "metadata": {},
   "outputs": [],
   "source": [
    "train_novels, eval_novels = train_test_split(data, test_size=0.1, random_state=42)\n",
    "\n",
    "train_dataset = NovelsDataset(train_novels, tokenizer, text_column=\"text\")\n",
    "eval_dataset = NovelsDataset(eval_novels, tokenizer, text_column=\"text\")"
   ]
  },
  {
   "cell_type": "code",
   "execution_count": 21,
   "metadata": {},
   "outputs": [
    {
     "data": {
      "text/plain": [
       "8074"
      ]
     },
     "execution_count": 21,
     "metadata": {},
     "output_type": "execute_result"
    }
   ],
   "source": [
    "len(train_novels)"
   ]
  },
  {
   "cell_type": "code",
   "execution_count": 22,
   "metadata": {},
   "outputs": [],
   "source": [
    "# Trainer에 데이터셋 전달\n",
    "trainer = Trainer(\n",
    "    model=model,\n",
    "    args=training_args,\n",
    "    train_dataset=train_dataset,\n",
    "    eval_dataset=eval_dataset,  # 검증 데이터셋\n",
    ")"
   ]
  },
  {
   "cell_type": "code",
   "execution_count": 23,
   "metadata": {},
   "outputs": [
    {
     "name": "stdout",
     "output_type": "stream",
     "text": [
      "Input IDs: tensor([18519, 17582,  9117,  7652, 33298,  6841,  9316,  9135, 14668,   406,\n",
      "         9018,  8198, 31187, 15648,  9673, 15218,  8702, 25830,  9078,  9338,\n",
      "          388,   389, 17582,  9132,  7884,  6866, 46904,  7655,  7220,  9063,\n",
      "        40182,  7478,  9201,  8771,  9894,  7991,   376, 10063,  8168,  7058,\n",
      "        22882,   389,   739,  7753, 10690,  9109, 47711, 10063,  7967,   739,\n",
      "         7753,  8210,  8006,   389, 17582, 46651,  9384, 10628,  7080, 47711,\n",
      "          739, 29045,  8801,  8801,   389,  9543,  8602, 17720,  9351, 21538,\n",
      "        12109, 30152, 12814,  9143, 10785,  9138,   389, 42411, 42506, 12583,\n",
      "         9668, 10428,  6866, 13433, 22044, 12503,  8006,  6826, 27430,  9848,\n",
      "        11001, 18739,  8406,  9016, 10428,  6866, 11577, 13176,  8705,  9068,\n",
      "          739,  9168, 12503,  8263,  7969,  6889, 10027,  7285,  7210,  9395,\n",
      "         8033,  9489, 17748, 24508, 43968,  9094, 15309, 15073,  9133,  7182,\n",
      "         7183,   388, 13602,  7071, 50223, 10063,  8075, 10401])\n",
      "Attention Mask: tensor([1, 1, 1, 1, 1, 1, 1, 1, 1, 1, 1, 1, 1, 1, 1, 1, 1, 1, 1, 1, 1, 1, 1, 1,\n",
      "        1, 1, 1, 1, 1, 1, 1, 1, 1, 1, 1, 1, 1, 1, 1, 1, 1, 1, 1, 1, 1, 1, 1, 1,\n",
      "        1, 1, 1, 1, 1, 1, 1, 1, 1, 1, 1, 1, 1, 1, 1, 1, 1, 1, 1, 1, 1, 1, 1, 1,\n",
      "        1, 1, 1, 1, 1, 1, 1, 1, 1, 1, 1, 1, 1, 1, 1, 1, 1, 1, 1, 1, 1, 1, 1, 1,\n",
      "        1, 1, 1, 1, 1, 1, 1, 1, 1, 1, 1, 1, 1, 1, 1, 1, 1, 1, 1, 1, 1, 1, 1, 1,\n",
      "        1, 1, 1, 1, 1, 1, 1, 1])\n",
      "Labels: tensor([18519, 17582,  9117,  7652, 33298,  6841,  9316,  9135, 14668,   406,\n",
      "         9018,  8198, 31187, 15648,  9673, 15218,  8702, 25830,  9078,  9338,\n",
      "          388,   389, 17582,  9132,  7884,  6866, 46904,  7655,  7220,  9063,\n",
      "        40182,  7478,  9201,  8771,  9894,  7991,   376, 10063,  8168,  7058,\n",
      "        22882,   389,   739,  7753, 10690,  9109, 47711, 10063,  7967,   739,\n",
      "         7753,  8210,  8006,   389, 17582, 46651,  9384, 10628,  7080, 47711,\n",
      "          739, 29045,  8801,  8801,   389,  9543,  8602, 17720,  9351, 21538,\n",
      "        12109, 30152, 12814,  9143, 10785,  9138,   389, 42411, 42506, 12583,\n",
      "         9668, 10428,  6866, 13433, 22044, 12503,  8006,  6826, 27430,  9848,\n",
      "        11001, 18739,  8406,  9016, 10428,  6866, 11577, 13176,  8705,  9068,\n",
      "          739,  9168, 12503,  8263,  7969,  6889, 10027,  7285,  7210,  9395,\n",
      "         8033,  9489, 17748, 24508, 43968,  9094, 15309, 15073,  9133,  7182,\n",
      "         7183,   388, 13602,  7071, 50223, 10063,  8075, 10401])\n"
     ]
    }
   ],
   "source": [
    "sample = train_dataset[1]\n",
    "print(\"Input IDs:\", sample['input_ids'])\n",
    "print(\"Attention Mask:\", sample['attention_mask'])\n",
    "print(\"Labels:\", sample['labels'])"
   ]
  },
  {
   "cell_type": "code",
   "execution_count": 24,
   "metadata": {},
   "outputs": [
    {
     "name": "stderr",
     "output_type": "stream",
     "text": [
      "c:\\Users\\kimso\\anaconda3\\envs\\test\\lib\\site-packages\\transformers\\integrations\\sdpa_attention.py:53: UserWarning: 1Torch was not compiled with flash attention. (Triggered internally at C:\\cb\\pytorch_1000000000000\\work\\aten\\src\\ATen\\native\\transformers\\cuda\\sdp_utils.cpp:555.)\n",
      "  attn_output = torch.nn.functional.scaled_dot_product_attention(\n",
      "`loss_type=None` was set in the config but it is unrecognised.Using the default loss: `ForCausalLMLoss`.\n"
     ]
    },
    {
     "data": {
      "text/html": [
       "\n",
       "    <div>\n",
       "      \n",
       "      <progress value='2520' max='2520' style='width:300px; height:20px; vertical-align: middle;'></progress>\n",
       "      [2520/2520 17:41, Epoch 4/5]\n",
       "    </div>\n",
       "    <table border=\"1\" class=\"dataframe\">\n",
       "  <thead>\n",
       " <tr style=\"text-align: left;\">\n",
       "      <th>Epoch</th>\n",
       "      <th>Training Loss</th>\n",
       "      <th>Validation Loss</th>\n",
       "    </tr>\n",
       "  </thead>\n",
       "  <tbody>\n",
       "    <tr>\n",
       "      <td>0</td>\n",
       "      <td>4.311700</td>\n",
       "      <td>4.197879</td>\n",
       "    </tr>\n",
       "    <tr>\n",
       "      <td>1</td>\n",
       "      <td>3.979100</td>\n",
       "      <td>4.164830</td>\n",
       "    </tr>\n",
       "    <tr>\n",
       "      <td>2</td>\n",
       "      <td>3.692900</td>\n",
       "      <td>4.185980</td>\n",
       "    </tr>\n",
       "    <tr>\n",
       "      <td>3</td>\n",
       "      <td>3.454200</td>\n",
       "      <td>4.200779</td>\n",
       "    </tr>\n",
       "    <tr>\n",
       "      <td>4</td>\n",
       "      <td>3.264700</td>\n",
       "      <td>4.221184</td>\n",
       "    </tr>\n",
       "  </tbody>\n",
       "</table><p>"
      ],
      "text/plain": [
       "<IPython.core.display.HTML object>"
      ]
     },
     "metadata": {},
     "output_type": "display_data"
    },
    {
     "data": {
      "text/plain": [
       "TrainOutput(global_step=2520, training_loss=3.7454229385133773, metrics={'train_runtime': 1062.5728, 'train_samples_per_second': 37.993, 'train_steps_per_second': 2.372, 'total_flos': 2634868850688000.0, 'train_loss': 3.7454229385133773, 'epoch': 4.998761456527124})"
      ]
     },
     "execution_count": 24,
     "metadata": {},
     "output_type": "execute_result"
    }
   ],
   "source": [
    "# 모델 학습\n",
    "trainer.train()"
   ]
  },
  {
   "cell_type": "code",
   "execution_count": 25,
   "metadata": {},
   "outputs": [],
   "source": [
    "device = torch.device(\"cuda\")"
   ]
  },
  {
   "cell_type": "code",
   "execution_count": 26,
   "metadata": {},
   "outputs": [],
   "source": [
    "\n",
    "# 이야기 생성 함수\n",
    "def generate_story(lyrics_input):\n",
    "    # 입력 토큰화\n",
    "    input_ids = tokenizer.encode(lyrics_input, return_tensors='pt').to(device)\n",
    "\n",
    "    # 출력 생성\n",
    "    output = model.generate(\n",
    "        input_ids, \n",
    "        max_new_tokens=150, # 새로 생성할 토큰의 개수를 제한\n",
    "        num_return_sequences=1, \n",
    "        temperature=0.8, \n",
    "        top_k=50, \n",
    "        top_p=0.9, \n",
    "        repetition_penalty=1.2, \n",
    "        do_sample=True  # 샘플링 활성화\n",
    "    )\n",
    "\n",
    "    # 입력 길이 추적\n",
    "    input_length = input_ids.shape[1]\n",
    "\n",
    "    # 생성된 토큰 중 입력 토큰 이후의 부분만 디코딩\n",
    "    generated_tokens = output[0][input_length:]\n",
    "    generated_story = tokenizer.decode(generated_tokens, skip_special_tokens=True)\n",
    "\n",
    "    return generated_story"
   ]
  },
  {
   "cell_type": "code",
   "execution_count": 27,
   "metadata": {},
   "outputs": [],
   "source": [
    "lyrics1 = pd.read_csv(\"./dataset/label_result_song_short.csv\")\n",
    "lyrics2 = pd.read_csv(\"./dataset/translated_lyrics.csv\")\n",
    "\n",
    "lyrics = lyrics2.merge(lyrics1, on=[\"index\", \"id\", \"title\", \"singer\", \"genres\", \"lyrics\"])"
   ]
  },
  {
   "cell_type": "code",
   "execution_count": 28,
   "metadata": {},
   "outputs": [],
   "source": [
    "# groupby와 agg를 활용해 변환\n",
    "lyrics_input = lyrics.groupby(\"id\").agg({\n",
    "    \"title\": \"first\",   # 첫 번째 값 유지\n",
    "    \"singer\": \"first\",  # 첫 번째 값 유지\n",
    "    \"genres\": \"first\",  # 첫 번째 값 유지\n",
    "    \"lyrics\": list,  # 첫 번째 값 유지\n",
    "    \"translated_lyrics\": list,  # 리스트로 묶음\n",
    "}).reset_index()"
   ]
  },
  {
   "cell_type": "code",
   "execution_count": 29,
   "metadata": {},
   "outputs": [
    {
     "data": {
      "text/html": [
       "<div>\n",
       "<style scoped>\n",
       "    .dataframe tbody tr th:only-of-type {\n",
       "        vertical-align: middle;\n",
       "    }\n",
       "\n",
       "    .dataframe tbody tr th {\n",
       "        vertical-align: top;\n",
       "    }\n",
       "\n",
       "    .dataframe thead th {\n",
       "        text-align: right;\n",
       "    }\n",
       "</style>\n",
       "<table border=\"1\" class=\"dataframe\">\n",
       "  <thead>\n",
       "    <tr style=\"text-align: right;\">\n",
       "      <th></th>\n",
       "      <th>id</th>\n",
       "      <th>title</th>\n",
       "      <th>singer</th>\n",
       "      <th>genres</th>\n",
       "      <th>lyrics</th>\n",
       "      <th>translated_lyrics</th>\n",
       "    </tr>\n",
       "  </thead>\n",
       "  <tbody>\n",
       "    <tr>\n",
       "      <th>0</th>\n",
       "      <td>418168</td>\n",
       "      <td>희재</td>\n",
       "      <td>성시경</td>\n",
       "      <td>발라드, 국내영화</td>\n",
       "      <td>[햇살은 우릴 위해 내리고 , 바람도 서롤 감싸게 했죠 , 우리 웃음속에, 계절은 ...</td>\n",
       "      <td>[햇살은 우릴 위해 내리고 , 바람도 서롤 감싸게 했죠 , 우리 웃음속에, 계절은 ...</td>\n",
       "    </tr>\n",
       "    <tr>\n",
       "      <th>1</th>\n",
       "      <td>418598</td>\n",
       "      <td>친구라도 될 걸 그랬어</td>\n",
       "      <td>거미 (GUMMY)</td>\n",
       "      <td>R&amp;B/Soul</td>\n",
       "      <td>[벌써 넌 내가 편하니, 웃으며 인사 할 만큼, 까맣게 나를 잊었니, 네 곁에 있는...</td>\n",
       "      <td>[벌써 넌 내가 편하니, 웃으며 인사 할 만큼, 까맣게 나를 잊었니, 네 곁에 있는...</td>\n",
       "    </tr>\n",
       "    <tr>\n",
       "      <th>2</th>\n",
       "      <td>711626</td>\n",
       "      <td>살다가</td>\n",
       "      <td>SG 워너비</td>\n",
       "      <td>발라드</td>\n",
       "      <td>[살아도 사는 게 아니래, 너 없는 하늘에, 창 없는 감옥 같아서, 웃어도 웃는 게...</td>\n",
       "      <td>[살아도 사는 게 아니래, 너 없는 하늘에, 창 없는 감옥 같아서, 웃어도 웃는 게...</td>\n",
       "    </tr>\n",
       "    <tr>\n",
       "      <th>3</th>\n",
       "      <td>1500196</td>\n",
       "      <td>내사람</td>\n",
       "      <td>SG 워너비</td>\n",
       "      <td>R&amp;B/Soul</td>\n",
       "      <td>[내 가슴속에 사는 사람 내가 그토록 아끼는 사람 , 너무 소중해 마음껏 안아보지도...</td>\n",
       "      <td>[내 가슴속에 사는 사람 내가 그토록 아끼는 사람 , 너무 소중해 마음껏 안아보지도...</td>\n",
       "    </tr>\n",
       "    <tr>\n",
       "      <th>4</th>\n",
       "      <td>1854856</td>\n",
       "      <td>라라라</td>\n",
       "      <td>SG 워너비</td>\n",
       "      <td>발라드</td>\n",
       "      <td>[그대는 참 아름다워요, 밤 하늘의 별빛보다 빛나요, 지친 나의 마음을 따뜻하게 감...</td>\n",
       "      <td>[그대는 참 아름다워요, 밤 하늘의 별빛보다 빛나요, 지친 나의 마음을 따뜻하게 감...</td>\n",
       "    </tr>\n",
       "  </tbody>\n",
       "</table>\n",
       "</div>"
      ],
      "text/plain": [
       "        id         title      singer     genres  \\\n",
       "0   418168            희재         성시경  발라드, 국내영화   \n",
       "1   418598  친구라도 될 걸 그랬어  거미 (GUMMY)   R&B/Soul   \n",
       "2   711626           살다가      SG 워너비        발라드   \n",
       "3  1500196           내사람      SG 워너비   R&B/Soul   \n",
       "4  1854856           라라라      SG 워너비        발라드   \n",
       "\n",
       "                                              lyrics  \\\n",
       "0  [햇살은 우릴 위해 내리고 , 바람도 서롤 감싸게 했죠 , 우리 웃음속에, 계절은 ...   \n",
       "1  [벌써 넌 내가 편하니, 웃으며 인사 할 만큼, 까맣게 나를 잊었니, 네 곁에 있는...   \n",
       "2  [살아도 사는 게 아니래, 너 없는 하늘에, 창 없는 감옥 같아서, 웃어도 웃는 게...   \n",
       "3  [내 가슴속에 사는 사람 내가 그토록 아끼는 사람 , 너무 소중해 마음껏 안아보지도...   \n",
       "4  [그대는 참 아름다워요, 밤 하늘의 별빛보다 빛나요, 지친 나의 마음을 따뜻하게 감...   \n",
       "\n",
       "                                   translated_lyrics  \n",
       "0  [햇살은 우릴 위해 내리고 , 바람도 서롤 감싸게 했죠 , 우리 웃음속에, 계절은 ...  \n",
       "1  [벌써 넌 내가 편하니, 웃으며 인사 할 만큼, 까맣게 나를 잊었니, 네 곁에 있는...  \n",
       "2  [살아도 사는 게 아니래, 너 없는 하늘에, 창 없는 감옥 같아서, 웃어도 웃는 게...  \n",
       "3  [내 가슴속에 사는 사람 내가 그토록 아끼는 사람 , 너무 소중해 마음껏 안아보지도...  \n",
       "4  [그대는 참 아름다워요, 밤 하늘의 별빛보다 빛나요, 지친 나의 마음을 따뜻하게 감...  "
      ]
     },
     "execution_count": 29,
     "metadata": {},
     "output_type": "execute_result"
    }
   ],
   "source": [
    "lyrics_input.head()"
   ]
  },
  {
   "cell_type": "code",
   "execution_count": 53,
   "metadata": {},
   "outputs": [
    {
     "name": "stdout",
     "output_type": "stream",
     "text": [
      "홀씨\n"
     ]
    }
   ],
   "source": [
    "i = 726\n",
    "print(lyrics_input[\"title\"][i])"
   ]
  },
  {
   "cell_type": "code",
   "execution_count": 54,
   "metadata": {},
   "outputs": [
    {
     "name": "stdout",
     "output_type": "stream",
     "text": [
      "내가 누울 자린 아마도 한참 더 위로 아니 적당히 미끈한 곳에 뿌리내리긴 싫어 내 뒤로 착착 따라붙어 다 예쁘게 줄지어 난 기어코 하늘에 필래 음, 뭐죠? 아 아주 작습니다. le아der 아슬아슬히 나는 홀씨 하나 또 다른 길을 향해서 비행 높은 옆으로 꽃 피우기 혹시 나의 안부를 묻는 누군가 있거든 전해줘 걔는 홀씨가 됐다구 날 따라, 언젠가 밖으로 나가 옆으로 승리 날 따라, 날아가 꼭대기루 여러분 말하자면 '후‘ 저는 어쩌면 파리 여러분 말하자면 '후‘ 그러면 저는 파리 날 따라, 심지어 무언가를 하지 않고 날개 날 따라, 떠올라 공중으루 여러분 말하자면 '후‘ 저는 어쩌면 파리 여러분 말하자면 '후' 그러면 저는 파리 다 날 볼 수 있게 날아 줄게 한가운데 시력을 위해 꼭 지참해 니 햇빛 올려보면 눈부셔 고소공포 하나도 안 무셔 따가운 태양과 무지 가까운 거리 까지 올라가 난 무심히 내려보리 구름을 골라타 간만에 한바탕 싹 어질러볼까 빙글빙그르 나는 홀씨 하나 가파른 바람을 타고 비행 높은 옆으로 꽃 피우기 혹시 나의 안부를 묻는 누군가 있거든 전해줘 걔는 홀씨가 됐다구 날 따라, 언젠가 밖으로 나가 옆으로 승리 날 따라, 날아가 꼭대기루 여러분 말하자면 '후‘ 저는 어쩌면 파리 여러분 말하자면 '후‘ 그러면 저는 파리 날 따라, 심지어 무언가를 하지 않고 날개 날 따라, 떠올라 공중으루 여러분 말하자면 '후‘ 저는 어쩌면 파리 여러분 말하자면 '후' 그러면 저는 파리 앞길이 만만치 않아도 엄살은 뒤로 내 선택이야 늘 그랬듯이 쉬울 확률은 0 남은 거 탈탈 털어줄게 모두 행운을 빌어 구태여 인사하고 갈래 5월 신 무언가를 해야 합니다. 바이러스 야 보세요. 야\n"
     ]
    }
   ],
   "source": [
    "prompt = \" \".join(lyrics_input[\"translated_lyrics\"][i])\n",
    "\n",
    "print(prompt)"
   ]
  },
  {
   "cell_type": "code",
   "execution_count": 55,
   "metadata": {},
   "outputs": [
    {
     "name": "stdout",
     "output_type": "stream",
     "text": [
      "생성된 이야기: 옹~!」 그러니까....... 그럼 그렇게 말입니다. 이런 이야기 그만 들리는 순간 갑자기 저도 저는 나 역시 그런 상황이 되고 마냥 제발 길인 듯하네...... 하고 멈출 것 같은 이겠군요─ ....... \"저... 그거야말이에요.\" ....... \"그러면 네가 어디로 가시는 건데요?\" 그건....... 맞습니다...... 당신은 지금 막 도착하기 전에 제가 할 말이 있는 겁니다 이제 곧장.... 그래.......\" \"음...... 그렇습니다 그렇지 않으면......? -_-...... 그... 아....\" 잠시 후에...... \"예 알았어요?\" 정말로 두 분께선 그냥 대답을 하시려다가 「얘들 좀 봐\n"
     ]
    }
   ],
   "source": [
    "# 가사로 이야기 생성\n",
    "generated_story = generate_story(prompt)\n",
    "print(\"생성된 이야기:\", generated_story)"
   ]
  },
  {
   "cell_type": "code",
   "execution_count": 49,
   "metadata": {},
   "outputs": [],
   "source": [
    "# 가사로 이야기 생성\n",
    "# lyrics_input = \"\"\n",
    "# generated_story = generate_story(lyrics_input, tag1=\"2\", tag2=\"2\")\n",
    "# print(\"생성된 이야기:\", generated_story)"
   ]
  },
  {
   "cell_type": "code",
   "execution_count": null,
   "metadata": {},
   "outputs": [],
   "source": []
  }
 ],
 "metadata": {
  "kernelspec": {
   "display_name": "test",
   "language": "python",
   "name": "python3"
  },
  "language_info": {
   "codemirror_mode": {
    "name": "ipython",
    "version": 3
   },
   "file_extension": ".py",
   "mimetype": "text/x-python",
   "name": "python",
   "nbconvert_exporter": "python",
   "pygments_lexer": "ipython3",
   "version": "3.9.21"
  }
 },
 "nbformat": 4,
 "nbformat_minor": 2
}
