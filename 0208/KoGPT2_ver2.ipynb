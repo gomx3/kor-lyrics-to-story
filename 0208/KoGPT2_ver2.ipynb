{
 "cells": [
  {
   "cell_type": "code",
   "execution_count": 37,
   "metadata": {},
   "outputs": [
    {
     "ename": "ModuleNotFoundError",
     "evalue": "No module named 'fastai'",
     "output_type": "error",
     "traceback": [
      "\u001b[1;31m---------------------------------------------------------------------------\u001b[0m",
      "\u001b[1;31mModuleNotFoundError\u001b[0m                       Traceback (most recent call last)",
      "Cell \u001b[1;32mIn[37], line 8\u001b[0m\n\u001b[0;32m      6\u001b[0m \u001b[38;5;28;01mimport\u001b[39;00m \u001b[38;5;21;01mtransformers\u001b[39;00m\n\u001b[0;32m      7\u001b[0m \u001b[38;5;28;01mfrom\u001b[39;00m \u001b[38;5;21;01mtransformers\u001b[39;00m \u001b[38;5;28;01mimport\u001b[39;00m AutoModelWithLMHead, PreTrainedTokenizerFast, GPT2LMHeadModel\n\u001b[1;32m----> 8\u001b[0m \u001b[38;5;28;01mimport\u001b[39;00m \u001b[38;5;21;01mfastai\u001b[39;00m\n\u001b[0;32m      9\u001b[0m \u001b[38;5;28;01mfrom\u001b[39;00m \u001b[38;5;21;01mfastai\u001b[39;00m\u001b[38;5;21;01m.\u001b[39;00m\u001b[38;5;21;01mtext\u001b[39;00m\u001b[38;5;21;01m.\u001b[39;00m\u001b[38;5;21;01mall\u001b[39;00m \u001b[38;5;28;01mimport\u001b[39;00m \u001b[38;5;241m*\u001b[39m\n\u001b[0;32m     10\u001b[0m \u001b[38;5;28;01mimport\u001b[39;00m \u001b[38;5;21;01mre\u001b[39;00m\n",
      "\u001b[1;31mModuleNotFoundError\u001b[0m: No module named 'fastai'"
     ]
    }
   ],
   "source": [
    "import numpy as np\n",
    "import pandas as pd\n",
    "\n",
    "from typing import Optional\n",
    "import torch\n",
    "import transformers\n",
    "from transformers import AutoModelWithLMHead, PreTrainedTokenizerFast, GPT2LMHeadModel\n",
    "import fastai\n",
    "from fastai.text.all import *\n",
    "import re"
   ]
  },
  {
   "cell_type": "markdown",
   "metadata": {},
   "source": [
    "## 노래 데이터"
   ]
  },
  {
   "cell_type": "code",
   "execution_count": 2,
   "metadata": {},
   "outputs": [
    {
     "data": {
      "text/html": [
       "<div>\n",
       "<style scoped>\n",
       "    .dataframe tbody tr th:only-of-type {\n",
       "        vertical-align: middle;\n",
       "    }\n",
       "\n",
       "    .dataframe tbody tr th {\n",
       "        vertical-align: top;\n",
       "    }\n",
       "\n",
       "    .dataframe thead th {\n",
       "        text-align: right;\n",
       "    }\n",
       "</style>\n",
       "<table border=\"1\" class=\"dataframe\">\n",
       "  <thead>\n",
       "    <tr style=\"text-align: right;\">\n",
       "      <th></th>\n",
       "      <th>index</th>\n",
       "      <th>id</th>\n",
       "      <th>title</th>\n",
       "      <th>singer</th>\n",
       "      <th>genres</th>\n",
       "      <th>lyrics</th>\n",
       "      <th>sentiment</th>\n",
       "      <th>sentiment_label</th>\n",
       "    </tr>\n",
       "  </thead>\n",
       "  <tbody>\n",
       "    <tr>\n",
       "      <th>0</th>\n",
       "      <td>1</td>\n",
       "      <td>37140709</td>\n",
       "      <td>첫 만남은 계획대로 되지 않아</td>\n",
       "      <td>TWS (투어스)</td>\n",
       "      <td>댄스</td>\n",
       "      <td>Ay ay ay ay ay</td>\n",
       "      <td>2</td>\n",
       "      <td>분노</td>\n",
       "    </tr>\n",
       "    <tr>\n",
       "      <th>1</th>\n",
       "      <td>2</td>\n",
       "      <td>37140709</td>\n",
       "      <td>첫 만남은 계획대로 되지 않아</td>\n",
       "      <td>TWS (투어스)</td>\n",
       "      <td>댄스</td>\n",
       "      <td>거울 속에 내 표정 봐 봐</td>\n",
       "      <td>5</td>\n",
       "      <td>당황</td>\n",
       "    </tr>\n",
       "    <tr>\n",
       "      <th>2</th>\n",
       "      <td>3</td>\n",
       "      <td>37140709</td>\n",
       "      <td>첫 만남은 계획대로 되지 않아</td>\n",
       "      <td>TWS (투어스)</td>\n",
       "      <td>댄스</td>\n",
       "      <td>느낌 So good 기다려온 D-day</td>\n",
       "      <td>0</td>\n",
       "      <td>기쁨</td>\n",
       "    </tr>\n",
       "    <tr>\n",
       "      <th>3</th>\n",
       "      <td>4</td>\n",
       "      <td>37140709</td>\n",
       "      <td>첫 만남은 계획대로 되지 않아</td>\n",
       "      <td>TWS (투어스)</td>\n",
       "      <td>댄스</td>\n",
       "      <td>연습했던 손든 인사도 그대로 하면 돼</td>\n",
       "      <td>0</td>\n",
       "      <td>기쁨</td>\n",
       "    </tr>\n",
       "    <tr>\n",
       "      <th>4</th>\n",
       "      <td>5</td>\n",
       "      <td>37140709</td>\n",
       "      <td>첫 만남은 계획대로 되지 않아</td>\n",
       "      <td>TWS (투어스)</td>\n",
       "      <td>댄스</td>\n",
       "      <td>Hairstyle check하고 한 번 Turn around</td>\n",
       "      <td>2</td>\n",
       "      <td>분노</td>\n",
       "    </tr>\n",
       "  </tbody>\n",
       "</table>\n",
       "</div>"
      ],
      "text/plain": [
       "   index        id             title     singer genres  \\\n",
       "0      1  37140709  첫 만남은 계획대로 되지 않아  TWS (투어스)     댄스   \n",
       "1      2  37140709  첫 만남은 계획대로 되지 않아  TWS (투어스)     댄스   \n",
       "2      3  37140709  첫 만남은 계획대로 되지 않아  TWS (투어스)     댄스   \n",
       "3      4  37140709  첫 만남은 계획대로 되지 않아  TWS (투어스)     댄스   \n",
       "4      5  37140709  첫 만남은 계획대로 되지 않아  TWS (투어스)     댄스   \n",
       "\n",
       "                              lyrics  sentiment sentiment_label  \n",
       "0                     Ay ay ay ay ay          2              분노  \n",
       "1                     거울 속에 내 표정 봐 봐          5              당황  \n",
       "2              느낌 So good 기다려온 D-day          0              기쁨  \n",
       "3               연습했던 손든 인사도 그대로 하면 돼          0              기쁨  \n",
       "4  Hairstyle check하고 한 번 Turn around          2              분노  "
      ]
     },
     "execution_count": 2,
     "metadata": {},
     "output_type": "execute_result"
    }
   ],
   "source": [
    "lyrics1 = pd.read_csv(\"./datasets/label_result_song_short.csv\")\n",
    "lyrics1.head()"
   ]
  },
  {
   "cell_type": "code",
   "execution_count": 4,
   "metadata": {},
   "outputs": [
    {
     "data": {
      "text/html": [
       "<div>\n",
       "<style scoped>\n",
       "    .dataframe tbody tr th:only-of-type {\n",
       "        vertical-align: middle;\n",
       "    }\n",
       "\n",
       "    .dataframe tbody tr th {\n",
       "        vertical-align: top;\n",
       "    }\n",
       "\n",
       "    .dataframe thead th {\n",
       "        text-align: right;\n",
       "    }\n",
       "</style>\n",
       "<table border=\"1\" class=\"dataframe\">\n",
       "  <thead>\n",
       "    <tr style=\"text-align: right;\">\n",
       "      <th></th>\n",
       "      <th>index</th>\n",
       "      <th>id</th>\n",
       "      <th>title</th>\n",
       "      <th>singer</th>\n",
       "      <th>genres</th>\n",
       "      <th>lyrics</th>\n",
       "      <th>translated_lyrics</th>\n",
       "    </tr>\n",
       "  </thead>\n",
       "  <tbody>\n",
       "    <tr>\n",
       "      <th>0</th>\n",
       "      <td>1</td>\n",
       "      <td>37140709</td>\n",
       "      <td>첫 만남은 계획대로 되지 않아</td>\n",
       "      <td>TWS (투어스)</td>\n",
       "      <td>댄스</td>\n",
       "      <td>Ay ay ay ay ay</td>\n",
       "      <td>Ay ay ay ay ay</td>\n",
       "    </tr>\n",
       "    <tr>\n",
       "      <th>1</th>\n",
       "      <td>2</td>\n",
       "      <td>37140709</td>\n",
       "      <td>첫 만남은 계획대로 되지 않아</td>\n",
       "      <td>TWS (투어스)</td>\n",
       "      <td>댄스</td>\n",
       "      <td>거울 속에 내 표정 봐 봐</td>\n",
       "      <td>거울 속에 내 표정 봐 봐</td>\n",
       "    </tr>\n",
       "    <tr>\n",
       "      <th>2</th>\n",
       "      <td>3</td>\n",
       "      <td>37140709</td>\n",
       "      <td>첫 만남은 계획대로 되지 않아</td>\n",
       "      <td>TWS (투어스)</td>\n",
       "      <td>댄스</td>\n",
       "      <td>느낌 So good 기다려온 D-day</td>\n",
       "      <td>느낌 그래서 좋아요. 기다려온 D-하루</td>\n",
       "    </tr>\n",
       "    <tr>\n",
       "      <th>3</th>\n",
       "      <td>4</td>\n",
       "      <td>37140709</td>\n",
       "      <td>첫 만남은 계획대로 되지 않아</td>\n",
       "      <td>TWS (투어스)</td>\n",
       "      <td>댄스</td>\n",
       "      <td>연습했던 손든 인사도 그대로 하면 돼</td>\n",
       "      <td>연습했던 손든 인사도 그대로 하면 돼</td>\n",
       "    </tr>\n",
       "    <tr>\n",
       "      <th>4</th>\n",
       "      <td>5</td>\n",
       "      <td>37140709</td>\n",
       "      <td>첫 만남은 계획대로 되지 않아</td>\n",
       "      <td>TWS (투어스)</td>\n",
       "      <td>댄스</td>\n",
       "      <td>Hairstyle check하고 한 번 Turn around</td>\n",
       "      <td>머리스타일 확인하고 한 번 회전 주변</td>\n",
       "    </tr>\n",
       "  </tbody>\n",
       "</table>\n",
       "</div>"
      ],
      "text/plain": [
       "   index        id             title     singer genres  \\\n",
       "0      1  37140709  첫 만남은 계획대로 되지 않아  TWS (투어스)     댄스   \n",
       "1      2  37140709  첫 만남은 계획대로 되지 않아  TWS (투어스)     댄스   \n",
       "2      3  37140709  첫 만남은 계획대로 되지 않아  TWS (투어스)     댄스   \n",
       "3      4  37140709  첫 만남은 계획대로 되지 않아  TWS (투어스)     댄스   \n",
       "4      5  37140709  첫 만남은 계획대로 되지 않아  TWS (투어스)     댄스   \n",
       "\n",
       "                              lyrics      translated_lyrics  \n",
       "0                     Ay ay ay ay ay         Ay ay ay ay ay  \n",
       "1                     거울 속에 내 표정 봐 봐         거울 속에 내 표정 봐 봐  \n",
       "2              느낌 So good 기다려온 D-day  느낌 그래서 좋아요. 기다려온 D-하루  \n",
       "3               연습했던 손든 인사도 그대로 하면 돼   연습했던 손든 인사도 그대로 하면 돼  \n",
       "4  Hairstyle check하고 한 번 Turn around   머리스타일 확인하고 한 번 회전 주변  "
      ]
     },
     "execution_count": 4,
     "metadata": {},
     "output_type": "execute_result"
    }
   ],
   "source": [
    "lyrics2 = pd.read_csv(\"./datasets/translated_lyrics.csv\")\n",
    "lyrics2.head()"
   ]
  },
  {
   "cell_type": "code",
   "execution_count": 5,
   "metadata": {},
   "outputs": [
    {
     "data": {
      "text/html": [
       "<div>\n",
       "<style scoped>\n",
       "    .dataframe tbody tr th:only-of-type {\n",
       "        vertical-align: middle;\n",
       "    }\n",
       "\n",
       "    .dataframe tbody tr th {\n",
       "        vertical-align: top;\n",
       "    }\n",
       "\n",
       "    .dataframe thead th {\n",
       "        text-align: right;\n",
       "    }\n",
       "</style>\n",
       "<table border=\"1\" class=\"dataframe\">\n",
       "  <thead>\n",
       "    <tr style=\"text-align: right;\">\n",
       "      <th></th>\n",
       "      <th>index</th>\n",
       "      <th>id</th>\n",
       "      <th>title</th>\n",
       "      <th>singer</th>\n",
       "      <th>genres</th>\n",
       "      <th>lyrics</th>\n",
       "      <th>translated_lyrics</th>\n",
       "      <th>sentiment</th>\n",
       "      <th>sentiment_label</th>\n",
       "    </tr>\n",
       "  </thead>\n",
       "  <tbody>\n",
       "    <tr>\n",
       "      <th>0</th>\n",
       "      <td>1</td>\n",
       "      <td>37140709</td>\n",
       "      <td>첫 만남은 계획대로 되지 않아</td>\n",
       "      <td>TWS (투어스)</td>\n",
       "      <td>댄스</td>\n",
       "      <td>Ay ay ay ay ay</td>\n",
       "      <td>Ay ay ay ay ay</td>\n",
       "      <td>2</td>\n",
       "      <td>분노</td>\n",
       "    </tr>\n",
       "    <tr>\n",
       "      <th>1</th>\n",
       "      <td>2</td>\n",
       "      <td>37140709</td>\n",
       "      <td>첫 만남은 계획대로 되지 않아</td>\n",
       "      <td>TWS (투어스)</td>\n",
       "      <td>댄스</td>\n",
       "      <td>거울 속에 내 표정 봐 봐</td>\n",
       "      <td>거울 속에 내 표정 봐 봐</td>\n",
       "      <td>5</td>\n",
       "      <td>당황</td>\n",
       "    </tr>\n",
       "    <tr>\n",
       "      <th>2</th>\n",
       "      <td>3</td>\n",
       "      <td>37140709</td>\n",
       "      <td>첫 만남은 계획대로 되지 않아</td>\n",
       "      <td>TWS (투어스)</td>\n",
       "      <td>댄스</td>\n",
       "      <td>느낌 So good 기다려온 D-day</td>\n",
       "      <td>느낌 그래서 좋아요. 기다려온 D-하루</td>\n",
       "      <td>0</td>\n",
       "      <td>기쁨</td>\n",
       "    </tr>\n",
       "    <tr>\n",
       "      <th>3</th>\n",
       "      <td>4</td>\n",
       "      <td>37140709</td>\n",
       "      <td>첫 만남은 계획대로 되지 않아</td>\n",
       "      <td>TWS (투어스)</td>\n",
       "      <td>댄스</td>\n",
       "      <td>연습했던 손든 인사도 그대로 하면 돼</td>\n",
       "      <td>연습했던 손든 인사도 그대로 하면 돼</td>\n",
       "      <td>0</td>\n",
       "      <td>기쁨</td>\n",
       "    </tr>\n",
       "    <tr>\n",
       "      <th>4</th>\n",
       "      <td>5</td>\n",
       "      <td>37140709</td>\n",
       "      <td>첫 만남은 계획대로 되지 않아</td>\n",
       "      <td>TWS (투어스)</td>\n",
       "      <td>댄스</td>\n",
       "      <td>Hairstyle check하고 한 번 Turn around</td>\n",
       "      <td>머리스타일 확인하고 한 번 회전 주변</td>\n",
       "      <td>2</td>\n",
       "      <td>분노</td>\n",
       "    </tr>\n",
       "  </tbody>\n",
       "</table>\n",
       "</div>"
      ],
      "text/plain": [
       "   index        id             title     singer genres  \\\n",
       "0      1  37140709  첫 만남은 계획대로 되지 않아  TWS (투어스)     댄스   \n",
       "1      2  37140709  첫 만남은 계획대로 되지 않아  TWS (투어스)     댄스   \n",
       "2      3  37140709  첫 만남은 계획대로 되지 않아  TWS (투어스)     댄스   \n",
       "3      4  37140709  첫 만남은 계획대로 되지 않아  TWS (투어스)     댄스   \n",
       "4      5  37140709  첫 만남은 계획대로 되지 않아  TWS (투어스)     댄스   \n",
       "\n",
       "                              lyrics      translated_lyrics  sentiment  \\\n",
       "0                     Ay ay ay ay ay         Ay ay ay ay ay          2   \n",
       "1                     거울 속에 내 표정 봐 봐         거울 속에 내 표정 봐 봐          5   \n",
       "2              느낌 So good 기다려온 D-day  느낌 그래서 좋아요. 기다려온 D-하루          0   \n",
       "3               연습했던 손든 인사도 그대로 하면 돼   연습했던 손든 인사도 그대로 하면 돼          0   \n",
       "4  Hairstyle check하고 한 번 Turn around   머리스타일 확인하고 한 번 회전 주변          2   \n",
       "\n",
       "  sentiment_label  \n",
       "0              분노  \n",
       "1              당황  \n",
       "2              기쁨  \n",
       "3              기쁨  \n",
       "4              분노  "
      ]
     },
     "execution_count": 5,
     "metadata": {},
     "output_type": "execute_result"
    }
   ],
   "source": [
    "lyrics = lyrics2.merge(lyrics1, on=[\"index\", \"id\", \"title\", \"singer\", \"genres\", \"lyrics\"])\n",
    "lyrics.head()"
   ]
  },
  {
   "cell_type": "markdown",
   "metadata": {},
   "source": [
    "### 노래 데이터 최종"
   ]
  },
  {
   "cell_type": "code",
   "execution_count": 6,
   "metadata": {},
   "outputs": [
    {
     "data": {
      "text/html": [
       "<div>\n",
       "<style scoped>\n",
       "    .dataframe tbody tr th:only-of-type {\n",
       "        vertical-align: middle;\n",
       "    }\n",
       "\n",
       "    .dataframe tbody tr th {\n",
       "        vertical-align: top;\n",
       "    }\n",
       "\n",
       "    .dataframe thead th {\n",
       "        text-align: right;\n",
       "    }\n",
       "</style>\n",
       "<table border=\"1\" class=\"dataframe\">\n",
       "  <thead>\n",
       "    <tr style=\"text-align: right;\">\n",
       "      <th></th>\n",
       "      <th>id</th>\n",
       "      <th>title</th>\n",
       "      <th>singer</th>\n",
       "      <th>genres</th>\n",
       "      <th>lyrics</th>\n",
       "      <th>translated_lyrics</th>\n",
       "      <th>top_sentiment</th>\n",
       "      <th>second_sentiment</th>\n",
       "    </tr>\n",
       "  </thead>\n",
       "  <tbody>\n",
       "    <tr>\n",
       "      <th>0</th>\n",
       "      <td>418168</td>\n",
       "      <td>희재</td>\n",
       "      <td>성시경</td>\n",
       "      <td>발라드, 국내영화</td>\n",
       "      <td>햇살은 우릴 위해 내리고</td>\n",
       "      <td>[햇살은 우릴 위해 내리고 , 바람도 서롤 감싸게 했죠 , 우리 웃음속에, 계절은 ...</td>\n",
       "      <td>슬픔</td>\n",
       "      <td>기쁨</td>\n",
       "    </tr>\n",
       "    <tr>\n",
       "      <th>1</th>\n",
       "      <td>418598</td>\n",
       "      <td>친구라도 될 걸 그랬어</td>\n",
       "      <td>거미 (GUMMY)</td>\n",
       "      <td>R&amp;B/Soul</td>\n",
       "      <td>벌써 넌 내가 편하니</td>\n",
       "      <td>[벌써 넌 내가 편하니, 웃으며 인사 할 만큼, 까맣게 나를 잊었니, 네 곁에 있는...</td>\n",
       "      <td>불안</td>\n",
       "      <td>슬픔</td>\n",
       "    </tr>\n",
       "    <tr>\n",
       "      <th>2</th>\n",
       "      <td>711626</td>\n",
       "      <td>살다가</td>\n",
       "      <td>SG 워너비</td>\n",
       "      <td>발라드</td>\n",
       "      <td>살아도 사는 게 아니래</td>\n",
       "      <td>[살아도 사는 게 아니래, 너 없는 하늘에, 창 없는 감옥 같아서, 웃어도 웃는 게...</td>\n",
       "      <td>슬픔</td>\n",
       "      <td>불안</td>\n",
       "    </tr>\n",
       "    <tr>\n",
       "      <th>3</th>\n",
       "      <td>1500196</td>\n",
       "      <td>내사람</td>\n",
       "      <td>SG 워너비</td>\n",
       "      <td>R&amp;B/Soul</td>\n",
       "      <td>내 가슴속에 사는 사람 내가 그토록 아끼는 사람</td>\n",
       "      <td>[내 가슴속에 사는 사람 내가 그토록 아끼는 사람 , 너무 소중해 마음껏 안아보지도...</td>\n",
       "      <td>기쁨</td>\n",
       "      <td>불안</td>\n",
       "    </tr>\n",
       "    <tr>\n",
       "      <th>4</th>\n",
       "      <td>1854856</td>\n",
       "      <td>라라라</td>\n",
       "      <td>SG 워너비</td>\n",
       "      <td>발라드</td>\n",
       "      <td>그대는 참 아름다워요</td>\n",
       "      <td>[그대는 참 아름다워요, 밤 하늘의 별빛보다 빛나요, 지친 나의 마음을 따뜻하게 감...</td>\n",
       "      <td>기쁨</td>\n",
       "      <td>슬픔</td>\n",
       "    </tr>\n",
       "  </tbody>\n",
       "</table>\n",
       "</div>"
      ],
      "text/plain": [
       "        id         title      singer     genres                       lyrics  \\\n",
       "0   418168            희재         성시경  발라드, 국내영화               햇살은 우릴 위해 내리고    \n",
       "1   418598  친구라도 될 걸 그랬어  거미 (GUMMY)   R&B/Soul                  벌써 넌 내가 편하니   \n",
       "2   711626           살다가      SG 워너비        발라드                 살아도 사는 게 아니래   \n",
       "3  1500196           내사람      SG 워너비   R&B/Soul  내 가슴속에 사는 사람 내가 그토록 아끼는 사람    \n",
       "4  1854856           라라라      SG 워너비        발라드                  그대는 참 아름다워요   \n",
       "\n",
       "                                   translated_lyrics top_sentiment  \\\n",
       "0  [햇살은 우릴 위해 내리고 , 바람도 서롤 감싸게 했죠 , 우리 웃음속에, 계절은 ...            슬픔   \n",
       "1  [벌써 넌 내가 편하니, 웃으며 인사 할 만큼, 까맣게 나를 잊었니, 네 곁에 있는...            불안   \n",
       "2  [살아도 사는 게 아니래, 너 없는 하늘에, 창 없는 감옥 같아서, 웃어도 웃는 게...            슬픔   \n",
       "3  [내 가슴속에 사는 사람 내가 그토록 아끼는 사람 , 너무 소중해 마음껏 안아보지도...            기쁨   \n",
       "4  [그대는 참 아름다워요, 밤 하늘의 별빛보다 빛나요, 지친 나의 마음을 따뜻하게 감...            기쁨   \n",
       "\n",
       "  second_sentiment  \n",
       "0               기쁨  \n",
       "1               슬픔  \n",
       "2               불안  \n",
       "3               불안  \n",
       "4               슬픔  "
      ]
     },
     "execution_count": 6,
     "metadata": {},
     "output_type": "execute_result"
    }
   ],
   "source": [
    "# 각 id에 대해 sentiment_label의 빈도를 계산하여, 가장 많이 나온 2개의 감정을 새로운 칼럼으로 추가\n",
    "\n",
    "def get_top_two_sentiments(sentiments):\n",
    "    sentiment_counts = sentiments.value_counts()\n",
    "    # 가장 많은 2개 감정을 반환\n",
    "    top_two = sentiment_counts.head(2).index.tolist()\n",
    "    # 2개 미만일 경우 빈 값 처리\n",
    "    return top_two + [None] * (2 - len(top_two))\n",
    "\n",
    "# groupby와 agg를 활용해 변환\n",
    "lyrics_final = lyrics.groupby(\"id\").agg({\n",
    "    \"title\": \"first\",   # 첫 번째 값 유지\n",
    "    \"singer\": \"first\",  # 첫 번째 값 유지\n",
    "    \"genres\": \"first\",  # 첫 번째 값 유지\n",
    "    \"lyrics\": \"first\",  # 첫 번째 값 유지\n",
    "    \"translated_lyrics\": list,  # 리스트로 묶음\n",
    "    \"sentiment_label\": lambda x: get_top_two_sentiments(x)  # 빈도가 높은 2개의 감정 추출\n",
    "}).reset_index()\n",
    "\n",
    "# sentiment_label에서 두 개의 감정을 각각의 칼럼으로 분리\n",
    "lyrics_final[['top_sentiment', 'second_sentiment']] = pd.DataFrame(lyrics_final['sentiment_label'].tolist(), index=lyrics_final.index)\n",
    "\n",
    "# 불필요한 sentiment_label 열 삭제\n",
    "lyrics_final = lyrics_final.drop(columns=[\"sentiment_label\"])\n",
    "\n",
    "lyrics_final.head()\n"
   ]
  },
  {
   "cell_type": "code",
   "execution_count": 10,
   "metadata": {},
   "outputs": [
    {
     "name": "stdout",
     "output_type": "stream",
     "text": [
      "<class 'pandas.core.frame.DataFrame'>\n",
      "RangeIndex: 755 entries, 0 to 754\n",
      "Data columns (total 8 columns):\n",
      " #   Column             Non-Null Count  Dtype \n",
      "---  ------             --------------  ----- \n",
      " 0   id                 755 non-null    int64 \n",
      " 1   title              755 non-null    object\n",
      " 2   singer             755 non-null    object\n",
      " 3   genres             755 non-null    object\n",
      " 4   lyrics             755 non-null    object\n",
      " 5   translated_lyrics  755 non-null    object\n",
      " 6   top_sentiment      755 non-null    object\n",
      " 7   second_sentiment   755 non-null    object\n",
      "dtypes: int64(1), object(7)\n",
      "memory usage: 47.3+ KB\n"
     ]
    }
   ],
   "source": [
    "lyrics_final.info()"
   ]
  },
  {
   "cell_type": "markdown",
   "metadata": {},
   "source": [
    "## 소설 데이터"
   ]
  },
  {
   "cell_type": "code",
   "execution_count": 12,
   "metadata": {},
   "outputs": [
    {
     "data": {
      "text/html": [
       "<div>\n",
       "<style scoped>\n",
       "    .dataframe tbody tr th:only-of-type {\n",
       "        vertical-align: middle;\n",
       "    }\n",
       "\n",
       "    .dataframe tbody tr th {\n",
       "        vertical-align: top;\n",
       "    }\n",
       "\n",
       "    .dataframe thead th {\n",
       "        text-align: right;\n",
       "    }\n",
       "</style>\n",
       "<table border=\"1\" class=\"dataframe\">\n",
       "  <thead>\n",
       "    <tr style=\"text-align: right;\">\n",
       "      <th></th>\n",
       "      <th>Column1</th>\n",
       "      <th>file_id</th>\n",
       "      <th>title</th>\n",
       "      <th>paragraph_id</th>\n",
       "      <th>text</th>\n",
       "      <th>labels</th>\n",
       "      <th>sentiment</th>\n",
       "    </tr>\n",
       "  </thead>\n",
       "  <tbody>\n",
       "    <tr>\n",
       "      <th>0</th>\n",
       "      <td>0</td>\n",
       "      <td>WARW1800000007</td>\n",
       "      <td>이야기꾼 구연설화</td>\n",
       "      <td>WARW1800000007.1.1</td>\n",
       "      <td>01범보다 무서운 곶감</td>\n",
       "      <td>4.0</td>\n",
       "      <td>불안</td>\n",
       "    </tr>\n",
       "    <tr>\n",
       "      <th>1</th>\n",
       "      <td>1</td>\n",
       "      <td>WARW1800000007</td>\n",
       "      <td>이야기꾼 구연설화</td>\n",
       "      <td>WARW1800000007.1.2</td>\n",
       "      <td>화자를 처음 만나 이야기를 들으러 왔다고 하자 서슴없이 꺼낸 첫 이야기이다. 화자로...</td>\n",
       "      <td>4.0</td>\n",
       "      <td>불안</td>\n",
       "    </tr>\n",
       "    <tr>\n",
       "      <th>2</th>\n",
       "      <td>2</td>\n",
       "      <td>WARW1800000007</td>\n",
       "      <td>이야기꾼 구연설화</td>\n",
       "      <td>WARW1800000007.1.3</td>\n",
       "      <td>그링깨. 사람이 어거지루는 못 살구. 응? 어거지루 안 되능 거여. 사람이 그링깨 ...</td>\n",
       "      <td>2.0</td>\n",
       "      <td>분노</td>\n",
       "    </tr>\n",
       "    <tr>\n",
       "      <th>3</th>\n",
       "      <td>3</td>\n",
       "      <td>WARW1800000007</td>\n",
       "      <td>이야기꾼 구연설화</td>\n",
       "      <td>WARW1800000007.1.4</td>\n",
       "      <td>그래 옛날, 그 꼭감이라능 게 말여. 사람이 먹잖야 이케? 먹지마는. 그게 참 무성...</td>\n",
       "      <td>4.0</td>\n",
       "      <td>불안</td>\n",
       "    </tr>\n",
       "    <tr>\n",
       "      <th>4</th>\n",
       "      <td>4</td>\n",
       "      <td>WARW1800000007</td>\n",
       "      <td>이야기꾼 구연설화</td>\n",
       "      <td>WARW1800000007.1.5</td>\n",
       "      <td>애기가 울어. 옛날에. 그래 할머니가 달갸(달래). 그때 호랭이가, 응? 그 집 문...</td>\n",
       "      <td>1.0</td>\n",
       "      <td>슬픔</td>\n",
       "    </tr>\n",
       "  </tbody>\n",
       "</table>\n",
       "</div>"
      ],
      "text/plain": [
       "   Column1         file_id      title        paragraph_id  \\\n",
       "0        0  WARW1800000007  이야기꾼 구연설화  WARW1800000007.1.1   \n",
       "1        1  WARW1800000007  이야기꾼 구연설화  WARW1800000007.1.2   \n",
       "2        2  WARW1800000007  이야기꾼 구연설화  WARW1800000007.1.3   \n",
       "3        3  WARW1800000007  이야기꾼 구연설화  WARW1800000007.1.4   \n",
       "4        4  WARW1800000007  이야기꾼 구연설화  WARW1800000007.1.5   \n",
       "\n",
       "                                                text  labels sentiment  \n",
       "0                                       01범보다 무서운 곶감     4.0        불안  \n",
       "1  화자를 처음 만나 이야기를 들으러 왔다고 하자 서슴없이 꺼낸 첫 이야기이다. 화자로...     4.0        불안  \n",
       "2  그링깨. 사람이 어거지루는 못 살구. 응? 어거지루 안 되능 거여. 사람이 그링깨 ...     2.0        분노  \n",
       "3  그래 옛날, 그 꼭감이라능 게 말여. 사람이 먹잖야 이케? 먹지마는. 그게 참 무성...     4.0        불안  \n",
       "4  애기가 울어. 옛날에. 그래 할머니가 달갸(달래). 그때 호랭이가, 응? 그 집 문...     1.0        슬픔  "
      ]
     },
     "execution_count": 12,
     "metadata": {},
     "output_type": "execute_result"
    }
   ],
   "source": [
    "novel = pd.read_csv(\"../0206/results/classified_novel1.csv\")\n",
    "novel.head()"
   ]
  },
  {
   "cell_type": "code",
   "execution_count": 13,
   "metadata": {},
   "outputs": [
    {
     "data": {
      "text/plain": [
       "9543"
      ]
     },
     "execution_count": 13,
     "metadata": {},
     "output_type": "execute_result"
    }
   ],
   "source": [
    "len(novel[novel[\"file_id\"] == \"WARW1800000007\"])"
   ]
  },
  {
   "cell_type": "markdown",
   "metadata": {},
   "source": [
    "- 소설의 길이때문에 오류나나.. 해서 100개씩 묶어서 그룹화"
   ]
  },
  {
   "cell_type": "code",
   "execution_count": 14,
   "metadata": {},
   "outputs": [
    {
     "data": {
      "text/html": [
       "<div>\n",
       "<style scoped>\n",
       "    .dataframe tbody tr th:only-of-type {\n",
       "        vertical-align: middle;\n",
       "    }\n",
       "\n",
       "    .dataframe tbody tr th {\n",
       "        vertical-align: top;\n",
       "    }\n",
       "\n",
       "    .dataframe thead th {\n",
       "        text-align: right;\n",
       "    }\n",
       "</style>\n",
       "<table border=\"1\" class=\"dataframe\">\n",
       "  <thead>\n",
       "    <tr style=\"text-align: right;\">\n",
       "      <th></th>\n",
       "      <th>Column1</th>\n",
       "      <th>file_id</th>\n",
       "      <th>title</th>\n",
       "      <th>paragraph_id</th>\n",
       "      <th>text</th>\n",
       "      <th>labels</th>\n",
       "      <th>sentiment</th>\n",
       "      <th>group</th>\n",
       "    </tr>\n",
       "  </thead>\n",
       "  <tbody>\n",
       "    <tr>\n",
       "      <th>0</th>\n",
       "      <td>0</td>\n",
       "      <td>WARW1800000007</td>\n",
       "      <td>이야기꾼 구연설화</td>\n",
       "      <td>WARW1800000007.1.1</td>\n",
       "      <td>01범보다 무서운 곶감</td>\n",
       "      <td>4.0</td>\n",
       "      <td>불안</td>\n",
       "      <td>0</td>\n",
       "    </tr>\n",
       "    <tr>\n",
       "      <th>1</th>\n",
       "      <td>1</td>\n",
       "      <td>WARW1800000007</td>\n",
       "      <td>이야기꾼 구연설화</td>\n",
       "      <td>WARW1800000007.1.2</td>\n",
       "      <td>화자를 처음 만나 이야기를 들으러 왔다고 하자 서슴없이 꺼낸 첫 이야기이다. 화자로...</td>\n",
       "      <td>4.0</td>\n",
       "      <td>불안</td>\n",
       "      <td>0</td>\n",
       "    </tr>\n",
       "    <tr>\n",
       "      <th>2</th>\n",
       "      <td>2</td>\n",
       "      <td>WARW1800000007</td>\n",
       "      <td>이야기꾼 구연설화</td>\n",
       "      <td>WARW1800000007.1.3</td>\n",
       "      <td>그링깨. 사람이 어거지루는 못 살구. 응? 어거지루 안 되능 거여. 사람이 그링깨 ...</td>\n",
       "      <td>2.0</td>\n",
       "      <td>분노</td>\n",
       "      <td>0</td>\n",
       "    </tr>\n",
       "    <tr>\n",
       "      <th>3</th>\n",
       "      <td>3</td>\n",
       "      <td>WARW1800000007</td>\n",
       "      <td>이야기꾼 구연설화</td>\n",
       "      <td>WARW1800000007.1.4</td>\n",
       "      <td>그래 옛날, 그 꼭감이라능 게 말여. 사람이 먹잖야 이케? 먹지마는. 그게 참 무성...</td>\n",
       "      <td>4.0</td>\n",
       "      <td>불안</td>\n",
       "      <td>0</td>\n",
       "    </tr>\n",
       "    <tr>\n",
       "      <th>4</th>\n",
       "      <td>4</td>\n",
       "      <td>WARW1800000007</td>\n",
       "      <td>이야기꾼 구연설화</td>\n",
       "      <td>WARW1800000007.1.5</td>\n",
       "      <td>애기가 울어. 옛날에. 그래 할머니가 달갸(달래). 그때 호랭이가, 응? 그 집 문...</td>\n",
       "      <td>1.0</td>\n",
       "      <td>슬픔</td>\n",
       "      <td>0</td>\n",
       "    </tr>\n",
       "  </tbody>\n",
       "</table>\n",
       "</div>"
      ],
      "text/plain": [
       "   Column1         file_id      title        paragraph_id  \\\n",
       "0        0  WARW1800000007  이야기꾼 구연설화  WARW1800000007.1.1   \n",
       "1        1  WARW1800000007  이야기꾼 구연설화  WARW1800000007.1.2   \n",
       "2        2  WARW1800000007  이야기꾼 구연설화  WARW1800000007.1.3   \n",
       "3        3  WARW1800000007  이야기꾼 구연설화  WARW1800000007.1.4   \n",
       "4        4  WARW1800000007  이야기꾼 구연설화  WARW1800000007.1.5   \n",
       "\n",
       "                                                text  labels sentiment  group  \n",
       "0                                       01범보다 무서운 곶감     4.0        불안      0  \n",
       "1  화자를 처음 만나 이야기를 들으러 왔다고 하자 서슴없이 꺼낸 첫 이야기이다. 화자로...     4.0        불안      0  \n",
       "2  그링깨. 사람이 어거지루는 못 살구. 응? 어거지루 안 되능 거여. 사람이 그링깨 ...     2.0        분노      0  \n",
       "3  그래 옛날, 그 꼭감이라능 게 말여. 사람이 먹잖야 이케? 먹지마는. 그게 참 무성...     4.0        불안      0  \n",
       "4  애기가 울어. 옛날에. 그래 할머니가 달갸(달래). 그때 호랭이가, 응? 그 집 문...     1.0        슬픔      0  "
      ]
     },
     "execution_count": 14,
     "metadata": {},
     "output_type": "execute_result"
    }
   ],
   "source": [
    "# 같은 title을 가진 데이터에서 100개씩 묶어 그룹화\n",
    "novel[\"group\"] = novel.groupby(\"title\").cumcount() // 100  # 100개 단위 그룹 생성\n",
    "novel.head()"
   ]
  },
  {
   "cell_type": "code",
   "execution_count": 15,
   "metadata": {},
   "outputs": [
    {
     "data": {
      "text/html": [
       "<div>\n",
       "<style scoped>\n",
       "    .dataframe tbody tr th:only-of-type {\n",
       "        vertical-align: middle;\n",
       "    }\n",
       "\n",
       "    .dataframe tbody tr th {\n",
       "        vertical-align: top;\n",
       "    }\n",
       "\n",
       "    .dataframe thead th {\n",
       "        text-align: right;\n",
       "    }\n",
       "</style>\n",
       "<table border=\"1\" class=\"dataframe\">\n",
       "  <thead>\n",
       "    <tr style=\"text-align: right;\">\n",
       "      <th></th>\n",
       "      <th>title</th>\n",
       "      <th>text</th>\n",
       "      <th>top_sentiment</th>\n",
       "      <th>second_sentiment</th>\n",
       "    </tr>\n",
       "  </thead>\n",
       "  <tbody>\n",
       "    <tr>\n",
       "      <th>0</th>\n",
       "      <td>이야기꾼 구연설화</td>\n",
       "      <td>[01범보다 무서운 곶감, 화자를 처음 만나 이야기를 들으러 왔다고 하자 서슴없이 ...</td>\n",
       "      <td>분노</td>\n",
       "      <td>당황</td>\n",
       "    </tr>\n",
       "    <tr>\n",
       "      <th>1</th>\n",
       "      <td>이야기꾼 구연설화</td>\n",
       "      <td>[&lt;봄꿩은 제 울음에 저 죽는다&gt;, 그 말과 같아서 사램이 잘못 되머넌 하는 말여....</td>\n",
       "      <td>상처</td>\n",
       "      <td>분노</td>\n",
       "    </tr>\n",
       "    <tr>\n",
       "      <th>2</th>\n",
       "      <td>이야기꾼 구연설화</td>\n",
       "      <td>[그래 그 여자가 쪄서 쌀얼 쪄서 밥얼 했어., “잡수라.”구., 그래 한 때를 몽...</td>\n",
       "      <td>상처</td>\n",
       "      <td>당황</td>\n",
       "    </tr>\n",
       "    <tr>\n",
       "      <th>3</th>\n",
       "      <td>이야기꾼 구연설화</td>\n",
       "      <td>[그랴. 그래 우리 인제 사춘 찾어간다는 얘기를 족~ 갈쳐중개,, “그러시냐구. 그...</td>\n",
       "      <td>상처</td>\n",
       "      <td>분노</td>\n",
       "    </tr>\n",
       "    <tr>\n",
       "      <th>4</th>\n",
       "      <td>이야기꾼 구연설화</td>\n",
       "      <td>[나와서 인제 그 집 먼지 인저 그, 그, 뭐여 면사무소 있는 디 나와서 인제, 거...</td>\n",
       "      <td>상처</td>\n",
       "      <td>분노</td>\n",
       "    </tr>\n",
       "  </tbody>\n",
       "</table>\n",
       "</div>"
      ],
      "text/plain": [
       "       title                                               text top_sentiment  \\\n",
       "0  이야기꾼 구연설화  [01범보다 무서운 곶감, 화자를 처음 만나 이야기를 들으러 왔다고 하자 서슴없이 ...            분노   \n",
       "1  이야기꾼 구연설화  [<봄꿩은 제 울음에 저 죽는다>, 그 말과 같아서 사램이 잘못 되머넌 하는 말여....            상처   \n",
       "2  이야기꾼 구연설화  [그래 그 여자가 쪄서 쌀얼 쪄서 밥얼 했어., “잡수라.”구., 그래 한 때를 몽...            상처   \n",
       "3  이야기꾼 구연설화  [그랴. 그래 우리 인제 사춘 찾어간다는 얘기를 족~ 갈쳐중개,, “그러시냐구. 그...            상처   \n",
       "4  이야기꾼 구연설화  [나와서 인제 그 집 먼지 인저 그, 그, 뭐여 면사무소 있는 디 나와서 인제, 거...            상처   \n",
       "\n",
       "  second_sentiment  \n",
       "0               당황  \n",
       "1               분노  \n",
       "2               당황  \n",
       "3               분노  \n",
       "4               분노  "
      ]
     },
     "execution_count": 15,
     "metadata": {},
     "output_type": "execute_result"
    }
   ],
   "source": [
    "novel_final = novel.groupby([\"file_id\", \"group\"]).agg({\n",
    "    \"title\": \"first\",  # 대표 file_id\n",
    "    \"text\": list,  # 100개씩 묶음\n",
    "    \"sentiment\": lambda x: get_top_two_sentiments(x)  # 빈도가 높은 2개의 감정 추출\n",
    "}).reset_index()\n",
    "\n",
    "# sentiment에서 두 개의 감정을 각각의 칼럼으로 분리\n",
    "novel_final[['top_sentiment', 'second_sentiment']] = pd.DataFrame(novel_final['sentiment'].tolist(), index=novel_final.index)\n",
    "\n",
    "# 불필요한 sentiment 칼럼 삭제\n",
    "novel_final = novel_final.drop(columns=[\"sentiment\", \"group\", \"file_id\"])\n",
    "\n",
    "novel_final.head()"
   ]
  },
  {
   "cell_type": "code",
   "execution_count": 16,
   "metadata": {},
   "outputs": [
    {
     "name": "stdout",
     "output_type": "stream",
     "text": [
      "<class 'pandas.core.frame.DataFrame'>\n",
      "RangeIndex: 8972 entries, 0 to 8971\n",
      "Data columns (total 4 columns):\n",
      " #   Column            Non-Null Count  Dtype \n",
      "---  ------            --------------  ----- \n",
      " 0   title             8972 non-null   object\n",
      " 1   text              8972 non-null   object\n",
      " 2   top_sentiment     8972 non-null   object\n",
      " 3   second_sentiment  8963 non-null   object\n",
      "dtypes: object(4)\n",
      "memory usage: 280.5+ KB\n"
     ]
    }
   ],
   "source": [
    "novel_final.info()"
   ]
  },
  {
   "cell_type": "code",
   "execution_count": 17,
   "metadata": {},
   "outputs": [],
   "source": [
    "## 두 번째 감정이 없으면 첫 번재랑 같게.\n",
    "novel_final[\"second_sentiment\"] = novel_final[\"second_sentiment\"].fillna(novel_final[\"top_sentiment\"])\n"
   ]
  },
  {
   "cell_type": "code",
   "execution_count": 19,
   "metadata": {},
   "outputs": [
    {
     "name": "stdout",
     "output_type": "stream",
     "text": [
      "<class 'pandas.core.frame.DataFrame'>\n",
      "RangeIndex: 8972 entries, 0 to 8971\n",
      "Data columns (total 4 columns):\n",
      " #   Column            Non-Null Count  Dtype \n",
      "---  ------            --------------  ----- \n",
      " 0   title             8972 non-null   object\n",
      " 1   text              8972 non-null   object\n",
      " 2   top_sentiment     8972 non-null   object\n",
      " 3   second_sentiment  8972 non-null   object\n",
      "dtypes: object(4)\n",
      "memory usage: 280.5+ KB\n"
     ]
    }
   ],
   "source": [
    "novel_final.info()"
   ]
  },
  {
   "cell_type": "code",
   "execution_count": 20,
   "metadata": {},
   "outputs": [],
   "source": [
    "novel_final.to_csv(\"novel_final.csv\")"
   ]
  },
  {
   "cell_type": "markdown",
   "metadata": {},
   "source": [
    "## KoGPT2"
   ]
  },
  {
   "cell_type": "markdown",
   "metadata": {},
   "source": [
    "### 사전 테스트"
   ]
  },
  {
   "cell_type": "code",
   "execution_count": 21,
   "metadata": {},
   "outputs": [],
   "source": [
    "## 이제부턴 이걸로.\n",
    "#lyrics_final = pd.read_csv(\"lyrics_final.csv\")         이상하게 이렇게 하면 가사 부분 합치는 대서 결과가 달라짐,, \n",
    "novel_final = pd.read_csv(\"novel_final.csv\")"
   ]
  },
  {
   "cell_type": "code",
   "execution_count": 22,
   "metadata": {},
   "outputs": [
    {
     "name": "stderr",
     "output_type": "stream",
     "text": [
      "The tokenizer class you load from this checkpoint is not the same type as the class this function is called from. It may result in unexpected tokenization. \n",
      "The tokenizer class you load from this checkpoint is 'GPT2Tokenizer'. \n",
      "The class this function is called from is 'PreTrainedTokenizerFast'.\n"
     ]
    }
   ],
   "source": [
    "# KoGPT2 기본 모델 로드\n",
    "model = GPT2LMHeadModel.from_pretrained(\"skt/kogpt2-base-v2\")\n",
    "tokenizer = PreTrainedTokenizerFast.from_pretrained(\"skt/kogpt2-base-v2\")"
   ]
  },
  {
   "cell_type": "code",
   "execution_count": 23,
   "metadata": {},
   "outputs": [
    {
     "data": {
      "text/plain": [
       "array(['분노', '상처', '당황', '불안', '기쁨', '슬픔'], dtype=object)"
      ]
     },
     "execution_count": 23,
     "metadata": {},
     "output_type": "execute_result"
    }
   ],
   "source": [
    "novel_final[\"top_sentiment\"].unique()"
   ]
  },
  {
   "cell_type": "code",
   "execution_count": 24,
   "metadata": {},
   "outputs": [
    {
     "data": {
      "text/plain": [
       "'햇살은 우릴 위해 내리고  바람도 서롤 감싸게 했죠  우리 웃음속에 계절은 오고 또 갔죠 바람에 흔들리는 머릿결  내게 불어오는 그대 향기  예쁜 두 눈도 웃음 소리도  모두가 내 것이었죠 이런 사랑 이런 행복 쉽다 했었죠 이런 웃음 이런 축복 내게 쉽게 올리 없죠 눈물조차 울음조차 닦지 못한 나 정말로 울면 내가 그댈 보내준 것 같아서 그대 떠나가는 그 순간도  나를 걱정했었나요  무엇도 해줄 수 없는 내 맘 앞에서 그댄 나를 떠나간다 해도 난 그댈 보낸 적 없죠 여전히 그댄 나를 살게 하는  이율테니  이런 사랑 이런 행복 쉽다 했었죠  이런 웃음 이런 축복 내게 쉽게 올리 없죠 눈물조차 울음조차 닦지 못한 나 정말로 울면 내가 그댈 보내준 것 같아서 그대 떠나가는 그 순간도  나를 걱정했었나요  무엇도 해줄 수 없는 내 맘 앞에서  그댄 나를 떠나간다 해도  난 그댈 보낸 적 없죠 기다림으로 다시 시작일테니  얼마나 사랑했는지 얼마나 또 울었는지 그대여 한순간 조차 잊지 말아요  거기 떠나간 그 곳에서 날 기억하며 기다려요 하루씩 그대에게 다가가는 나 일테니'"
      ]
     },
     "execution_count": 24,
     "metadata": {},
     "output_type": "execute_result"
    }
   ],
   "source": [
    "# 감정 및 노래 가사 설정\n",
    "top_sentiment = \"슬픔\"\n",
    "second_sentiment = \"기쁨\"\n",
    "lyrics = \" \".join(lyrics_final[\"translated_lyrics\"][0])\n",
    "lyrics"
   ]
  },
  {
   "cell_type": "code",
   "execution_count": 25,
   "metadata": {},
   "outputs": [
    {
     "data": {
      "text/plain": [
       "'슬픔 | 기쁨 | 햇살은 우릴 위해 내리고  바람도 서롤 감싸게 했죠  우리 웃음속에 계절은 오고 또 갔죠 바람에 흔들리는 머릿결  내게 불어오는 그대 향기  예쁜 두 눈도 웃음 소리도  모두가 내 것이었죠 이런 사랑 이런 행복 쉽다 했었죠 이런 웃음 이런 축복 내게 쉽게 올리 없죠 눈물조차 울음조차 닦지 못한 나 정말로 울면 내가 그댈 보내준 것 같아서 그대 떠나가는 그 순간도  나를 걱정했었나요  무엇도 해줄 수 없는 내 맘 앞에서 그댄 나를 떠나간다 해도 난 그댈 보낸 적 없죠 여전히 그댄 나를 살게 하는  이율테니  이런 사랑 이런 행복 쉽다 했었죠  이런 웃음 이런 축복 내게 쉽게 올리 없죠 눈물조차 울음조차 닦지 못한 나 정말로 울면 내가 그댈 보내준 것 같아서 그대 떠나가는 그 순간도  나를 걱정했었나요  무엇도 해줄 수 없는 내 맘 앞에서  그댄 나를 떠나간다 해도  난 그댈 보낸 적 없죠 기다림으로 다시 시작일테니  얼마나 사랑했는지 얼마나 또 울었는지 그대여 한순간 조차 잊지 말아요  거기 떠나간 그 곳에서 날 기억하며 기다려요 하루씩 그대에게 다가가는 나 일테니'"
      ]
     },
     "execution_count": 25,
     "metadata": {},
     "output_type": "execute_result"
    }
   ],
   "source": [
    "# 입력 텍스트 구성\n",
    "input_text = f\"{top_sentiment} | {second_sentiment} | {lyrics}\"\n",
    "input_text"
   ]
  },
  {
   "cell_type": "code",
   "execution_count": 26,
   "metadata": {},
   "outputs": [
    {
     "name": "stdout",
     "output_type": "stream",
     "text": [
      "슬픔 | 기쁨 | 햇살은 우릴 위해 내리고  바람도 서롤 감싸게 했죠  우리 웃음속에 계절은 오고 또 갔죠 바람에 흔들리는 머릿결  내게 불어오는 그대 향기  예쁜 두 눈도 웃음 소리도  모두가 내 것이었죠 이런 사랑 이런 행복 쉽다 했었죠 이런 웃음 이런 축복 내게 쉽게 올리 없죠 눈물조차 울음조차 닦지 못한 나 정말로 울면 내가 그댈 보내준 것 같아서 그대 떠나가는 그 순간도  나를 걱정했었나요  무엇도 해줄 수 없는 내 맘 앞에서 그댄 나를 떠나간다 해도 난 그댈 보낸 적 없죠 여전히 그댄 나를 살게 하는  이율테니  이런 사랑 이런 행복 쉽다 했었죠  이런 웃음 이런 축복 내게 쉽게 올리 없죠 눈물조차 울음조차 닦지 못한 나 정말로 울면 내가 그댈 보내준 것 같아서 그대 떠나가는 그 순간도  나를 걱정했었나요  무엇도 해줄 수 없는 내 맘 앞에서  그댄 나를 떠나간다 해도  난 그댈 보낸 적 없죠 기다림으로 다시 시작일테니  얼마나 사랑했는지 얼마나 또 울었는지 그대여 한순간 조차 잊지 말아요  거기 떠나간 그 곳에서 날 기억하며 기다려요 하루씩 그대에게 다가가는 나 일테니 언제나 너를 그리워해요\n",
      "그대 곁에 있어줘서 고마워요, 그리고 이제부터라도 널 만나고 싶어서 더 이상 미안한 마음 없어요.\n",
      "사랑하는 나의 모든 것을 다 안고 가겠어요,\n",
      "그리고 지금껏 당신을 기다리고 있는 당신의 모습을 영원히 잊을 거예요. 오늘 아침신문 보시죠.\n",
      "먼저 조선일보입니다.\n",
      "오늘 오전 10시부터 서울 광화문광장에서 '박근혜 퇴진 비상국민행동'이 주최로 열리는 집회가 열렸습니다.\n",
      "집회 참가자들은 박 대통령의 즉각적인 하야와 국정 정상화를 촉구하고 있습니다.\n",
      "이들은 \"대통령의 사과와 책임자 처벌, 대통령 권한대행 체제 전환\" 등을 요구하면서 청문회와 특검 도입 등 검찰 개혁과 국정조사를 요구하고 나섰는데 특히 새누리당 비주류 의원들이 탄핵에 동참할 움직임을 보이고 있다고 전했는데.\n",
      "새정치민주연합 문재인 대표는 어제 최고위원회의에서 \"이번 주말 촛불 민심은 새로운 대한민국을 향한 국민의 명령\"이라고 말했다고 합니다.\n",
      "이어 그는 야당이 요구하는 특별검사 추천권을 거부하겠다고 밝혔다고 신문은 덧붙였습니다. 만약 여야가 합의하지 못한다면 오는 9일 본회의에서 탄핵을 의결하겠다는 겁니다.\n",
      "조선일보\n"
     ]
    }
   ],
   "source": [
    "# 토큰화\n",
    "input_ids = tokenizer.encode(input_text, return_tensors=\"pt\")\n",
    "\n",
    "# 문장 생성\n",
    "gen_ids = model.generate(\n",
    "    input_ids,\n",
    "    max_length=500,  # 최대 생성 길이 설정\n",
    "    repetition_penalty=2.0,\n",
    "    pad_token_id=tokenizer.pad_token_id,\n",
    "    eos_token_id=tokenizer.eos_token_id,\n",
    "    bos_token_id=tokenizer.bos_token_id,\n",
    "    use_cache=True\n",
    ")\n",
    "\n",
    "# 결과 디코딩\n",
    "generated_text = tokenizer.decode(gen_ids[0], skip_special_tokens=True)\n",
    "print(generated_text)"
   ]
  },
  {
   "cell_type": "markdown",
   "metadata": {},
   "source": [
    "- 사전학습된 자료가 뉴스라든가 그런거라서 이렇게 이상하게 나온다.."
   ]
  },
  {
   "cell_type": "markdown",
   "metadata": {},
   "source": [
    "### Fine-Tuning"
   ]
  },
  {
   "cell_type": "markdown",
   "metadata": {},
   "source": [
    "https://velog.io/@yeah7598/KoGPT2-%EB%8F%99%ED%99%94-%EB%8D%B0%EC%9D%B4%ED%84%B0-%ED%95%99%EC%8A%B5%ED%95%98%EA%B8%B0"
   ]
  },
  {
   "cell_type": "code",
   "execution_count": 27,
   "metadata": {},
   "outputs": [],
   "source": [
    "## 이제부턴 이걸로.\n",
    "novel_final = pd.read_csv(\"novel_final.csv\")"
   ]
  },
  {
   "cell_type": "code",
   "execution_count": 28,
   "metadata": {},
   "outputs": [
    {
     "data": {
      "text/html": [
       "<div>\n",
       "<style scoped>\n",
       "    .dataframe tbody tr th:only-of-type {\n",
       "        vertical-align: middle;\n",
       "    }\n",
       "\n",
       "    .dataframe tbody tr th {\n",
       "        vertical-align: top;\n",
       "    }\n",
       "\n",
       "    .dataframe thead th {\n",
       "        text-align: right;\n",
       "    }\n",
       "</style>\n",
       "<table border=\"1\" class=\"dataframe\">\n",
       "  <thead>\n",
       "    <tr style=\"text-align: right;\">\n",
       "      <th></th>\n",
       "      <th>Unnamed: 0</th>\n",
       "      <th>title</th>\n",
       "      <th>text</th>\n",
       "      <th>top_sentiment</th>\n",
       "      <th>second_sentiment</th>\n",
       "    </tr>\n",
       "  </thead>\n",
       "  <tbody>\n",
       "    <tr>\n",
       "      <th>0</th>\n",
       "      <td>0</td>\n",
       "      <td>이야기꾼 구연설화</td>\n",
       "      <td>['01범보다 무서운 곶감', '화자를 처음 만나 이야기를 들으러 왔다고 하자 서슴...</td>\n",
       "      <td>분노</td>\n",
       "      <td>당황</td>\n",
       "    </tr>\n",
       "    <tr>\n",
       "      <th>1</th>\n",
       "      <td>1</td>\n",
       "      <td>이야기꾼 구연설화</td>\n",
       "      <td>['&lt;봄꿩은 제 울음에 저 죽는다&gt;', '그 말과 같아서 사램이 잘못 되머넌 하는 ...</td>\n",
       "      <td>상처</td>\n",
       "      <td>분노</td>\n",
       "    </tr>\n",
       "    <tr>\n",
       "      <th>2</th>\n",
       "      <td>2</td>\n",
       "      <td>이야기꾼 구연설화</td>\n",
       "      <td>['그래 그 여자가 쪄서 쌀얼 쪄서 밥얼 했어.', '“잡수라.”구.', '그래 한...</td>\n",
       "      <td>상처</td>\n",
       "      <td>당황</td>\n",
       "    </tr>\n",
       "    <tr>\n",
       "      <th>3</th>\n",
       "      <td>3</td>\n",
       "      <td>이야기꾼 구연설화</td>\n",
       "      <td>['그랴. 그래 우리 인제 사춘 찾어간다는 얘기를 족~ 갈쳐중개,', '“그러시냐구...</td>\n",
       "      <td>상처</td>\n",
       "      <td>분노</td>\n",
       "    </tr>\n",
       "    <tr>\n",
       "      <th>4</th>\n",
       "      <td>4</td>\n",
       "      <td>이야기꾼 구연설화</td>\n",
       "      <td>['나와서 인제 그 집 먼지 인저 그, 그, 뭐여 면사무소 있는 디 나와서 인제, ...</td>\n",
       "      <td>상처</td>\n",
       "      <td>분노</td>\n",
       "    </tr>\n",
       "  </tbody>\n",
       "</table>\n",
       "</div>"
      ],
      "text/plain": [
       "   Unnamed: 0      title                                               text  \\\n",
       "0           0  이야기꾼 구연설화  ['01범보다 무서운 곶감', '화자를 처음 만나 이야기를 들으러 왔다고 하자 서슴...   \n",
       "1           1  이야기꾼 구연설화  ['<봄꿩은 제 울음에 저 죽는다>', '그 말과 같아서 사램이 잘못 되머넌 하는 ...   \n",
       "2           2  이야기꾼 구연설화  ['그래 그 여자가 쪄서 쌀얼 쪄서 밥얼 했어.', '“잡수라.”구.', '그래 한...   \n",
       "3           3  이야기꾼 구연설화  ['그랴. 그래 우리 인제 사춘 찾어간다는 얘기를 족~ 갈쳐중개,', '“그러시냐구...   \n",
       "4           4  이야기꾼 구연설화  ['나와서 인제 그 집 먼지 인저 그, 그, 뭐여 면사무소 있는 디 나와서 인제, ...   \n",
       "\n",
       "  top_sentiment second_sentiment  \n",
       "0            분노               당황  \n",
       "1            상처               분노  \n",
       "2            상처               당황  \n",
       "3            상처               분노  \n",
       "4            상처               분노  "
      ]
     },
     "execution_count": 28,
     "metadata": {},
     "output_type": "execute_result"
    }
   ],
   "source": [
    "novel_final.head()"
   ]
  },
  {
   "cell_type": "markdown",
   "metadata": {},
   "source": [
    "- 여기 참고해서 이어서 ㄱㄱ"
   ]
  },
  {
   "cell_type": "code",
   "execution_count": 29,
   "metadata": {},
   "outputs": [],
   "source": [
    "data = novel_final.copy()"
   ]
  },
  {
   "cell_type": "code",
   "execution_count": 30,
   "metadata": {},
   "outputs": [
    {
     "data": {
      "text/plain": [
       "Index(['Unnamed: 0', 'title', 'text', 'top_sentiment', 'second_sentiment'], dtype='object')"
      ]
     },
     "execution_count": 30,
     "metadata": {},
     "output_type": "execute_result"
    }
   ],
   "source": [
    "data.columns"
   ]
  },
  {
   "cell_type": "markdown",
   "metadata": {},
   "source": [
    "- 감정 : '상처', '불안', '기쁨', '슬픔', '분노', '당황'"
   ]
  },
  {
   "cell_type": "code",
   "execution_count": 31,
   "metadata": {},
   "outputs": [
    {
     "data": {
      "text/html": [
       "<style>#sk-container-id-1 {color: black;}#sk-container-id-1 pre{padding: 0;}#sk-container-id-1 div.sk-toggleable {background-color: white;}#sk-container-id-1 label.sk-toggleable__label {cursor: pointer;display: block;width: 100%;margin-bottom: 0;padding: 0.3em;box-sizing: border-box;text-align: center;}#sk-container-id-1 label.sk-toggleable__label-arrow:before {content: \"▸\";float: left;margin-right: 0.25em;color: #696969;}#sk-container-id-1 label.sk-toggleable__label-arrow:hover:before {color: black;}#sk-container-id-1 div.sk-estimator:hover label.sk-toggleable__label-arrow:before {color: black;}#sk-container-id-1 div.sk-toggleable__content {max-height: 0;max-width: 0;overflow: hidden;text-align: left;background-color: #f0f8ff;}#sk-container-id-1 div.sk-toggleable__content pre {margin: 0.2em;color: black;border-radius: 0.25em;background-color: #f0f8ff;}#sk-container-id-1 input.sk-toggleable__control:checked~div.sk-toggleable__content {max-height: 200px;max-width: 100%;overflow: auto;}#sk-container-id-1 input.sk-toggleable__control:checked~label.sk-toggleable__label-arrow:before {content: \"▾\";}#sk-container-id-1 div.sk-estimator input.sk-toggleable__control:checked~label.sk-toggleable__label {background-color: #d4ebff;}#sk-container-id-1 div.sk-label input.sk-toggleable__control:checked~label.sk-toggleable__label {background-color: #d4ebff;}#sk-container-id-1 input.sk-hidden--visually {border: 0;clip: rect(1px 1px 1px 1px);clip: rect(1px, 1px, 1px, 1px);height: 1px;margin: -1px;overflow: hidden;padding: 0;position: absolute;width: 1px;}#sk-container-id-1 div.sk-estimator {font-family: monospace;background-color: #f0f8ff;border: 1px dotted black;border-radius: 0.25em;box-sizing: border-box;margin-bottom: 0.5em;}#sk-container-id-1 div.sk-estimator:hover {background-color: #d4ebff;}#sk-container-id-1 div.sk-parallel-item::after {content: \"\";width: 100%;border-bottom: 1px solid gray;flex-grow: 1;}#sk-container-id-1 div.sk-label:hover label.sk-toggleable__label {background-color: #d4ebff;}#sk-container-id-1 div.sk-serial::before {content: \"\";position: absolute;border-left: 1px solid gray;box-sizing: border-box;top: 0;bottom: 0;left: 50%;z-index: 0;}#sk-container-id-1 div.sk-serial {display: flex;flex-direction: column;align-items: center;background-color: white;padding-right: 0.2em;padding-left: 0.2em;position: relative;}#sk-container-id-1 div.sk-item {position: relative;z-index: 1;}#sk-container-id-1 div.sk-parallel {display: flex;align-items: stretch;justify-content: center;background-color: white;position: relative;}#sk-container-id-1 div.sk-item::before, #sk-container-id-1 div.sk-parallel-item::before {content: \"\";position: absolute;border-left: 1px solid gray;box-sizing: border-box;top: 0;bottom: 0;left: 50%;z-index: -1;}#sk-container-id-1 div.sk-parallel-item {display: flex;flex-direction: column;z-index: 1;position: relative;background-color: white;}#sk-container-id-1 div.sk-parallel-item:first-child::after {align-self: flex-end;width: 50%;}#sk-container-id-1 div.sk-parallel-item:last-child::after {align-self: flex-start;width: 50%;}#sk-container-id-1 div.sk-parallel-item:only-child::after {width: 0;}#sk-container-id-1 div.sk-dashed-wrapped {border: 1px dashed gray;margin: 0 0.4em 0.5em 0.4em;box-sizing: border-box;padding-bottom: 0.4em;background-color: white;}#sk-container-id-1 div.sk-label label {font-family: monospace;font-weight: bold;display: inline-block;line-height: 1.2em;}#sk-container-id-1 div.sk-label-container {text-align: center;}#sk-container-id-1 div.sk-container {/* jupyter's `normalize.less` sets `[hidden] { display: none; }` but bootstrap.min.css set `[hidden] { display: none !important; }` so we also need the `!important` here to be able to override the default hidden behavior on the sphinx rendered scikit-learn.org. See: https://github.com/scikit-learn/scikit-learn/issues/21755 */display: inline-block !important;position: relative;}#sk-container-id-1 div.sk-text-repr-fallback {display: none;}</style><div id=\"sk-container-id-1\" class=\"sk-top-container\"><div class=\"sk-text-repr-fallback\"><pre>LabelEncoder()</pre><b>In a Jupyter environment, please rerun this cell to show the HTML representation or trust the notebook. <br />On GitHub, the HTML representation is unable to render, please try loading this page with nbviewer.org.</b></div><div class=\"sk-container\" hidden><div class=\"sk-item\"><div class=\"sk-estimator sk-toggleable\"><input class=\"sk-toggleable__control sk-hidden--visually\" id=\"sk-estimator-id-1\" type=\"checkbox\" checked><label for=\"sk-estimator-id-1\" class=\"sk-toggleable__label sk-toggleable__label-arrow\">LabelEncoder</label><div class=\"sk-toggleable__content\"><pre>LabelEncoder()</pre></div></div></div></div></div>"
      ],
      "text/plain": [
       "LabelEncoder()"
      ]
     },
     "execution_count": 31,
     "metadata": {},
     "output_type": "execute_result"
    }
   ],
   "source": [
    "from sklearn.preprocessing import LabelEncoder\n",
    "\n",
    "# 감정 카테고리\n",
    "emotions = ['상처', '불안', '기쁨', '슬픔', '분노', '당황']\n",
    "\n",
    "# LabelEncoder 초기화\n",
    "le = LabelEncoder()\n",
    "le.fit(emotions)"
   ]
  },
  {
   "cell_type": "code",
   "execution_count": 32,
   "metadata": {},
   "outputs": [
    {
     "data": {
      "text/plain": [
       "0    2 | 1 | ['01범보다 무서운 곶감', '화자를 처음 만나 이야기를 들으러 왔...\n",
       "1    4 | 2 | ['<봄꿩은 제 울음에 저 죽는다>', '그 말과 같아서 사램이 잘못...\n",
       "2    4 | 1 | ['그래 그 여자가 쪄서 쌀얼 쪄서 밥얼 했어.', '“잡수라.”구....\n",
       "3    4 | 2 | ['그랴. 그래 우리 인제 사춘 찾어간다는 얘기를 족~ 갈쳐중개,',...\n",
       "4    4 | 2 | ['나와서 인제 그 집 먼지 인저 그, 그, 뭐여 면사무소 있는 디 ...\n",
       "Name: input_text, dtype: object"
      ]
     },
     "execution_count": 32,
     "metadata": {},
     "output_type": "execute_result"
    }
   ],
   "source": [
    "# 감정1과 감정2를 숫자로 변환\n",
    "data['감정1_encoded'] = le.transform(data['top_sentiment'])\n",
    "data['감정2_encoded'] = le.transform(data['second_sentiment'])\n",
    "\n",
    "# 수치형 감정1, 감정2와 텍스트 결합\n",
    "data['input_text'] = data['감정1_encoded'].astype(str) + \" | \" + data['감정2_encoded'].astype(str) + \" | \" + data['text']\n",
    "\n",
    "data['input_text'].head()"
   ]
  },
  {
   "cell_type": "code",
   "execution_count": 33,
   "metadata": {},
   "outputs": [
    {
     "name": "stderr",
     "output_type": "stream",
     "text": [
      "The tokenizer class you load from this checkpoint is not the same type as the class this function is called from. It may result in unexpected tokenization. \n",
      "The tokenizer class you load from this checkpoint is 'GPT2Tokenizer'. \n",
      "The class this function is called from is 'PreTrainedTokenizerFast'.\n",
      "c:\\Users\\kimso\\anaconda3\\envs\\ailab\\lib\\site-packages\\transformers\\models\\auto\\modeling_auto.py:1833: FutureWarning: The class `AutoModelWithLMHead` is deprecated and will be removed in a future version. Please use `AutoModelForCausalLM` for causal language models, `AutoModelForMaskedLM` for masked language models and `AutoModelForSeq2SeqLM` for encoder-decoder models.\n",
      "  warnings.warn(\n"
     ]
    }
   ],
   "source": [
    "from transformers import PreTrainedTokenizerFast, AutoModelWithLMHead\n",
    "\n",
    "# KOGPT2 모델과 토크나이저 로드\n",
    "tokenizer = PreTrainedTokenizerFast.from_pretrained(\"skt/kogpt2-base-v2\",\n",
    "  bos_token='</s>', eos_token='</s>', unk_token='<unk>',\n",
    "  pad_token='<pad>', mask_token='<mask>') \n",
    "model = AutoModelWithLMHead.from_pretrained(\"skt/kogpt2-base-v2\")"
   ]
  },
  {
   "cell_type": "code",
   "execution_count": 35,
   "metadata": {},
   "outputs": [
    {
     "ename": "NameError",
     "evalue": "name 'Transform' is not defined",
     "output_type": "error",
     "traceback": [
      "\u001b[1;31m---------------------------------------------------------------------------\u001b[0m",
      "\u001b[1;31mNameError\u001b[0m                                 Traceback (most recent call last)",
      "Cell \u001b[1;32mIn[35], line 2\u001b[0m\n\u001b[0;32m      1\u001b[0m \u001b[38;5;66;03m# 데이터셋 클래스 정의\u001b[39;00m\n\u001b[1;32m----> 2\u001b[0m \u001b[38;5;28;01mclass\u001b[39;00m \u001b[38;5;21;01mTransformersTokenizer\u001b[39;00m(\u001b[43mTransform\u001b[49m):\n\u001b[0;32m      3\u001b[0m     \u001b[38;5;28;01mdef\u001b[39;00m \u001b[38;5;21m__init__\u001b[39m(\u001b[38;5;28mself\u001b[39m, tokenizer):\n\u001b[0;32m      4\u001b[0m         \u001b[38;5;28mself\u001b[39m\u001b[38;5;241m.\u001b[39mtokenizer \u001b[38;5;241m=\u001b[39m tokenizer\n",
      "\u001b[1;31mNameError\u001b[0m: name 'Transform' is not defined"
     ]
    }
   ],
   "source": [
    "# 데이터셋 클래스 정의\n",
    "class TransformersTokenizer(Transform):\n",
    "    def __init__(self, tokenizer):\n",
    "        self.tokenizer = tokenizer\n",
    "\n",
    "    def encodes(self, x): \n",
    "        # Tokenizing input text with padding and truncation\n",
    "        encodings = self.tokenizer(x, truncation=True, padding='max_length', max_length=256, return_tensors=\"pt\")\n",
    "        \n",
    "        # Extracting input_ids and attention_mask\n",
    "        input_ids = encodings['input_ids']\n",
    "        attention_mask = encodings['attention_mask']\n",
    "        \n",
    "        print(f\"Tokenized: {input_ids.shape} - {input_ids}\")\n",
    "        return input_ids.squeeze(0), attention_mask.squeeze(0)\n",
    "\n",
    "    def decodes(self, x):\n",
    "        return self.tokenizer.decode(x, skip_special_tokens=True)\n"
   ]
  },
  {
   "cell_type": "code",
   "execution_count": 15,
   "metadata": {},
   "outputs": [],
   "source": [
    "## 용량? 이슈로 잠시 조정..\n",
    "data = data[:int(len(data)*0.1)]"
   ]
  },
  {
   "cell_type": "code",
   "execution_count": 16,
   "metadata": {},
   "outputs": [
    {
     "name": "stdout",
     "output_type": "stream",
     "text": [
      "Tokenized: torch.Size([807, 256]) - tensor([[ 9045,   739,   466,  ..., 10912,   387, 12187],\n",
      "        [ 9130,   739,   466,  ...,  9338,  9236,  7756],\n",
      "        [ 9130,   739,   466,  ...,  6933, 19202, 18215],\n",
      "        ...,\n",
      "        [ 9085,   739,   466,  ...,  8148,  9225,  9939],\n",
      "        [10595,   739,   466,  ...,  9022, 37994,  9021],\n",
      "        [ 9085,   739,   466,  ..., 12295, 47043,  9025]])\n",
      "Tokenized: torch.Size([807, 256]) - tensor([[ 9045,   739,   466,  ..., 10912,   387, 12187],\n",
      "        [ 9130,   739,   466,  ...,  9338,  9236,  7756],\n",
      "        [ 9130,   739,   466,  ...,  6933, 19202, 18215],\n",
      "        ...,\n",
      "        [ 9085,   739,   466,  ...,  8148,  9225,  9939],\n",
      "        [10595,   739,   466,  ...,  9022, 37994,  9021],\n",
      "        [ 9085,   739,   466,  ..., 12295, 47043,  9025]])\n",
      "Tokenized: torch.Size([90, 256]) - tensor([[ 9143,   739,   466,  ..., 21596,  7312, 10480],\n",
      "        [10595,   739,   466,  ...,  9205,  9065,  8160],\n",
      "        [ 9085,   739,   466,  ...,  9394, 44903, 39057],\n",
      "        ...,\n",
      "        [ 9085,   739,   466,  ..., 31535, 11732,  9267],\n",
      "        [ 9085,   739,   466,  ..., 41079, 11688,  9712],\n",
      "        [10595,   739,   466,  ..., 30514, 12027,  7892]])\n"
     ]
    }
   ],
   "source": [
    "# 텍스트 데이터를 리스트 형태로 변환\n",
    "train = data['input_text'][:int(len(data)*0.9)].tolist()\n",
    "test = data['input_text'][int(len(data)*0.9):].tolist()\n",
    "\n",
    "splits = [[0],[1]]\n",
    "\n",
    "# DataLoader 초기화\n",
    "tls = TfmdLists([train,test], TransformersTokenizer(tokenizer), splits=splits, dl_type=LMDataLoader)\n",
    "batch,seq_len = 4, 64\n",
    "dls = tls.dataloaders(bs=batch, seq_len=seq_len)"
   ]
  },
  {
   "cell_type": "code",
   "execution_count": null,
   "metadata": {},
   "outputs": [
    {
     "data": {
      "text/html": [
       "\n",
       "<style>\n",
       "    /* Turns off some styling */\n",
       "    progress {\n",
       "        /* gets rid of default border in Firefox and Opera. */\n",
       "        border: none;\n",
       "        /* Needs to be in here for Safari polyfill so background images work as expected. */\n",
       "        background-size: auto;\n",
       "    }\n",
       "    progress:not([value]), progress:not([value])::-webkit-progress-bar {\n",
       "        background: repeating-linear-gradient(45deg, #7e7e7e, #7e7e7e 10px, #5c5c5c 10px, #5c5c5c 20px);\n",
       "    }\n",
       "    .progress-bar-interrupted, .progress-bar-interrupted::-webkit-progress-bar {\n",
       "        background: #F44336;\n",
       "    }\n",
       "</style>\n"
      ],
      "text/plain": [
       "<IPython.core.display.HTML object>"
      ]
     },
     "metadata": {},
     "output_type": "display_data"
    },
    {
     "data": {
      "text/html": [
       "\n",
       "    <div>\n",
       "      <progress value='0' class='' max='1' style='width:300px; height:20px; vertical-align: middle;'></progress>\n",
       "      0.00% [0/1 00:00&lt;?]\n",
       "    </div>\n",
       "    \n",
       "<table border=\"1\" class=\"dataframe\">\n",
       "  <thead>\n",
       "    <tr style=\"text-align: left;\">\n",
       "      <th>epoch</th>\n",
       "      <th>train_loss</th>\n",
       "      <th>valid_loss</th>\n",
       "      <th>perplexity</th>\n",
       "      <th>time</th>\n",
       "    </tr>\n",
       "  </thead>\n",
       "  <tbody>\n",
       "  </tbody>\n",
       "</table><p>\n",
       "\n",
       "    <div>\n",
       "      <progress value='0' class='' max='4' style='width:300px; height:20px; vertical-align: middle;'></progress>\n",
       "      0.00% [0/4 00:00&lt;?]\n",
       "    </div>\n",
       "    "
      ],
      "text/plain": [
       "<IPython.core.display.HTML object>"
      ]
     },
     "metadata": {},
     "output_type": "display_data"
    }
   ],
   "source": [
    "from fastai.text.all import Learner, CrossEntropyLossFlat, Perplexity, Callback\n",
    "\n",
    "# DataLoader와 모델 확인 후, Learner 초기화\n",
    "learn = Learner(dls, model, loss_func=CrossEntropyLossFlat(), metrics=Perplexity())\n",
    "\n",
    "# 모델 fine-tune\n",
    "learn.fine_tune(1)"
   ]
  },
  {
   "cell_type": "markdown",
   "metadata": {},
   "source": [
    "- test"
   ]
  },
  {
   "cell_type": "code",
   "execution_count": null,
   "metadata": {},
   "outputs": [],
   "source": [
    "# 감정1과 감정2를 숫자로 변환\n",
    "# LabelEncoder 초기화\n",
    "le = LabelEncoder()\n",
    "le.fit(emotions)\n",
    "\n",
    "lyrics_final['감정1_encoded'] = le.transform(lyrics_final['top_sentiment'])\n",
    "lyrics_final['감정2_encoded'] = le.transform(lyrics_final['second_sentiment'])\n"
   ]
  },
  {
   "cell_type": "code",
   "execution_count": null,
   "metadata": {},
   "outputs": [],
   "source": [
    "lyrics_final['감정1_encoded'][3]"
   ]
  },
  {
   "cell_type": "code",
   "execution_count": null,
   "metadata": {},
   "outputs": [],
   "source": [
    "## 숫자 고르기\n",
    "i = 3\n",
    "\n",
    "#final = lyrics_final[3]\n",
    "\n",
    "lyrics = \" \".join(lyrics_final[\"translated_lyrics\"][i])\n",
    "\n",
    "# 'translated_lyrics' 컬럼의 각 리스트 요소를 하나의 문자열로 합침\n",
    "prompt = lyrics_final['감정1_encoded'][i].astype(str) + \" | \" + lyrics_final['감정2_encoded'][i].astype(str) + \" | \" + lyrics\n",
    "prompt"
   ]
  },
  {
   "cell_type": "code",
   "execution_count": null,
   "metadata": {},
   "outputs": [],
   "source": [
    "prompt_ids = tokenizer.encode(prompt)\n",
    "inp = tensor(prompt_ids)[None].cuda()\n",
    "preds = learn.model.generate(inp,\n",
    "                           max_length=256,\n",
    "                           pad_token_id=tokenizer.pad_token_id,\n",
    "                           eos_token_id=tokenizer.eos_token_id,\n",
    "                           bos_token_id=tokenizer.bos_token_id,\n",
    "                           repetition_penalty=2.0,       \n",
    "                           use_cache=True\n",
    "                          ) \n",
    "tokenizer.decode(preds[0].cpu().numpy())"
   ]
  },
  {
   "cell_type": "code",
   "execution_count": null,
   "metadata": {},
   "outputs": [],
   "source": []
  }
 ],
 "metadata": {
  "kernelspec": {
   "display_name": "ailab",
   "language": "python",
   "name": "python3"
  },
  "language_info": {
   "codemirror_mode": {
    "name": "ipython",
    "version": 3
   },
   "file_extension": ".py",
   "mimetype": "text/x-python",
   "name": "python",
   "nbconvert_exporter": "python",
   "pygments_lexer": "ipython3",
   "version": "3.8.20"
  }
 },
 "nbformat": 4,
 "nbformat_minor": 2
}
